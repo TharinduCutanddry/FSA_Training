{
 "cells": [
  {
   "cell_type": "code",
   "execution_count": 2,
   "metadata": {
    "colab": {
     "base_uri": "https://localhost:8080/"
    },
    "id": "GThvzPu3i7PU",
    "outputId": "2ef91ad0-d3f9-482b-a331-89705a34d14e"
   },
   "outputs": [],
   "source": [
    "!pip install fasttext"
   ]
  },
  {
   "cell_type": "code",
   "execution_count": 3,
   "metadata": {
    "colab": {
     "base_uri": "https://localhost:8080/"
    },
    "id": "8nx7uE12t2zA",
    "outputId": "e9b2828e-8e1b-4f40-f4db-5fce94b4c661"
   },
   "outputs": [],
   "source": [
    "!pip install nltk"
   ]
  },
  {
   "cell_type": "code",
   "execution_count": 4,
   "metadata": {
    "colab": {
     "base_uri": "https://localhost:8080/"
    },
    "id": "IWlQSjc4ouKO",
    "outputId": "4fc0f899-3fc0-46af-9b18-42e8e199bd41"
   },
   "outputs": [],
   "source": [
    "# Mounting Drive\n",
    "from google.colab import drive\n",
    "drive.mount('/content/drive')"
   ]
  },
  {
   "cell_type": "code",
   "execution_count": 5,
   "metadata": {
    "id": "Pe_AtB8vd0V-"
   },
   "outputs": [],
   "source": [
    "# Importing libraries\n",
    "import pandas as pd\n",
    "import numpy as np\n",
    "import re"
   ]
  },
  {
   "cell_type": "code",
   "execution_count": 6,
   "metadata": {
    "colab": {
     "base_uri": "https://localhost:8080/",
     "height": 293
    },
    "id": "2mjybOOXorNF",
    "outputId": "2bc84f07-6cec-49e8-c593-876865127b52"
   },
   "outputs": [
    {
     "data": {
      "text/html": [
       "<div>\n",
       "<style scoped>\n",
       "    .dataframe tbody tr th:only-of-type {\n",
       "        vertical-align: middle;\n",
       "    }\n",
       "\n",
       "    .dataframe tbody tr th {\n",
       "        vertical-align: top;\n",
       "    }\n",
       "\n",
       "    .dataframe thead th {\n",
       "        text-align: right;\n",
       "    }\n",
       "</style>\n",
       "<table border=\"1\" class=\"dataframe\">\n",
       "  <thead>\n",
       "    <tr style=\"text-align: right;\">\n",
       "      <th></th>\n",
       "      <th>L0_Category</th>\n",
       "      <th>L1_Class</th>\n",
       "      <th>L2_Category</th>\n",
       "      <th>L3_Dictionary_SubCategory</th>\n",
       "      <th>L4_dictionarySubgroup</th>\n",
       "      <th>ProdName</th>\n",
       "      <th>ItemCode</th>\n",
       "      <th>Vendor</th>\n",
       "      <th>ProdType</th>\n",
       "    </tr>\n",
       "  </thead>\n",
       "  <tbody>\n",
       "    <tr>\n",
       "      <th>0</th>\n",
       "      <td>NaN</td>\n",
       "      <td>NaN</td>\n",
       "      <td>NaN</td>\n",
       "      <td>NaN</td>\n",
       "      <td>NaN</td>\n",
       "      <td>GROUND CHUCK FLAP 50% CHUCK NECK 50%</td>\n",
       "      <td>623</td>\n",
       "      <td>Golden Gate Meat Company</td>\n",
       "      <td>Canonical</td>\n",
       "    </tr>\n",
       "    <tr>\n",
       "      <th>1</th>\n",
       "      <td>Food</td>\n",
       "      <td>Food - Meat &amp; Game</td>\n",
       "      <td>Beef -- Ground &amp; Shapes</td>\n",
       "      <td>Beef (Bulk) - Ground</td>\n",
       "      <td>Beef Ground &gt;10% Fat (NAMP 136)</td>\n",
       "      <td>FINE GRIND BEEF TUBES 81/19 6/10#</td>\n",
       "      <td>624</td>\n",
       "      <td>Golden Gate Meat Company</td>\n",
       "      <td>Canonical</td>\n",
       "    </tr>\n",
       "    <tr>\n",
       "      <th>2</th>\n",
       "      <td>Food</td>\n",
       "      <td>Food - Meat &amp; Game</td>\n",
       "      <td>Beef - Foodservice Whole Cuts</td>\n",
       "      <td>Beef (Bulk) - Plate Cuts</td>\n",
       "      <td>Outside Skirt - Skinned (NAMP # 121E)</td>\n",
       "      <td>AUST OUTSIDE SKIRT PEELED SOLD BY CASE</td>\n",
       "      <td>1717</td>\n",
       "      <td>Golden Gate Meat Company</td>\n",
       "      <td>Canonical</td>\n",
       "    </tr>\n",
       "    <tr>\n",
       "      <th>3</th>\n",
       "      <td>Food</td>\n",
       "      <td>Food - Meat &amp; Game</td>\n",
       "      <td>Beef Deli &amp; Charcuterie</td>\n",
       "      <td>Beef - Deli &amp; Charcuterie</td>\n",
       "      <td>Beef Pastrami (NAMP # 611)</td>\n",
       "      <td>PASTRAMI - NEW YORK STYLE- SABRA</td>\n",
       "      <td>1820</td>\n",
       "      <td>Golden Gate Meat Company</td>\n",
       "      <td>Canonical</td>\n",
       "    </tr>\n",
       "    <tr>\n",
       "      <th>4</th>\n",
       "      <td>Food</td>\n",
       "      <td>Food - Meat &amp; Game</td>\n",
       "      <td>Beef Deli &amp; Charcuterie</td>\n",
       "      <td>Beef - Deli &amp; Charcuterie</td>\n",
       "      <td>Beef Pastrami (NAMP # 611)</td>\n",
       "      <td>PASTRAMI SLICED 5# BAGS (50# CASE)</td>\n",
       "      <td>1821</td>\n",
       "      <td>Golden Gate Meat Company</td>\n",
       "      <td>Canonical</td>\n",
       "    </tr>\n",
       "  </tbody>\n",
       "</table>\n",
       "</div>"
      ],
      "text/plain": [
       "  L0_Category            L1_Class                    L2_Category  \\\n",
       "0         NaN                 NaN                            NaN   \n",
       "1        Food  Food - Meat & Game        Beef -- Ground & Shapes   \n",
       "2        Food  Food - Meat & Game  Beef - Foodservice Whole Cuts   \n",
       "3        Food  Food - Meat & Game        Beef Deli & Charcuterie   \n",
       "4        Food  Food - Meat & Game        Beef Deli & Charcuterie   \n",
       "\n",
       "   L3_Dictionary_SubCategory                  L4_dictionarySubgroup  \\\n",
       "0                        NaN                                    NaN   \n",
       "1       Beef (Bulk) - Ground        Beef Ground >10% Fat (NAMP 136)   \n",
       "2   Beef (Bulk) - Plate Cuts  Outside Skirt - Skinned (NAMP # 121E)   \n",
       "3  Beef - Deli & Charcuterie             Beef Pastrami (NAMP # 611)   \n",
       "4  Beef - Deli & Charcuterie             Beef Pastrami (NAMP # 611)   \n",
       "\n",
       "                                 ProdName ItemCode                    Vendor  \\\n",
       "0    GROUND CHUCK FLAP 50% CHUCK NECK 50%      623  Golden Gate Meat Company   \n",
       "1       FINE GRIND BEEF TUBES 81/19 6/10#      624  Golden Gate Meat Company   \n",
       "2  AUST OUTSIDE SKIRT PEELED SOLD BY CASE     1717  Golden Gate Meat Company   \n",
       "3        PASTRAMI - NEW YORK STYLE- SABRA     1820  Golden Gate Meat Company   \n",
       "4      PASTRAMI SLICED 5# BAGS (50# CASE)     1821  Golden Gate Meat Company   \n",
       "\n",
       "    ProdType  \n",
       "0  Canonical  \n",
       "1  Canonical  \n",
       "2  Canonical  \n",
       "3  Canonical  \n",
       "4  Canonical  "
      ]
     },
     "execution_count": 6,
     "metadata": {},
     "output_type": "execute_result"
    }
   ],
   "source": [
    "# Load the dataset\n",
    "df = pd.read_csv('../../Datasets/fsa_prod_dump.csv', on_bad_lines='skip')\n",
    "df.head()"
   ]
  },
  {
   "cell_type": "code",
   "execution_count": 7,
   "metadata": {
    "id": "xsu9nAgLo9c_"
   },
   "outputs": [],
   "source": [
    "# Separate dataset into 4 dataset based on L0_Category\n",
    "# Preprocessing\n",
    "# Droppig missing values\n",
    "df = df.dropna(axis=0)\n",
    "\n",
    "# Drop duplicates\n",
    "df.drop_duplicates(keep='first', inplace=True)"
   ]
  },
  {
   "cell_type": "code",
   "execution_count": 8,
   "metadata": {
    "colab": {
     "base_uri": "https://localhost:8080/"
    },
    "id": "hJfeoKk3p34z",
    "outputId": "37665da8-2238-494f-9e06-4210b8a78b52"
   },
   "outputs": [
    {
     "data": {
      "text/plain": [
       "array(['Food', 'Administrative', 'Operationals', 'Beverage'], dtype=object)"
      ]
     },
     "execution_count": 8,
     "metadata": {},
     "output_type": "execute_result"
    }
   ],
   "source": [
    "df.L0_Category.unique()"
   ]
  },
  {
   "cell_type": "code",
   "execution_count": 9,
   "metadata": {
    "id": "EMNNILmhpLm8"
   },
   "outputs": [],
   "source": [
    "# Separate into 4 diffrent categories\n",
    "df_food = df[df['L0_Category']=='Food']\n",
    "df_administrative = df[df['L0_Category']=='Administrative']\n",
    "df_operationals = df[df['L0_Category']=='Operationals']\n",
    "df_beverage = df[df['L0_Category']=='Beverage']"
   ]
  },
  {
   "cell_type": "code",
   "execution_count": 10,
   "metadata": {
    "colab": {
     "base_uri": "https://localhost:8080/"
    },
    "id": "Z2rYL5UYpu4T",
    "outputId": "d01f85b0-9369-4028-b7bd-c1b4f18d1cca"
   },
   "outputs": [
    {
     "name": "stdout",
     "output_type": "stream",
     "text": [
      "['Food']\n",
      "['Administrative']\n",
      "['Operationals']\n",
      "['Beverage']\n"
     ]
    }
   ],
   "source": [
    "print(df_food.L0_Category.unique())\n",
    "print(df_administrative.L0_Category.unique())\n",
    "print(df_operationals.L0_Category.unique())\n",
    "print(df_beverage.L0_Category.unique())"
   ]
  },
  {
   "cell_type": "code",
   "execution_count": 11,
   "metadata": {
    "id": "0Q7QaP99qkNV"
   },
   "outputs": [],
   "source": [
    "# Save into four different csv\n",
    "df_food.to_csv('../../Datasets/food.csv', header=True, index=False)\n",
    "df_administrative.to_csv('../../Datasets/administrative.csv', header=True, index=False)\n",
    "df_operationals.to_csv('../../Datasets/operationals.csv', header=True, index=False)\n",
    "df_beverage.to_csv('../../Datasets/beverage.csv', header=True, index=False)"
   ]
  },
  {
   "cell_type": "markdown",
   "metadata": {
    "id": "pM0Z0unSrP1e"
   },
   "source": [
    "# **L4 Category**"
   ]
  },
  {
   "cell_type": "code",
   "execution_count": 12,
   "metadata": {
    "id": "7Pu9qxyorxKe"
   },
   "outputs": [],
   "source": [
    "# Preprocessing fuction for category\n",
    "def class_pre(text):\n",
    "  new_text = re.sub(r'&', 'and', text)\n",
    "  new_text = re.sub(r'[^\\w\\s]',' ', new_text)\n",
    "  new_text = re.sub(r' +', ' ', new_text)\n",
    "  new_text = re.sub(r'\\s', '_', new_text)\n",
    "  return new_text"
   ]
  },
  {
   "cell_type": "code",
   "execution_count": 13,
   "metadata": {
    "id": "ezKihCinuRX-"
   },
   "outputs": [],
   "source": [
    "# Replace all white spaces whith single space\n",
    "# Remove white spaces in begining and end of the text\n",
    "# Turn text into lower case\n",
    "\n",
    "# Preprocessing Function\n",
    "def preprocess(text):\n",
    "    text = re.sub(r'&', 'and', text)\n",
    "    text = re.sub(r'[^\\w\\s]',' ', text)\n",
    "    text = re.sub(' +', ' ', text)\n",
    "    return text.strip().lower()"
   ]
  },
  {
   "cell_type": "code",
   "execution_count": 14,
   "metadata": {
    "colab": {
     "base_uri": "https://localhost:8080/"
    },
    "id": "RJwMZxvNtptB",
    "outputId": "b9174319-f55e-4ee4-9d41-b953168e3b26"
   },
   "outputs": [],
   "source": [
    "# Cleaning function currently using\n",
    "# import nltk\n",
    "# from nltk.corpus import stopwords\n",
    "\n",
    "# # Download stopwords\n",
    "# nltk.download(\"stopwords\")"
   ]
  },
  {
   "cell_type": "code",
   "execution_count": 15,
   "metadata": {
    "id": "XCLqI45e9Lqv"
   },
   "outputs": [],
   "source": [
    "# Did a slight modification, convert & into and\n",
    "# Then removes extra whitespaces\n",
    "\n",
    "# def clean(string):\n",
    "#     string = re.sub('&', 'and ', string)\n",
    "#     raw_text = re.sub(\"[^a-zA-Z]+\", \" \", string)\n",
    "#     raw_text = re.sub(' +', ' ', raw_text)\n",
    "#     raw_text = raw_text.strip()\n",
    "#     words = raw_text.lower().split()\n",
    "#     stops = set(stopwords.words(\"english\"))\n",
    "#     meaningful_words = [\n",
    "#         word for word in words if ((not word in stops) and (len(word) >= 3))\n",
    "#     ]\n",
    "#     string = \" \".join(meaningful_words)\n",
    "#     return string"
   ]
  },
  {
   "cell_type": "markdown",
   "metadata": {
    "id": "CS5ZCCbjrSbC"
   },
   "source": [
    "## Beverage"
   ]
  },
  {
   "cell_type": "code",
   "execution_count": 16,
   "metadata": {
    "colab": {
     "base_uri": "https://localhost:8080/",
     "height": 293
    },
    "id": "sxKPlr4IrPHQ",
    "outputId": "1fb92080-d59a-4e53-9d5f-b0d56c7c6b84"
   },
   "outputs": [
    {
     "data": {
      "text/html": [
       "<div>\n",
       "<style scoped>\n",
       "    .dataframe tbody tr th:only-of-type {\n",
       "        vertical-align: middle;\n",
       "    }\n",
       "\n",
       "    .dataframe tbody tr th {\n",
       "        vertical-align: top;\n",
       "    }\n",
       "\n",
       "    .dataframe thead th {\n",
       "        text-align: right;\n",
       "    }\n",
       "</style>\n",
       "<table border=\"1\" class=\"dataframe\">\n",
       "  <thead>\n",
       "    <tr style=\"text-align: right;\">\n",
       "      <th></th>\n",
       "      <th>L0_Category</th>\n",
       "      <th>L1_Class</th>\n",
       "      <th>L2_Category</th>\n",
       "      <th>L3_Dictionary_SubCategory</th>\n",
       "      <th>L4_dictionarySubgroup</th>\n",
       "      <th>ProdName</th>\n",
       "      <th>ItemCode</th>\n",
       "      <th>Vendor</th>\n",
       "      <th>ProdType</th>\n",
       "    </tr>\n",
       "  </thead>\n",
       "  <tbody>\n",
       "    <tr>\n",
       "      <th>0</th>\n",
       "      <td>Beverage</td>\n",
       "      <td>Beverage - Bev-Alc</td>\n",
       "      <td>Beverage -- BevAlc - Spirits Incl Aperitifs</td>\n",
       "      <td>BevAlc - Cocktails RTD</td>\n",
       "      <td>Cocktails RTD</td>\n",
       "      <td>SALVADORS MARG STRAWBERRY 30 #</td>\n",
       "      <td>10003</td>\n",
       "      <td>Southern Glazer's Wine &amp; Spirits</td>\n",
       "      <td>Canonical</td>\n",
       "    </tr>\n",
       "    <tr>\n",
       "      <th>1</th>\n",
       "      <td>Beverage</td>\n",
       "      <td>Beverage - Bev-Alc</td>\n",
       "      <td>Beverage -- BevAlc - Wine Incl Sparkling</td>\n",
       "      <td>BevAlc - Wine - White</td>\n",
       "      <td>Wine - White - Pinot Grigio - Pinot Gris</td>\n",
       "      <td>VENDANGE PINOT GRIGIO</td>\n",
       "      <td>100039</td>\n",
       "      <td>Southern Glazer's Wine &amp; Spirits</td>\n",
       "      <td>Canonical</td>\n",
       "    </tr>\n",
       "    <tr>\n",
       "      <th>2</th>\n",
       "      <td>Beverage</td>\n",
       "      <td>Beverage - Bev-Alc</td>\n",
       "      <td>Beverage -- BevAlc - Wine Incl Sparkling</td>\n",
       "      <td>BevAlc - Wine - White</td>\n",
       "      <td>Wine - White - Chardonnay</td>\n",
       "      <td>VENDANGE CHARD (TETRA)</td>\n",
       "      <td>100041</td>\n",
       "      <td>Southern Glazer's Wine &amp; Spirits</td>\n",
       "      <td>Canonical</td>\n",
       "    </tr>\n",
       "    <tr>\n",
       "      <th>3</th>\n",
       "      <td>Beverage</td>\n",
       "      <td>Beverage - Bev-Alc</td>\n",
       "      <td>Beverage -- BevAlc - Spirits Incl Aperitifs</td>\n",
       "      <td>BevAlc - Cordials &amp; Liqeuers</td>\n",
       "      <td>Cordial-Liqueur-Flavored Brandy-Schnapps</td>\n",
       "      <td>H WALKER AMARETTO 50</td>\n",
       "      <td>10031</td>\n",
       "      <td>Southern Glazer's Wine &amp; Spirits</td>\n",
       "      <td>Canonical</td>\n",
       "    </tr>\n",
       "    <tr>\n",
       "      <th>4</th>\n",
       "      <td>Beverage</td>\n",
       "      <td>Beverage - Bev-Alc</td>\n",
       "      <td>Beverage -- BevAlc - Spirits Incl Aperitifs</td>\n",
       "      <td>BevAlc - Cordials &amp; Liqeuers</td>\n",
       "      <td>Cordial-Liqueur-Flavored Brandy-Schnapps</td>\n",
       "      <td>H WALKER AMARETTO 50</td>\n",
       "      <td>10032</td>\n",
       "      <td>Southern Glazer's Wine &amp; Spirits</td>\n",
       "      <td>Canonical</td>\n",
       "    </tr>\n",
       "  </tbody>\n",
       "</table>\n",
       "</div>"
      ],
      "text/plain": [
       "  L0_Category            L1_Class  \\\n",
       "0    Beverage  Beverage - Bev-Alc   \n",
       "1    Beverage  Beverage - Bev-Alc   \n",
       "2    Beverage  Beverage - Bev-Alc   \n",
       "3    Beverage  Beverage - Bev-Alc   \n",
       "4    Beverage  Beverage - Bev-Alc   \n",
       "\n",
       "                                   L2_Category     L3_Dictionary_SubCategory  \\\n",
       "0  Beverage -- BevAlc - Spirits Incl Aperitifs        BevAlc - Cocktails RTD   \n",
       "1     Beverage -- BevAlc - Wine Incl Sparkling         BevAlc - Wine - White   \n",
       "2     Beverage -- BevAlc - Wine Incl Sparkling         BevAlc - Wine - White   \n",
       "3  Beverage -- BevAlc - Spirits Incl Aperitifs  BevAlc - Cordials & Liqeuers   \n",
       "4  Beverage -- BevAlc - Spirits Incl Aperitifs  BevAlc - Cordials & Liqeuers   \n",
       "\n",
       "                      L4_dictionarySubgroup                        ProdName  \\\n",
       "0                             Cocktails RTD  SALVADORS MARG STRAWBERRY 30 #   \n",
       "1  Wine - White - Pinot Grigio - Pinot Gris           VENDANGE PINOT GRIGIO   \n",
       "2                 Wine - White - Chardonnay          VENDANGE CHARD (TETRA)   \n",
       "3  Cordial-Liqueur-Flavored Brandy-Schnapps            H WALKER AMARETTO 50   \n",
       "4  Cordial-Liqueur-Flavored Brandy-Schnapps            H WALKER AMARETTO 50   \n",
       "\n",
       "  ItemCode                            Vendor   ProdType  \n",
       "0    10003  Southern Glazer's Wine & Spirits  Canonical  \n",
       "1   100039  Southern Glazer's Wine & Spirits  Canonical  \n",
       "2   100041  Southern Glazer's Wine & Spirits  Canonical  \n",
       "3    10031  Southern Glazer's Wine & Spirits  Canonical  \n",
       "4    10032  Southern Glazer's Wine & Spirits  Canonical  "
      ]
     },
     "execution_count": 16,
     "metadata": {},
     "output_type": "execute_result"
    }
   ],
   "source": [
    "df = pd.read_csv('../../Datasets/beverage.csv')\n",
    "df.head()"
   ]
  },
  {
   "cell_type": "code",
   "execution_count": 17,
   "metadata": {
    "colab": {
     "base_uri": "https://localhost:8080/"
    },
    "id": "33ERLvljrbro",
    "outputId": "8652051c-4ef2-40bd-f899-d3413e206ed8"
   },
   "outputs": [
    {
     "data": {
      "text/plain": [
       "293"
      ]
     },
     "execution_count": 17,
     "metadata": {},
     "output_type": "execute_result"
    }
   ],
   "source": [
    "# Counting L4 Category classes\n",
    "len(df.L4_dictionarySubgroup.unique())"
   ]
  },
  {
   "cell_type": "code",
   "execution_count": 18,
   "metadata": {
    "colab": {
     "base_uri": "https://localhost:8080/"
    },
    "id": "xOAPg_3Ti1N6",
    "outputId": "b3404125-ee9a-426c-9eba-38e6229d918e"
   },
   "outputs": [
    {
     "name": "stdout",
     "output_type": "stream",
     "text": [
      "L4_dictionarySubgroup\n",
      "Juice Drink - Cherry                   14\n",
      "Cider                                  14\n",
      "Juice Drink - Pomegranate              14\n",
      "Shrubs                                 14\n",
      "Beverage Thickeners                    14\n",
      "                                       ..\n",
      "Assortment of Spirits                   1\n",
      "Juice - Green Types W/ or W/O Fruit     1\n",
      "Table (Still) - White                   1\n",
      "Juice - Unspecified                     1\n",
      "Table (Still) - Unspecified             1\n",
      "Name: count, Length: 64, dtype: int64\n"
     ]
    }
   ],
   "source": [
    "value_counts = df.L4_dictionarySubgroup.value_counts()\n",
    "filtered_counts = value_counts[value_counts < 15]\n",
    "print(filtered_counts)"
   ]
  },
  {
   "cell_type": "code",
   "execution_count": 19,
   "metadata": {
    "colab": {
     "base_uri": "https://localhost:8080/",
     "height": 430
    },
    "id": "gVb0Zt-xj3AY",
    "outputId": "04706f70-673d-4c18-fb27-fc80daea9da0"
   },
   "outputs": [],
   "source": [
    "# Check value counts in a plot\n",
    "# Import libraries\n",
    "# import matplotlib.pyplot as plt\n",
    "\n",
    "# # Get the values count\n",
    "# counts = df.L4_dictionarySubgroup.value_counts()\n",
    "\n",
    "\n",
    "# # Change the figure size\n",
    "# # fig = plt.figure(figsize=(10, 15))\n",
    "\n",
    "# for index, value in enumerate(counts.values):\n",
    "#     plt.text(value + 1, index, str(value))\n",
    "\n",
    "# plt.barh(counts.index, counts.values)\n",
    "# plt.show()"
   ]
  },
  {
   "cell_type": "code",
   "execution_count": 20,
   "metadata": {
    "colab": {
     "base_uri": "https://localhost:8080/"
    },
    "id": "iVyiWEefFU7b",
    "outputId": "00a5a5c5-e5ad-4d5a-8b8a-e5de6f8ce061"
   },
   "outputs": [
    {
     "data": {
      "text/plain": [
       "(42602, 9)"
      ]
     },
     "execution_count": 20,
     "metadata": {},
     "output_type": "execute_result"
    }
   ],
   "source": [
    "# Checking the number of data points\n",
    "df.shape"
   ]
  },
  {
   "cell_type": "code",
   "execution_count": 21,
   "metadata": {
    "id": "_DBXzQnLruUV"
   },
   "outputs": [],
   "source": [
    "# making the category\n",
    "df['L4'] = df['L4_dictionarySubgroup'].apply(class_pre)"
   ]
  },
  {
   "cell_type": "code",
   "execution_count": 22,
   "metadata": {
    "id": "XBRPUZdVr62-"
   },
   "outputs": [],
   "source": [
    "# Making the category using labels into format\n",
    "df['category'] = '__label__' + df['L4'].astype(str)"
   ]
  },
  {
   "cell_type": "code",
   "execution_count": 23,
   "metadata": {
    "id": "fcnITqhJr-Su"
   },
   "outputs": [],
   "source": [
    "# Dropping irrelavant columns\n",
    "columns = ['L0_Category', 'L4_dictionarySubgroup', 'ItemCode', 'Vendor', 'ProdType', 'L4']\n",
    "\n",
    "# Dropping\n",
    "df = df.drop(columns, axis=1)"
   ]
  },
  {
   "cell_type": "code",
   "execution_count": 24,
   "metadata": {
    "colab": {
     "base_uri": "https://localhost:8080/",
     "height": 206
    },
    "id": "DOr-P1qfsyhV",
    "outputId": "e16a4209-3351-413a-9ec9-facbdedd17ac"
   },
   "outputs": [
    {
     "data": {
      "text/html": [
       "<div>\n",
       "<style scoped>\n",
       "    .dataframe tbody tr th:only-of-type {\n",
       "        vertical-align: middle;\n",
       "    }\n",
       "\n",
       "    .dataframe tbody tr th {\n",
       "        vertical-align: top;\n",
       "    }\n",
       "\n",
       "    .dataframe thead th {\n",
       "        text-align: right;\n",
       "    }\n",
       "</style>\n",
       "<table border=\"1\" class=\"dataframe\">\n",
       "  <thead>\n",
       "    <tr style=\"text-align: right;\">\n",
       "      <th></th>\n",
       "      <th>L1_Class</th>\n",
       "      <th>L2_Category</th>\n",
       "      <th>L3_Dictionary_SubCategory</th>\n",
       "      <th>ProdName</th>\n",
       "      <th>category</th>\n",
       "    </tr>\n",
       "  </thead>\n",
       "  <tbody>\n",
       "    <tr>\n",
       "      <th>0</th>\n",
       "      <td>Beverage - Bev-Alc</td>\n",
       "      <td>Beverage -- BevAlc - Spirits Incl Aperitifs</td>\n",
       "      <td>BevAlc - Cocktails RTD</td>\n",
       "      <td>SALVADORS MARG STRAWBERRY 30 #</td>\n",
       "      <td>__label__Cocktails_RTD</td>\n",
       "    </tr>\n",
       "    <tr>\n",
       "      <th>1</th>\n",
       "      <td>Beverage - Bev-Alc</td>\n",
       "      <td>Beverage -- BevAlc - Wine Incl Sparkling</td>\n",
       "      <td>BevAlc - Wine - White</td>\n",
       "      <td>VENDANGE PINOT GRIGIO</td>\n",
       "      <td>__label__Wine_White_Pinot_Grigio_Pinot_Gris</td>\n",
       "    </tr>\n",
       "    <tr>\n",
       "      <th>2</th>\n",
       "      <td>Beverage - Bev-Alc</td>\n",
       "      <td>Beverage -- BevAlc - Wine Incl Sparkling</td>\n",
       "      <td>BevAlc - Wine - White</td>\n",
       "      <td>VENDANGE CHARD (TETRA)</td>\n",
       "      <td>__label__Wine_White_Chardonnay</td>\n",
       "    </tr>\n",
       "    <tr>\n",
       "      <th>3</th>\n",
       "      <td>Beverage - Bev-Alc</td>\n",
       "      <td>Beverage -- BevAlc - Spirits Incl Aperitifs</td>\n",
       "      <td>BevAlc - Cordials &amp; Liqeuers</td>\n",
       "      <td>H WALKER AMARETTO 50</td>\n",
       "      <td>__label__Cordial_Liqueur_Flavored_Brandy_Schnapps</td>\n",
       "    </tr>\n",
       "    <tr>\n",
       "      <th>4</th>\n",
       "      <td>Beverage - Bev-Alc</td>\n",
       "      <td>Beverage -- BevAlc - Spirits Incl Aperitifs</td>\n",
       "      <td>BevAlc - Cordials &amp; Liqeuers</td>\n",
       "      <td>H WALKER AMARETTO 50</td>\n",
       "      <td>__label__Cordial_Liqueur_Flavored_Brandy_Schnapps</td>\n",
       "    </tr>\n",
       "  </tbody>\n",
       "</table>\n",
       "</div>"
      ],
      "text/plain": [
       "             L1_Class                                  L2_Category  \\\n",
       "0  Beverage - Bev-Alc  Beverage -- BevAlc - Spirits Incl Aperitifs   \n",
       "1  Beverage - Bev-Alc     Beverage -- BevAlc - Wine Incl Sparkling   \n",
       "2  Beverage - Bev-Alc     Beverage -- BevAlc - Wine Incl Sparkling   \n",
       "3  Beverage - Bev-Alc  Beverage -- BevAlc - Spirits Incl Aperitifs   \n",
       "4  Beverage - Bev-Alc  Beverage -- BevAlc - Spirits Incl Aperitifs   \n",
       "\n",
       "      L3_Dictionary_SubCategory                        ProdName  \\\n",
       "0        BevAlc - Cocktails RTD  SALVADORS MARG STRAWBERRY 30 #   \n",
       "1         BevAlc - Wine - White           VENDANGE PINOT GRIGIO   \n",
       "2         BevAlc - Wine - White          VENDANGE CHARD (TETRA)   \n",
       "3  BevAlc - Cordials & Liqeuers            H WALKER AMARETTO 50   \n",
       "4  BevAlc - Cordials & Liqeuers            H WALKER AMARETTO 50   \n",
       "\n",
       "                                            category  \n",
       "0                             __label__Cocktails_RTD  \n",
       "1        __label__Wine_White_Pinot_Grigio_Pinot_Gris  \n",
       "2                     __label__Wine_White_Chardonnay  \n",
       "3  __label__Cordial_Liqueur_Flavored_Brandy_Schnapps  \n",
       "4  __label__Cordial_Liqueur_Flavored_Brandy_Schnapps  "
      ]
     },
     "execution_count": 24,
     "metadata": {},
     "output_type": "execute_result"
    }
   ],
   "source": [
    "df.head()"
   ]
  },
  {
   "cell_type": "code",
   "execution_count": 25,
   "metadata": {
    "id": "QoAqWKvQbIjG"
   },
   "outputs": [],
   "source": [
    "# Creating catehory description with producbt name and vendor\n",
    "# df['category_description'] = df['category'] + ' ' + df['L1_Class'] + ' ' + df['L2_Category'] + ' ' + df['L3_Dictionary_SubCategory'] + ' ' + df['ProdName']\n",
    "df['category_description'] = df['category'] + ' ' + df['L3_Dictionary_SubCategory'] + ' ' + df['ProdName']"
   ]
  },
  {
   "cell_type": "code",
   "execution_count": 26,
   "metadata": {
    "id": "gNyeTbvUtWVr"
   },
   "outputs": [],
   "source": [
    "# Drop used columns\n",
    "columns = ['L1_Class', 'L2_Category', 'L3_Dictionary_SubCategory', 'ProdName']\n",
    "\n",
    "df = df.drop(columns, axis=1)"
   ]
  },
  {
   "cell_type": "code",
   "execution_count": 27,
   "metadata": {
    "id": "3X_1xu2ntsZQ"
   },
   "outputs": [],
   "source": [
    "# Apply preprocessing function to 'category_description'\n",
    "\n",
    "df['category_description'] = df['category_description'].apply(preprocess)"
   ]
  },
  {
   "cell_type": "code",
   "execution_count": 28,
   "metadata": {
    "id": "iBUFgNZ3uYuq"
   },
   "outputs": [],
   "source": [
    "# Test Train splitting\n",
    "from sklearn.model_selection import train_test_split\n",
    "\n",
    "train, test = train_test_split(df, test_size=0.05, random_state=42)"
   ]
  },
  {
   "cell_type": "code",
   "execution_count": 29,
   "metadata": {
    "id": "JPDOFhzfuj6A"
   },
   "outputs": [],
   "source": [
    "# Save test and train dataset into two differnet files\n",
    "train.to_csv('beverage_train.train',\n",
    "             columns=[\"category_description\"],\n",
    "             index=False,\n",
    "             header=False)\n",
    "\n",
    "test.to_csv('beverage_test.train',\n",
    "             columns=[\"category_description\"],\n",
    "             index=False,\n",
    "             header=False)"
   ]
  },
  {
   "cell_type": "code",
   "execution_count": 30,
   "metadata": {
    "colab": {
     "base_uri": "https://localhost:8080/"
    },
    "id": "UkhbpQI5urCU",
    "outputId": "8b063ab7-912e-41ae-9220-d18bdcc2ddd6"
   },
   "outputs": [
    {
     "data": {
      "text/plain": [
       "(2131, 0.8366963866729236, 0.8366963866729236)"
      ]
     },
     "execution_count": 30,
     "metadata": {},
     "output_type": "execute_result"
    }
   ],
   "source": [
    "# Fast text model\n",
    "import fasttext\n",
    "\n",
    "model = fasttext.train_supervised(input='beverage_train.train',\n",
    "                                  dim=300,\n",
    "                                  loss='hs',\n",
    "                                  wordNgrams=2,\n",
    "                                  lr=0.55,\n",
    "                                  ws=15,\n",
    "                                  minn=3,\n",
    "                                  maxn=5)\n",
    "\n",
    "model.test('beverage_test.train')"
   ]
  },
  {
   "cell_type": "code",
   "execution_count": 38,
   "metadata": {
    "colab": {
     "base_uri": "https://localhost:8080/"
    },
    "id": "xXyi091U4w4k",
    "outputId": "c5ca331a-0d7c-40e2-9b99-98f53c7606ed"
   },
   "outputs": [
    {
     "data": {
      "text/plain": [
       "(('__label__coffee_caffeinated_ground_bulk',\n",
       "  '__label__coffee_decaf_ground_bulk',\n",
       "  '__label__sport',\n",
       "  '__label__wine_white_chardonnay',\n",
       "  '__label__all_other_fruit_syrups'),\n",
       " array([0.93172371, 0.03631743, 0.00522844, 0.00479805, 0.00477747]))"
      ]
     },
     "execution_count": 38,
     "metadata": {},
     "output_type": "execute_result"
    }
   ],
   "source": [
    "text = 'NA-Beverage - Coffee -- Ground - Bag or Bulk\tILLY DRIP Large coffe (RALEY#'\n",
    "text = preprocess(text)\n",
    "model.predict(text, k=5)\n",
    "# Correct class - DNA-Beverage - Coffee -- Ground - Bag or Bulk"
   ]
  },
  {
   "cell_type": "code",
   "execution_count": 32,
   "metadata": {
    "id": "iHmBbYhK9chT"
   },
   "outputs": [],
   "source": [
    "model.save_model('../../Models/L4/Beverage/tuned_model.bin')"
   ]
  },
  {
   "cell_type": "markdown",
   "metadata": {
    "id": "Q5biYmki1UOy"
   },
   "source": [
    "Selecting datapoints with for prediction"
   ]
  },
  {
   "cell_type": "code",
   "execution_count": 33,
   "metadata": {
    "colab": {
     "base_uri": "https://localhost:8080/",
     "height": 293
    },
    "id": "XeriPVB51a_T",
    "outputId": "46c00a00-64ee-4218-ef70-12acc644c5e4"
   },
   "outputs": [
    {
     "data": {
      "text/html": [
       "<div>\n",
       "<style scoped>\n",
       "    .dataframe tbody tr th:only-of-type {\n",
       "        vertical-align: middle;\n",
       "    }\n",
       "\n",
       "    .dataframe tbody tr th {\n",
       "        vertical-align: top;\n",
       "    }\n",
       "\n",
       "    .dataframe thead th {\n",
       "        text-align: right;\n",
       "    }\n",
       "</style>\n",
       "<table border=\"1\" class=\"dataframe\">\n",
       "  <thead>\n",
       "    <tr style=\"text-align: right;\">\n",
       "      <th></th>\n",
       "      <th>L0_Category</th>\n",
       "      <th>L1_Class</th>\n",
       "      <th>L2_Category</th>\n",
       "      <th>L3_Dictionary_SubCategory</th>\n",
       "      <th>L4_dictionarySubgroup</th>\n",
       "      <th>ProdName</th>\n",
       "      <th>ItemCode</th>\n",
       "      <th>Vendor</th>\n",
       "      <th>ProdType</th>\n",
       "    </tr>\n",
       "  </thead>\n",
       "  <tbody>\n",
       "    <tr>\n",
       "      <th>0</th>\n",
       "      <td>Beverage</td>\n",
       "      <td>Beverage - Bev-Alc</td>\n",
       "      <td>Beverage -- BevAlc - Spirits Incl Aperitifs</td>\n",
       "      <td>BevAlc - Cocktails RTD</td>\n",
       "      <td>Cocktails RTD</td>\n",
       "      <td>SALVADORS MARG STRAWBERRY 30 #</td>\n",
       "      <td>10003</td>\n",
       "      <td>Southern Glazer's Wine &amp; Spirits</td>\n",
       "      <td>Canonical</td>\n",
       "    </tr>\n",
       "    <tr>\n",
       "      <th>1</th>\n",
       "      <td>Beverage</td>\n",
       "      <td>Beverage - Bev-Alc</td>\n",
       "      <td>Beverage -- BevAlc - Wine Incl Sparkling</td>\n",
       "      <td>BevAlc - Wine - White</td>\n",
       "      <td>Wine - White - Pinot Grigio - Pinot Gris</td>\n",
       "      <td>VENDANGE PINOT GRIGIO</td>\n",
       "      <td>100039</td>\n",
       "      <td>Southern Glazer's Wine &amp; Spirits</td>\n",
       "      <td>Canonical</td>\n",
       "    </tr>\n",
       "    <tr>\n",
       "      <th>2</th>\n",
       "      <td>Beverage</td>\n",
       "      <td>Beverage - Bev-Alc</td>\n",
       "      <td>Beverage -- BevAlc - Wine Incl Sparkling</td>\n",
       "      <td>BevAlc - Wine - White</td>\n",
       "      <td>Wine - White - Chardonnay</td>\n",
       "      <td>VENDANGE CHARD (TETRA)</td>\n",
       "      <td>100041</td>\n",
       "      <td>Southern Glazer's Wine &amp; Spirits</td>\n",
       "      <td>Canonical</td>\n",
       "    </tr>\n",
       "    <tr>\n",
       "      <th>3</th>\n",
       "      <td>Beverage</td>\n",
       "      <td>Beverage - Bev-Alc</td>\n",
       "      <td>Beverage -- BevAlc - Spirits Incl Aperitifs</td>\n",
       "      <td>BevAlc - Cordials &amp; Liqeuers</td>\n",
       "      <td>Cordial-Liqueur-Flavored Brandy-Schnapps</td>\n",
       "      <td>H WALKER AMARETTO 50</td>\n",
       "      <td>10031</td>\n",
       "      <td>Southern Glazer's Wine &amp; Spirits</td>\n",
       "      <td>Canonical</td>\n",
       "    </tr>\n",
       "    <tr>\n",
       "      <th>4</th>\n",
       "      <td>Beverage</td>\n",
       "      <td>Beverage - Bev-Alc</td>\n",
       "      <td>Beverage -- BevAlc - Spirits Incl Aperitifs</td>\n",
       "      <td>BevAlc - Cordials &amp; Liqeuers</td>\n",
       "      <td>Cordial-Liqueur-Flavored Brandy-Schnapps</td>\n",
       "      <td>H WALKER AMARETTO 50</td>\n",
       "      <td>10032</td>\n",
       "      <td>Southern Glazer's Wine &amp; Spirits</td>\n",
       "      <td>Canonical</td>\n",
       "    </tr>\n",
       "  </tbody>\n",
       "</table>\n",
       "</div>"
      ],
      "text/plain": [
       "  L0_Category            L1_Class  \\\n",
       "0    Beverage  Beverage - Bev-Alc   \n",
       "1    Beverage  Beverage - Bev-Alc   \n",
       "2    Beverage  Beverage - Bev-Alc   \n",
       "3    Beverage  Beverage - Bev-Alc   \n",
       "4    Beverage  Beverage - Bev-Alc   \n",
       "\n",
       "                                   L2_Category     L3_Dictionary_SubCategory  \\\n",
       "0  Beverage -- BevAlc - Spirits Incl Aperitifs        BevAlc - Cocktails RTD   \n",
       "1     Beverage -- BevAlc - Wine Incl Sparkling         BevAlc - Wine - White   \n",
       "2     Beverage -- BevAlc - Wine Incl Sparkling         BevAlc - Wine - White   \n",
       "3  Beverage -- BevAlc - Spirits Incl Aperitifs  BevAlc - Cordials & Liqeuers   \n",
       "4  Beverage -- BevAlc - Spirits Incl Aperitifs  BevAlc - Cordials & Liqeuers   \n",
       "\n",
       "                      L4_dictionarySubgroup                        ProdName  \\\n",
       "0                             Cocktails RTD  SALVADORS MARG STRAWBERRY 30 #   \n",
       "1  Wine - White - Pinot Grigio - Pinot Gris           VENDANGE PINOT GRIGIO   \n",
       "2                 Wine - White - Chardonnay          VENDANGE CHARD (TETRA)   \n",
       "3  Cordial-Liqueur-Flavored Brandy-Schnapps            H WALKER AMARETTO 50   \n",
       "4  Cordial-Liqueur-Flavored Brandy-Schnapps            H WALKER AMARETTO 50   \n",
       "\n",
       "  ItemCode                            Vendor   ProdType  \n",
       "0    10003  Southern Glazer's Wine & Spirits  Canonical  \n",
       "1   100039  Southern Glazer's Wine & Spirits  Canonical  \n",
       "2   100041  Southern Glazer's Wine & Spirits  Canonical  \n",
       "3    10031  Southern Glazer's Wine & Spirits  Canonical  \n",
       "4    10032  Southern Glazer's Wine & Spirits  Canonical  "
      ]
     },
     "execution_count": 33,
     "metadata": {},
     "output_type": "execute_result"
    }
   ],
   "source": [
    "sample = pd.read_csv('../../Datasets/beverage.csv')\n",
    "sample.head()"
   ]
  },
  {
   "cell_type": "code",
   "execution_count": 34,
   "metadata": {
    "id": "udgrnjWE1pOt"
   },
   "outputs": [],
   "source": [
    "drop_columns = ['L0_Category', 'L1_Class', 'L2_Category', 'ItemCode', 'Vendor', 'ProdType']\n",
    "sample = sample.drop(drop_columns, axis=1)"
   ]
  },
  {
   "cell_type": "code",
   "execution_count": 35,
   "metadata": {
    "colab": {
     "base_uri": "https://localhost:8080/",
     "height": 363
    },
    "id": "oNqKWPce2Adm",
    "outputId": "6551aaeb-9226-4e51-efed-0e72a821e02c"
   },
   "outputs": [
    {
     "data": {
      "text/html": [
       "<div>\n",
       "<style scoped>\n",
       "    .dataframe tbody tr th:only-of-type {\n",
       "        vertical-align: middle;\n",
       "    }\n",
       "\n",
       "    .dataframe tbody tr th {\n",
       "        vertical-align: top;\n",
       "    }\n",
       "\n",
       "    .dataframe thead th {\n",
       "        text-align: right;\n",
       "    }\n",
       "</style>\n",
       "<table border=\"1\" class=\"dataframe\">\n",
       "  <thead>\n",
       "    <tr style=\"text-align: right;\">\n",
       "      <th></th>\n",
       "      <th>L3_Dictionary_SubCategory</th>\n",
       "      <th>L4_dictionarySubgroup</th>\n",
       "      <th>ProdName</th>\n",
       "    </tr>\n",
       "  </thead>\n",
       "  <tbody>\n",
       "    <tr>\n",
       "      <th>0</th>\n",
       "      <td>BevAlc - Cocktails RTD</td>\n",
       "      <td>Cocktails RTD</td>\n",
       "      <td>SALVADORS MARG STRAWBERRY 30 #</td>\n",
       "    </tr>\n",
       "    <tr>\n",
       "      <th>1</th>\n",
       "      <td>BevAlc - Wine - White</td>\n",
       "      <td>Wine - White - Pinot Grigio - Pinot Gris</td>\n",
       "      <td>VENDANGE PINOT GRIGIO</td>\n",
       "    </tr>\n",
       "    <tr>\n",
       "      <th>2</th>\n",
       "      <td>BevAlc - Wine - White</td>\n",
       "      <td>Wine - White - Chardonnay</td>\n",
       "      <td>VENDANGE CHARD (TETRA)</td>\n",
       "    </tr>\n",
       "    <tr>\n",
       "      <th>3</th>\n",
       "      <td>BevAlc - Cordials &amp; Liqeuers</td>\n",
       "      <td>Cordial-Liqueur-Flavored Brandy-Schnapps</td>\n",
       "      <td>H WALKER AMARETTO 50</td>\n",
       "    </tr>\n",
       "    <tr>\n",
       "      <th>4</th>\n",
       "      <td>BevAlc - Cordials &amp; Liqeuers</td>\n",
       "      <td>Cordial-Liqueur-Flavored Brandy-Schnapps</td>\n",
       "      <td>H WALKER AMARETTO 50</td>\n",
       "    </tr>\n",
       "    <tr>\n",
       "      <th>5</th>\n",
       "      <td>BevAlc - Cocktails RTD</td>\n",
       "      <td>Cocktails RTD</td>\n",
       "      <td>REAL SANGRIA RED BIB</td>\n",
       "    </tr>\n",
       "    <tr>\n",
       "      <th>6</th>\n",
       "      <td>BevAlc - Cordials &amp; Liqeuers</td>\n",
       "      <td>Cordial-Liqueur-Flavored Brandy-Schnapps</td>\n",
       "      <td>H WALKER ANISETTE 60</td>\n",
       "    </tr>\n",
       "    <tr>\n",
       "      <th>7</th>\n",
       "      <td>BevAlc - Cordials &amp; Liqeuers</td>\n",
       "      <td>Cordial-Liqueur-Flavored Brandy-Schnapps</td>\n",
       "      <td>H WALKER ANISETTE 60</td>\n",
       "    </tr>\n",
       "    <tr>\n",
       "      <th>8</th>\n",
       "      <td>BevAlc - Cordials &amp; Liqeuers</td>\n",
       "      <td>Cordial-Liqueur-Flavored Brandy-Schnapps</td>\n",
       "      <td>H WALKER BLACK RASPBERRY LIQ 33</td>\n",
       "    </tr>\n",
       "    <tr>\n",
       "      <th>9</th>\n",
       "      <td>BevAlc - Brandy &amp; Cognacs</td>\n",
       "      <td>Cognac-Brandy-Armagnac-Etc</td>\n",
       "      <td>H WALKER BLACKBERRY BRANDY 70</td>\n",
       "    </tr>\n",
       "  </tbody>\n",
       "</table>\n",
       "</div>"
      ],
      "text/plain": [
       "      L3_Dictionary_SubCategory                     L4_dictionarySubgroup  \\\n",
       "0        BevAlc - Cocktails RTD                             Cocktails RTD   \n",
       "1         BevAlc - Wine - White  Wine - White - Pinot Grigio - Pinot Gris   \n",
       "2         BevAlc - Wine - White                 Wine - White - Chardonnay   \n",
       "3  BevAlc - Cordials & Liqeuers  Cordial-Liqueur-Flavored Brandy-Schnapps   \n",
       "4  BevAlc - Cordials & Liqeuers  Cordial-Liqueur-Flavored Brandy-Schnapps   \n",
       "5        BevAlc - Cocktails RTD                             Cocktails RTD   \n",
       "6  BevAlc - Cordials & Liqeuers  Cordial-Liqueur-Flavored Brandy-Schnapps   \n",
       "7  BevAlc - Cordials & Liqeuers  Cordial-Liqueur-Flavored Brandy-Schnapps   \n",
       "8  BevAlc - Cordials & Liqeuers  Cordial-Liqueur-Flavored Brandy-Schnapps   \n",
       "9     BevAlc - Brandy & Cognacs                Cognac-Brandy-Armagnac-Etc   \n",
       "\n",
       "                          ProdName  \n",
       "0   SALVADORS MARG STRAWBERRY 30 #  \n",
       "1            VENDANGE PINOT GRIGIO  \n",
       "2           VENDANGE CHARD (TETRA)  \n",
       "3             H WALKER AMARETTO 50  \n",
       "4             H WALKER AMARETTO 50  \n",
       "5             REAL SANGRIA RED BIB  \n",
       "6             H WALKER ANISETTE 60  \n",
       "7             H WALKER ANISETTE 60  \n",
       "8  H WALKER BLACK RASPBERRY LIQ 33  \n",
       "9    H WALKER BLACKBERRY BRANDY 70  "
      ]
     },
     "execution_count": 35,
     "metadata": {},
     "output_type": "execute_result"
    }
   ],
   "source": [
    "sample.head(10)"
   ]
  },
  {
   "cell_type": "code",
   "execution_count": 36,
   "metadata": {
    "colab": {
     "base_uri": "https://localhost:8080/"
    },
    "id": "MDJTYwcw2AYe",
    "outputId": "ac51243f-3059-4833-a317-f5a47e7283da"
   },
   "outputs": [
    {
     "name": "stdout",
     "output_type": "stream",
     "text": [
      "Cocktails RTD\n",
      "Wine - White - Pinot Grigio - Pinot Gris\n",
      "Wine - White - Chardonnay\n",
      "Cordial-Liqueur-Flavored Brandy-Schnapps\n",
      "Cognac-Brandy-Armagnac-Etc\n",
      "Gin\n",
      "Rum and Cachaca\n",
      "Whiskey - Scotch\n",
      "Wine - White - Other Single Varietals\n",
      "Wine - Red - Pinot Noir\n",
      "Wine - Red - Other Single Varietals\n",
      "Wine - White - Riesling\n",
      "Wine - Red - Blend - Meritage\n",
      "Port Wine\n",
      "Wine - Red - Cabernet Sauvignon\n",
      "Wine - Red - Merlot\n",
      "Vodka\n",
      "Wine - Red - Chianti\n",
      "Wine - Champagne - Sparkling - Prosecco\n",
      "Beer - Ale Excl Stout & IPA\n",
      "Cocktail Mixes - Blender - Frozen Bev\n",
      "Tequila and Mezcal\n",
      "Juice Drink Sparkling - Citrus Flavors\n",
      "Wine - White - Sauvignon Blanc\n",
      "Sherry\n",
      "Table (Still) - Rose\n",
      "Vodka - Flavors\n",
      "Whiskey - Irish\n",
      "Wine - Red - Malbec\n",
      "Whiskey - Bourbon\n",
      "Aperitifs\n",
      "Whiskey - Canadian\n",
      "Wine - White Zinfandel\n",
      "Wine - Red - Tempranillo\n",
      "Wine - Red - Shiraz - Syrah\n",
      "Coffee - Caffeinated Ground Bulk\n",
      "Grenadine\n",
      "Sour Mixes - Lemon or Lime\n",
      "Sparkling Water\n",
      "Beer - Lager - Pilsner\n",
      "Wine - White - Chablis\n",
      "Plum Wine\n",
      "Wine - White - Blend\n",
      "Beer - Lager Excl Pilsner\n",
      "Beer- Ale - Stout\n",
      "Beer - Ale - IPA\n",
      "Cocktail Mixes - Non-Blender\n",
      "Sake\n",
      "Lambic\n",
      "Cocktail Mixes - Margarita\n",
      "Whiskey - Rye\n",
      "Wine - Red - Sangiovese\n",
      "Still Water\n",
      "Fortified Wine Excl Port & Sherry\n",
      "Assortment of Spirits\n",
      "Cocktail Mixes - Bloody Mary - Maria\n",
      "Wine - Red - Zinfandel\n",
      "Wine - Dessert Wines Incl Ice Wines & Sauternes\n",
      "Digestifs\n",
      "Whiskey - Blend\n",
      "Whiskey - Other (Japanese - Indian - Australian - etc)\n",
      "Tea Bags - Herbal\n",
      "All Other Tea Bulk Leaf\n",
      "Rooibos Incl Red Bush Tea - Tea Bags\n",
      "Green Tea Incl Matcha - Tea Bags\n",
      "Iced Tea Specific Tea Bags\n",
      "Black Tea Incl Earl Grey & English Breakfast - Tea Bags\n",
      "Club Sodas\n",
      "Cherry Syrup\n",
      "Sparkling Water - Flavored\n",
      "All Other Tea Bags\n",
      "Simple Syrup\n",
      "Chamomile - Tea Bags\n",
      "Tonic Water\n",
      "Ginger Ales & Ginger Beers (Non Alcoholic)\n",
      "Cider - Apple\n",
      "Table (Still) - Red\n",
      "Bitters - Tinctures - All Other Non-Syrup Flavorings\n",
      "Energy and Alertness\n",
      "Whiskey - American Single Malt (not Scotch)\n",
      "Wine - White - Viogner\n",
      "Root Beer and Birch Beer\n",
      "All Other Fruit Syrups\n",
      "Almond - Hazelnut - Orgeat - Amaretto Syrups\n",
      "Table (Still) - Unspecified\n",
      "Iced Tea Bulk Leaf\n",
      "Mint Tea - Tea Bags\n",
      "Other Spirit\n",
      "Whiskey - Tennessee\n",
      "Whiskey - American (not single malt)\n",
      "Coffee - Caffeinated Ground - Single Portioned - K Cups - Pods - Capsules - etc\n",
      "Coffee - Decaf Ground - Single Portioned - K Cups - Pods - Capsules - etc\n",
      "Orange Soda\n",
      "Lemon Lime Sodas\n",
      "Hard - Spiked Soda and Seltzer\n",
      "Juice Drink Sparkling - Mixed Fruits\n",
      "Whiskey - American Moonshine\n",
      "Mixed Fermentation Beer\n",
      "Glass Rimmers - Flavored\n",
      "All Other Beverage Flavoring\n",
      "Whiskey - Flavored (all types)\n",
      "Ades - RTD Pink Lemonade\n",
      "Berry Syrups\n",
      "Oolong Tea - Tea Bags\n",
      "Ades - RTD Flavored Lemonade\n",
      "Table (Still) - White\n",
      "Cider\n",
      "Passion Fruit - Pomegranate - Kiwi - Lychee Syrups\n",
      "Iced Tea - Flavoured\n",
      "Shrubs\n",
      "Juice - Clam and Tomato\n",
      "Ades - Concentrate - Powder or Syrup (Not BIB) - Lemonade\n",
      "Coffee - Caffeinated Whole Bean\n",
      "Frappe - Blended Coffee Drinks RTD\n",
      "Coffee - Decaf Ground - Portioned - All Other\n",
      "Coffee - Caffeinated Ground - Portioned - All Other\n",
      "Cocoa - Individual Packets\n",
      "Cocoa\n",
      "Coffee - Decaf Ground Bulk\n",
      "Coffee - Caffeinated Concentrates and Bases - Individual Packets\n",
      "Iced Tea\n",
      "Coffee - Caffeinated Concentrates and Bases\n",
      "Coffee - Decaf Concentrates and Bases\n",
      "Iced Tea Pods - FracPacks - Etc\n",
      "Chai - Tea Bags\n",
      "Tea Bag Assortments\n",
      "Chai and Matcha Tea Concentrates - Mixes - Instants Etc\n",
      "Juice - Orange\n",
      "Juice Concentrate - Orange\n",
      "Juice - Lime\n",
      "Juice - Lemon\n",
      "Ades - RTD Lemonade\n",
      "Juice - Grapefruit\n",
      "Caffeinated Cappuccino - Latte - Mocha - Etc Concentrates and Bases\n",
      "Liquid or Powdered Soft Drink Mix - Individual\n",
      "Liquid or Powdered Soft Drink Mix - Bulk\n",
      "Chocolate Syrup\n",
      "Caramel - Butterscotch Syrups\n",
      "Juice Concentrate - Apple\n",
      "Juice Concentrate - Cranberry\n",
      "Orange - Lemon - Lime Syrups\n",
      "Vanilla Syrup\n",
      "Banana & Coconut Syrups\n",
      "Peach - Plum - Nectarine Syrups\n",
      "Cinnamon - Pumpkin - Coffee Syrups\n",
      "Mango Syrup\n",
      "Mint Syrup\n",
      "Sport\n",
      "Colas - Syrup\n",
      "Colas - Syrup - Diet\n",
      "Sparkling Ades - Lemon - Lime\n",
      "Dr. Pepper or Mr. Pibb Style\n",
      "All Other Tea Concentrates - Mixes - Instants Etc\n",
      "Juice - Pineapple\n",
      "Juice - Apple\n",
      "Juice Drink - Apple\n",
      "Juice Drink - Cranberry\n",
      "Juice Drink Concentrate - Cranberry\n",
      "Juice Drink - Peach\n",
      "Coconut Water\n",
      "Juice - Yuzu\n",
      "Juice Drink Concentrate - Mixed Fruits\n",
      "Juice - Grape\n",
      "Juice Drink - Mixed Fruits\n",
      "Juice Drink - Mango\n",
      "Nectars\n",
      "Juice - Mixed Flavors\n",
      "Juice - Cranberry\n",
      "Coffee - Caffeinated RTD\n",
      "Juice - Mixed Berry\n",
      "Juice Drink Sparkling - All Other Fruits\n",
      "Juice Drink Sparkling - Berry Flavors\n",
      "Juice - Pomegranate\n",
      "Juice - Prune\n",
      "Juice - Tomato\n",
      "Juice - Mixed Vegetable\n",
      "Kombucha\n",
      "Still Water - Flavored\n",
      "Citrus (not Lemon Lime or Orange) Sodas\n",
      "Colas - RTD - Diet\n",
      "Colas - RTD - Regular\n",
      "Fruit Sodas Excl Citrus\n",
      "Cream Soda\n",
      "Grape Soda\n",
      "Smoothies - RTD\n",
      "Dysphagia (Thickened) Beverages (Not water)\n",
      "Dysphagia Water\n",
      "Protein - Mix - Bulk\n",
      "Enhanced Water (Electrolyte / Oxygenated / Hydrogen / Vitamin Etc) - Non Flavored\n",
      "Vitamin or Other Supplement Enhanced Beverage (Vitamin Water - Electrolytes added - etc)\n",
      "Juice Concentrate - Lemon\n",
      "Punches\n",
      "Juice - Clam\n",
      "Juice Concentrate - Clam\n",
      "Juice - Beet\n",
      "Seltzers\n",
      "Decaf Tea Concentrates - Mixes - Instants Etc\n",
      "Juice - Green Types W/ or W/O Fruit\n",
      "Juice - Carrot\n",
      "Juice Concentrate - Pineapple\n",
      "Juice Drink - Berry\n",
      "Juice - Orange - Blood\n",
      "Juice Concentrate - Mixed Flavors\n",
      "Juice Concentrate - Pomegranate\n",
      "Frappe - Blended Coffee Drinks - Mix (Dry or Liquid Concentrate)\n",
      "Smoothies - Mix\n",
      "Ades - Concentrate - Powder or Syrup (Not BIB) - Pink Lemonade\n",
      "Juice Concentrate - Grape\n",
      "All Other Flavored Sodas\n",
      "Caffeinated Cappuccino - Latte - Mocha - Etc RTD\n",
      "Protein - RTD\n",
      "Coffee - Decaf Whole Bean\n",
      "Tea BIB\n",
      "Decaf Tea Bags\n",
      "Juice Drink - Grape\n",
      "Flavored Malt Beverage\n",
      "Coffee - Decaf RTD\n",
      "Nutritional Beverages - All Forms inc Feeding Tube\n",
      "All Other Tea Pods - FracPaks - Etc\n",
      "Juice Drink - All Other Fruits\n",
      "Decaf Tea Pods - FracPaks - Etc\n",
      "Juice Drink - Grapefruit\n",
      "Coffee - Decaf Concentrates and Bases - Individual Packets\n",
      "Juice - Fruit Punch (100% Juice)\n",
      "Juice - Mango\n",
      "Shots - Wellness and Immunity\n",
      "Juice Drink - Lemon\n",
      "Water Enhancers\n",
      "Decaf Cappuccino - Latte - Mocha - Etc Concentrates and Bases\n",
      "Juice Drink - Assorted Flavors\n",
      "Juice Drink Concentrate - All Other Fruits\n",
      "Juice Drink - Pineapple\n",
      "Juice Concentrate - All Other Fruits\n",
      "Juice Concentrate - Lime\n",
      "Juice Drink - Orange\n",
      "Juice Drink - Cherry\n",
      "Ades - Concentrate - Powder or Syrup (Not BIB) - Flavored Lemonade\n",
      "Juice - Ginger\n",
      "Ades - All Other Lemonade\n",
      "Juice Drink - Lime\n",
      "Juice Drink - Strawberry\n",
      "Juice Drink Concentrate - Lime\n",
      "Meal Replacement Weight Loss Beverages - All Forms\n",
      "Shakes - Base - Mix - RTD\n",
      "Juice - Watermelon\n",
      "Juice - Cherry\n",
      "Juice - Lemon - Portion Control\n",
      "Floral & Herb Syrups\n",
      "Juice - Orange Tangerine\n",
      "Irish Cream Syrup\n",
      "Tapioca - Sago - Flavor Pearls (aka Popping Pearls or Bursting Boba)\n",
      "Fruit Jellies (for Boba or Milk Tea)\n",
      "Juice - Unspecified\n",
      "Juice - Tangerine\n",
      "Juice - Peach\n",
      "Juice Drink - Pomegranate\n",
      "Juice - Acai\n",
      "Juice - Papaya\n",
      "Juice - Guava\n",
      "Juice - Pear\n",
      "Sour Mix\n",
      "All Other Tea RTD\n",
      "Decaf Tea RTD Incl Iced - Flavored - Sparkling\n",
      "Additives & Supplements\n",
      "Supplement Drinks (NOT Clinical Drinks) - RTD\n",
      "Soft Drink\n",
      "Vinegar Based Drinks\n",
      "Juice Drinks - All Other\n",
      "Beverage Thickeners\n",
      "Specialty (Electrolyte - Oxygenated - Hydrogen - Etc)\n",
      "Juice - Coconut\n",
      "Protein - Mix - Single Serve Packets\n",
      "Chai Tea - Tea Bags\n",
      "Decaf Tea Bulk Leaf\n",
      "Juice - Lychee\n",
      "Simple Syrup - Flavored\n",
      "Juice Drink Sparkling - Assorted\n",
      "Tea Bags - Yerba Mate\n",
      "Juice - Mixed Vegetables Excl V-8\n",
      "Hard Agua Fresca\n",
      "Juice Drink - Branded Style\n",
      "Sodas - RTD - Variety Packs\n",
      "Hemp and CBD Beverages - RTD\n",
      "Shots - Energy and Alertness\n",
      "All Other Water\n",
      "Juice Concentrate - Grapefruit\n",
      "Tarot Powder\n",
      "Mocktails - RTD\n",
      "Drink Supplement\n",
      "Bubble Tea - RTD\n",
      "Caffeinated Cappuccino - Latte - Mocha - Etc Ground Bulk\n",
      "Mead\n",
      "Caffeinated Cappuccino - Latte - Mocha - Etc Ground - Portioned\n"
     ]
    }
   ],
   "source": [
    "uniques = sample.L4_dictionarySubgroup.unique()\n",
    "for unique in uniques:\n",
    "  print(unique)"
   ]
  },
  {
   "cell_type": "code",
   "execution_count": 37,
   "metadata": {
    "colab": {
     "base_uri": "https://localhost:8080/",
     "height": 206
    },
    "id": "fAaJyJhy2e56",
    "outputId": "717f71bd-0567-4e28-e09c-d57ce93602d5"
   },
   "outputs": [
    {
     "data": {
      "text/html": [
       "<div>\n",
       "<style scoped>\n",
       "    .dataframe tbody tr th:only-of-type {\n",
       "        vertical-align: middle;\n",
       "    }\n",
       "\n",
       "    .dataframe tbody tr th {\n",
       "        vertical-align: top;\n",
       "    }\n",
       "\n",
       "    .dataframe thead th {\n",
       "        text-align: right;\n",
       "    }\n",
       "</style>\n",
       "<table border=\"1\" class=\"dataframe\">\n",
       "  <thead>\n",
       "    <tr style=\"text-align: right;\">\n",
       "      <th></th>\n",
       "      <th>L3_Dictionary_SubCategory</th>\n",
       "      <th>L4_dictionarySubgroup</th>\n",
       "      <th>ProdName</th>\n",
       "    </tr>\n",
       "  </thead>\n",
       "  <tbody>\n",
       "    <tr>\n",
       "      <th>160</th>\n",
       "      <td>NA-Beverage - Coffee -- Ground - Bag or Bulk</td>\n",
       "      <td>Coffee - Caffeinated Ground Bulk</td>\n",
       "      <td>ILLY DRIP GR CAN 250GR 494 (RALEY#</td>\n",
       "    </tr>\n",
       "    <tr>\n",
       "      <th>727</th>\n",
       "      <td>NA-Beverage - Coffee -- Ground - Bag or Bulk</td>\n",
       "      <td>Coffee - Caffeinated Ground Bulk</td>\n",
       "      <td>ILLY REG GRD CN 250GR 489(RALEYS)#</td>\n",
       "    </tr>\n",
       "    <tr>\n",
       "      <th>8851</th>\n",
       "      <td>NA-Beverage - Coffee -- Ground - Bag or Bulk</td>\n",
       "      <td>Coffee - Caffeinated Ground Bulk</td>\n",
       "      <td>Coffee Ground Drip House Blend</td>\n",
       "    </tr>\n",
       "    <tr>\n",
       "      <th>8852</th>\n",
       "      <td>NA-Beverage - Coffee -- Ground - Bag or Bulk</td>\n",
       "      <td>Coffee - Caffeinated Ground Bulk</td>\n",
       "      <td>Coffee Ground Drip Major Dickason</td>\n",
       "    </tr>\n",
       "    <tr>\n",
       "      <th>8856</th>\n",
       "      <td>NA-Beverage - Coffee -- Ground - Bag or Bulk</td>\n",
       "      <td>Coffee - Caffeinated Ground Bulk</td>\n",
       "      <td>Coffee Ground Cafe Domingo</td>\n",
       "    </tr>\n",
       "  </tbody>\n",
       "</table>\n",
       "</div>"
      ],
      "text/plain": [
       "                         L3_Dictionary_SubCategory  \\\n",
       "160   NA-Beverage - Coffee -- Ground - Bag or Bulk   \n",
       "727   NA-Beverage - Coffee -- Ground - Bag or Bulk   \n",
       "8851  NA-Beverage - Coffee -- Ground - Bag or Bulk   \n",
       "8852  NA-Beverage - Coffee -- Ground - Bag or Bulk   \n",
       "8856  NA-Beverage - Coffee -- Ground - Bag or Bulk   \n",
       "\n",
       "                 L4_dictionarySubgroup                            ProdName  \n",
       "160   Coffee - Caffeinated Ground Bulk  ILLY DRIP GR CAN 250GR 494 (RALEY#  \n",
       "727   Coffee - Caffeinated Ground Bulk  ILLY REG GRD CN 250GR 489(RALEYS)#  \n",
       "8851  Coffee - Caffeinated Ground Bulk      Coffee Ground Drip House Blend  \n",
       "8852  Coffee - Caffeinated Ground Bulk   Coffee Ground Drip Major Dickason  \n",
       "8856  Coffee - Caffeinated Ground Bulk          Coffee Ground Cafe Domingo  "
      ]
     },
     "execution_count": 37,
     "metadata": {},
     "output_type": "execute_result"
    }
   ],
   "source": [
    "sample_test = sample[sample['L4_dictionarySubgroup']=='Coffee - Caffeinated Ground Bulk']\n",
    "sample_test.head()"
   ]
  },
  {
   "cell_type": "markdown",
   "metadata": {
    "id": "fRQjjn-rOueQ"
   },
   "source": [
    "### **Lable preprocessing Function**"
   ]
  },
  {
   "cell_type": "markdown",
   "metadata": {},
   "source": [
    "This will remove the unwanted parts from the predicted lable and return the lable in much readable manner"
   ]
  },
  {
   "cell_type": "code",
   "execution_count": null,
   "metadata": {
    "colab": {
     "base_uri": "https://localhost:8080/"
    },
    "id": "7BFrwiXNTz6E",
    "outputId": "eebbac0a-e767-4c28-a1f4-7e1bcb1a14a2"
   },
   "outputs": [],
   "source": [
    "prediction = model.predict(text)\n",
    "print(prediction[0][0])"
   ]
  },
  {
   "cell_type": "code",
   "execution_count": null,
   "metadata": {
    "id": "9fOj1dBIOtZR"
   },
   "outputs": [],
   "source": [
    "# This function process the prediction by getting the input\n",
    "def get_lable(text):\n",
    "  # Processing the text\n",
    "  text = preprocess(text)\n",
    "  # Get the prediction\n",
    "  prediction = model.predict(text)\n",
    "  return prediction[0][0]"
   ]
  },
  {
   "cell_type": "code",
   "execution_count": null,
   "metadata": {
    "colab": {
     "base_uri": "https://localhost:8080/"
    },
    "id": "Xz3VIUFUUEc7",
    "outputId": "edf0dff0-0a4a-4e8e-f81f-fc148a034197"
   },
   "outputs": [],
   "source": [
    "from_func = get_lable(text)\n",
    "print(from_func)"
   ]
  },
  {
   "cell_type": "code",
   "execution_count": null,
   "metadata": {
    "id": "LXbat28UZDwy"
   },
   "outputs": [],
   "source": [
    "# Function to preprocess the lable\n",
    "def label_processing(label):\n",
    "  label = re.sub('__label__', '', label)\n",
    "  label = re.sub('_', ' ', label)\n",
    "  label = re.sub(' +', ' ', label)\n",
    "  return label.strip().lower()"
   ]
  },
  {
   "cell_type": "code",
   "execution_count": null,
   "metadata": {
    "colab": {
     "base_uri": "https://localhost:8080/"
    },
    "id": "Uub6Ok-qaQID",
    "outputId": "6b2e0632-e416-41e9-e5a3-2ff45d5d44d9"
   },
   "outputs": [],
   "source": [
    "print(label_processing(from_func))"
   ]
  }
 ],
 "metadata": {
  "colab": {
   "provenance": []
  },
  "kernelspec": {
   "display_name": "Python 3 (ipykernel)",
   "language": "python",
   "name": "python3"
  },
  "language_info": {
   "codemirror_mode": {
    "name": "ipython",
    "version": 3
   },
   "file_extension": ".py",
   "mimetype": "text/x-python",
   "name": "python",
   "nbconvert_exporter": "python",
   "pygments_lexer": "ipython3",
   "version": "3.9.17"
  }
 },
 "nbformat": 4,
 "nbformat_minor": 4
}
