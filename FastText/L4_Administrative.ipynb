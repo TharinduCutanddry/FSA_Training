{
 "cells": [
  {
   "cell_type": "code",
   "execution_count": 2,
   "metadata": {
    "colab": {
     "base_uri": "https://localhost:8080/"
    },
    "id": "GThvzPu3i7PU",
    "outputId": "2ef91ad0-d3f9-482b-a331-89705a34d14e"
   },
   "outputs": [],
   "source": [
    "!pip install fasttext"
   ]
  },
  {
   "cell_type": "code",
   "execution_count": 3,
   "metadata": {
    "colab": {
     "base_uri": "https://localhost:8080/"
    },
    "id": "8nx7uE12t2zA",
    "outputId": "e9b2828e-8e1b-4f40-f4db-5fce94b4c661"
   },
   "outputs": [],
   "source": [
    "!pip install nltk"
   ]
  },
  {
   "cell_type": "code",
   "execution_count": 4,
   "metadata": {
    "colab": {
     "base_uri": "https://localhost:8080/"
    },
    "id": "IWlQSjc4ouKO",
    "outputId": "4fc0f899-3fc0-46af-9b18-42e8e199bd41"
   },
   "outputs": [],
   "source": [
    "# Mounting Drive\n",
    "from google.colab import drive\n",
    "drive.mount('/content/drive')"
   ]
  },
  {
   "cell_type": "code",
   "execution_count": 5,
   "metadata": {
    "id": "Pe_AtB8vd0V-"
   },
   "outputs": [],
   "source": [
    "# Importing libraries\n",
    "import pandas as pd\n",
    "import numpy as np\n",
    "import re"
   ]
  },
  {
   "cell_type": "code",
   "execution_count": 6,
   "metadata": {
    "colab": {
     "base_uri": "https://localhost:8080/",
     "height": 293
    },
    "id": "2mjybOOXorNF",
    "outputId": "2bc84f07-6cec-49e8-c593-876865127b52"
   },
   "outputs": [
    {
     "data": {
      "text/html": [
       "<div>\n",
       "<style scoped>\n",
       "    .dataframe tbody tr th:only-of-type {\n",
       "        vertical-align: middle;\n",
       "    }\n",
       "\n",
       "    .dataframe tbody tr th {\n",
       "        vertical-align: top;\n",
       "    }\n",
       "\n",
       "    .dataframe thead th {\n",
       "        text-align: right;\n",
       "    }\n",
       "</style>\n",
       "<table border=\"1\" class=\"dataframe\">\n",
       "  <thead>\n",
       "    <tr style=\"text-align: right;\">\n",
       "      <th></th>\n",
       "      <th>L0_Category</th>\n",
       "      <th>L1_Class</th>\n",
       "      <th>L2_Category</th>\n",
       "      <th>L3_Dictionary_SubCategory</th>\n",
       "      <th>L4_dictionarySubgroup</th>\n",
       "      <th>ProdName</th>\n",
       "      <th>ItemCode</th>\n",
       "      <th>Vendor</th>\n",
       "      <th>ProdType</th>\n",
       "    </tr>\n",
       "  </thead>\n",
       "  <tbody>\n",
       "    <tr>\n",
       "      <th>0</th>\n",
       "      <td>NaN</td>\n",
       "      <td>NaN</td>\n",
       "      <td>NaN</td>\n",
       "      <td>NaN</td>\n",
       "      <td>NaN</td>\n",
       "      <td>GROUND CHUCK FLAP 50% CHUCK NECK 50%</td>\n",
       "      <td>623</td>\n",
       "      <td>Golden Gate Meat Company</td>\n",
       "      <td>Canonical</td>\n",
       "    </tr>\n",
       "    <tr>\n",
       "      <th>1</th>\n",
       "      <td>Food</td>\n",
       "      <td>Food - Meat &amp; Game</td>\n",
       "      <td>Beef -- Ground &amp; Shapes</td>\n",
       "      <td>Beef (Bulk) - Ground</td>\n",
       "      <td>Beef Ground &gt;10% Fat (NAMP 136)</td>\n",
       "      <td>FINE GRIND BEEF TUBES 81/19 6/10#</td>\n",
       "      <td>624</td>\n",
       "      <td>Golden Gate Meat Company</td>\n",
       "      <td>Canonical</td>\n",
       "    </tr>\n",
       "    <tr>\n",
       "      <th>2</th>\n",
       "      <td>Food</td>\n",
       "      <td>Food - Meat &amp; Game</td>\n",
       "      <td>Beef - Foodservice Whole Cuts</td>\n",
       "      <td>Beef (Bulk) - Plate Cuts</td>\n",
       "      <td>Outside Skirt - Skinned (NAMP # 121E)</td>\n",
       "      <td>AUST OUTSIDE SKIRT PEELED SOLD BY CASE</td>\n",
       "      <td>1717</td>\n",
       "      <td>Golden Gate Meat Company</td>\n",
       "      <td>Canonical</td>\n",
       "    </tr>\n",
       "    <tr>\n",
       "      <th>3</th>\n",
       "      <td>Food</td>\n",
       "      <td>Food - Meat &amp; Game</td>\n",
       "      <td>Beef Deli &amp; Charcuterie</td>\n",
       "      <td>Beef - Deli &amp; Charcuterie</td>\n",
       "      <td>Beef Pastrami (NAMP # 611)</td>\n",
       "      <td>PASTRAMI - NEW YORK STYLE- SABRA</td>\n",
       "      <td>1820</td>\n",
       "      <td>Golden Gate Meat Company</td>\n",
       "      <td>Canonical</td>\n",
       "    </tr>\n",
       "    <tr>\n",
       "      <th>4</th>\n",
       "      <td>Food</td>\n",
       "      <td>Food - Meat &amp; Game</td>\n",
       "      <td>Beef Deli &amp; Charcuterie</td>\n",
       "      <td>Beef - Deli &amp; Charcuterie</td>\n",
       "      <td>Beef Pastrami (NAMP # 611)</td>\n",
       "      <td>PASTRAMI SLICED 5# BAGS (50# CASE)</td>\n",
       "      <td>1821</td>\n",
       "      <td>Golden Gate Meat Company</td>\n",
       "      <td>Canonical</td>\n",
       "    </tr>\n",
       "  </tbody>\n",
       "</table>\n",
       "</div>"
      ],
      "text/plain": [
       "  L0_Category            L1_Class                    L2_Category  \\\n",
       "0         NaN                 NaN                            NaN   \n",
       "1        Food  Food - Meat & Game        Beef -- Ground & Shapes   \n",
       "2        Food  Food - Meat & Game  Beef - Foodservice Whole Cuts   \n",
       "3        Food  Food - Meat & Game        Beef Deli & Charcuterie   \n",
       "4        Food  Food - Meat & Game        Beef Deli & Charcuterie   \n",
       "\n",
       "   L3_Dictionary_SubCategory                  L4_dictionarySubgroup  \\\n",
       "0                        NaN                                    NaN   \n",
       "1       Beef (Bulk) - Ground        Beef Ground >10% Fat (NAMP 136)   \n",
       "2   Beef (Bulk) - Plate Cuts  Outside Skirt - Skinned (NAMP # 121E)   \n",
       "3  Beef - Deli & Charcuterie             Beef Pastrami (NAMP # 611)   \n",
       "4  Beef - Deli & Charcuterie             Beef Pastrami (NAMP # 611)   \n",
       "\n",
       "                                 ProdName ItemCode                    Vendor  \\\n",
       "0    GROUND CHUCK FLAP 50% CHUCK NECK 50%      623  Golden Gate Meat Company   \n",
       "1       FINE GRIND BEEF TUBES 81/19 6/10#      624  Golden Gate Meat Company   \n",
       "2  AUST OUTSIDE SKIRT PEELED SOLD BY CASE     1717  Golden Gate Meat Company   \n",
       "3        PASTRAMI - NEW YORK STYLE- SABRA     1820  Golden Gate Meat Company   \n",
       "4      PASTRAMI SLICED 5# BAGS (50# CASE)     1821  Golden Gate Meat Company   \n",
       "\n",
       "    ProdType  \n",
       "0  Canonical  \n",
       "1  Canonical  \n",
       "2  Canonical  \n",
       "3  Canonical  \n",
       "4  Canonical  "
      ]
     },
     "execution_count": 6,
     "metadata": {},
     "output_type": "execute_result"
    }
   ],
   "source": [
    "# Load the dataset\n",
    "df = pd.read_csv('../../Datasets/fsa_prod_dump.csv', on_bad_lines='skip')\n",
    "df.head()"
   ]
  },
  {
   "cell_type": "code",
   "execution_count": 7,
   "metadata": {
    "id": "xsu9nAgLo9c_"
   },
   "outputs": [],
   "source": [
    "# Separate dataset into 4 dataset based on L0_Category\n",
    "# Preprocessing\n",
    "# Droppig missing values\n",
    "df = df.dropna(axis=0)\n",
    "\n",
    "# Drop duplicates\n",
    "df.drop_duplicates(keep='first', inplace=True)"
   ]
  },
  {
   "cell_type": "code",
   "execution_count": 8,
   "metadata": {
    "colab": {
     "base_uri": "https://localhost:8080/"
    },
    "id": "hJfeoKk3p34z",
    "outputId": "37665da8-2238-494f-9e06-4210b8a78b52"
   },
   "outputs": [
    {
     "data": {
      "text/plain": [
       "array(['Food', 'Administrative', 'Operationals', 'Beverage'], dtype=object)"
      ]
     },
     "execution_count": 8,
     "metadata": {},
     "output_type": "execute_result"
    }
   ],
   "source": [
    "df.L0_Category.unique()"
   ]
  },
  {
   "cell_type": "code",
   "execution_count": 9,
   "metadata": {
    "id": "EMNNILmhpLm8"
   },
   "outputs": [],
   "source": [
    "# Separate into 4 diffrent categories\n",
    "df_food = df[df['L0_Category']=='Food']\n",
    "df_administrative = df[df['L0_Category']=='Administrative']\n",
    "df_operationals = df[df['L0_Category']=='Operationals']\n",
    "df_beverage = df[df['L0_Category']=='Beverage']"
   ]
  },
  {
   "cell_type": "code",
   "execution_count": 10,
   "metadata": {
    "colab": {
     "base_uri": "https://localhost:8080/"
    },
    "id": "Z2rYL5UYpu4T",
    "outputId": "d01f85b0-9369-4028-b7bd-c1b4f18d1cca"
   },
   "outputs": [
    {
     "name": "stdout",
     "output_type": "stream",
     "text": [
      "['Food']\n",
      "['Administrative']\n",
      "['Operationals']\n",
      "['Beverage']\n"
     ]
    }
   ],
   "source": [
    "print(df_food.L0_Category.unique())\n",
    "print(df_administrative.L0_Category.unique())\n",
    "print(df_operationals.L0_Category.unique())\n",
    "print(df_beverage.L0_Category.unique())"
   ]
  },
  {
   "cell_type": "code",
   "execution_count": 11,
   "metadata": {
    "id": "0Q7QaP99qkNV"
   },
   "outputs": [],
   "source": [
    "# Save into four different csv\n",
    "df_food.to_csv('../../Datasets/food.csv', header=True, index=False)\n",
    "df_administrative.to_csv('../../Datasets/administrative.csv', header=True, index=False)\n",
    "df_operationals.to_csv('../../Datasets/operationals.csv', header=True, index=False)\n",
    "df_beverage.to_csv('../../Datasets/beverage.csv', header=True, index=False)"
   ]
  },
  {
   "cell_type": "markdown",
   "metadata": {
    "id": "pM0Z0unSrP1e"
   },
   "source": [
    "# **L4 Category**"
   ]
  },
  {
   "cell_type": "code",
   "execution_count": 12,
   "metadata": {
    "id": "7Pu9qxyorxKe"
   },
   "outputs": [],
   "source": [
    "# Preprocessing fuction for category\n",
    "def class_pre(text):\n",
    "  new_text = re.sub(r'&', 'and', text)\n",
    "  new_text = re.sub(r'[^\\w\\s]',' ', new_text)\n",
    "  new_text = re.sub(r' +', ' ', new_text)\n",
    "  new_text = re.sub(r'\\s', '_', new_text)\n",
    "  return new_text"
   ]
  },
  {
   "cell_type": "code",
   "execution_count": 13,
   "metadata": {
    "id": "ezKihCinuRX-"
   },
   "outputs": [],
   "source": [
    "# Replace all white spaces whith single space\n",
    "# Remove white spaces in begining and end of the text\n",
    "# Turn text into lower case\n",
    "\n",
    "# Preprocessing Function\n",
    "def preprocess(text):\n",
    "    text = re.sub(r'&', 'and', text)\n",
    "    text = re.sub(r'[^\\w\\s]',' ', text)\n",
    "    text = re.sub(' +', ' ', text)\n",
    "    return text.strip().lower()"
   ]
  },
  {
   "cell_type": "code",
   "execution_count": 14,
   "metadata": {
    "colab": {
     "base_uri": "https://localhost:8080/"
    },
    "id": "RJwMZxvNtptB",
    "outputId": "b9174319-f55e-4ee4-9d41-b953168e3b26"
   },
   "outputs": [],
   "source": [
    "# Cleaning function currently using\n",
    "# import nltk\n",
    "# from nltk.corpus import stopwords\n",
    "\n",
    "# # Download stopwords\n",
    "# nltk.download(\"stopwords\")"
   ]
  },
  {
   "cell_type": "code",
   "execution_count": 15,
   "metadata": {
    "id": "XCLqI45e9Lqv"
   },
   "outputs": [],
   "source": [
    "# Did a slight modification, convert & into and\n",
    "# Then removes extra whitespaces\n",
    "\n",
    "# def clean(string):\n",
    "#     string = re.sub('&', 'and ', string)\n",
    "#     raw_text = re.sub(\"[^a-zA-Z]+\", \" \", string)\n",
    "#     raw_text = re.sub(' +', ' ', raw_text)\n",
    "#     raw_text = raw_text.strip()\n",
    "#     words = raw_text.lower().split()\n",
    "#     stops = set(stopwords.words(\"english\"))\n",
    "#     meaningful_words = [\n",
    "#         word for word in words if ((not word in stops) and (len(word) >= 3))\n",
    "#     ]\n",
    "#     string = \" \".join(meaningful_words)\n",
    "#     return string"
   ]
  },
  {
   "cell_type": "markdown",
   "metadata": {
    "id": "CS5ZCCbjrSbC"
   },
   "source": [
    "## Administrative"
   ]
  },
  {
   "cell_type": "code",
   "execution_count": 16,
   "metadata": {
    "colab": {
     "base_uri": "https://localhost:8080/",
     "height": 293
    },
    "id": "sxKPlr4IrPHQ",
    "outputId": "1fb92080-d59a-4e53-9d5f-b0d56c7c6b84"
   },
   "outputs": [
    {
     "data": {
      "text/html": [
       "<div>\n",
       "<style scoped>\n",
       "    .dataframe tbody tr th:only-of-type {\n",
       "        vertical-align: middle;\n",
       "    }\n",
       "\n",
       "    .dataframe tbody tr th {\n",
       "        vertical-align: top;\n",
       "    }\n",
       "\n",
       "    .dataframe thead th {\n",
       "        text-align: right;\n",
       "    }\n",
       "</style>\n",
       "<table border=\"1\" class=\"dataframe\">\n",
       "  <thead>\n",
       "    <tr style=\"text-align: right;\">\n",
       "      <th></th>\n",
       "      <th>L0_Category</th>\n",
       "      <th>L1_Class</th>\n",
       "      <th>L2_Category</th>\n",
       "      <th>L3_Dictionary_SubCategory</th>\n",
       "      <th>L4_dictionarySubgroup</th>\n",
       "      <th>ProdName</th>\n",
       "      <th>ItemCode</th>\n",
       "      <th>Vendor</th>\n",
       "      <th>ProdType</th>\n",
       "    </tr>\n",
       "  </thead>\n",
       "  <tbody>\n",
       "    <tr>\n",
       "      <th>0</th>\n",
       "      <td>Administrative</td>\n",
       "      <td>Administrative Transactions</td>\n",
       "      <td>Admin -- Unclassifiable Products</td>\n",
       "      <td>Admin --- Unclassifiable Products</td>\n",
       "      <td>Unclassifiable Items - Holding L4</td>\n",
       "      <td>NEW CODE</td>\n",
       "      <td>115</td>\n",
       "      <td>Golden Gate Meat Company</td>\n",
       "      <td>Canonical</td>\n",
       "    </tr>\n",
       "    <tr>\n",
       "      <th>1</th>\n",
       "      <td>Administrative</td>\n",
       "      <td>Administrative Transactions</td>\n",
       "      <td>Admin -- Unclassifiable Products</td>\n",
       "      <td>Admin --- Unclassifiable Products</td>\n",
       "      <td>Unclassifiable Items - Holding L4</td>\n",
       "      <td>NEW CODE</td>\n",
       "      <td>3166</td>\n",
       "      <td>Golden Gate Meat Company</td>\n",
       "      <td>Canonical</td>\n",
       "    </tr>\n",
       "    <tr>\n",
       "      <th>2</th>\n",
       "      <td>Administrative</td>\n",
       "      <td>Administrative Transactions</td>\n",
       "      <td>Admin -- Charges</td>\n",
       "      <td>Admin --- Shipping &amp; Handling Fees</td>\n",
       "      <td>Shipping Charge</td>\n",
       "      <td>SHIPPING CHARGE</td>\n",
       "      <td>9666</td>\n",
       "      <td>Golden Gate Meat Company</td>\n",
       "      <td>Canonical</td>\n",
       "    </tr>\n",
       "    <tr>\n",
       "      <th>3</th>\n",
       "      <td>Administrative</td>\n",
       "      <td>Administrative Transactions</td>\n",
       "      <td>Admin -- Charges</td>\n",
       "      <td>Admin --- Shipping &amp; Handling Fees</td>\n",
       "      <td>Delivery Fee</td>\n",
       "      <td>DELIVERY CHARGE - EACH</td>\n",
       "      <td>9667</td>\n",
       "      <td>Golden Gate Meat Company</td>\n",
       "      <td>Canonical</td>\n",
       "    </tr>\n",
       "    <tr>\n",
       "      <th>4</th>\n",
       "      <td>Administrative</td>\n",
       "      <td>Administrative Transactions</td>\n",
       "      <td>Admin -- Charges</td>\n",
       "      <td>Admin --- Custom Services Fees</td>\n",
       "      <td>Miscellaneous Items</td>\n",
       "      <td>MISCELANEOUS</td>\n",
       "      <td>99999</td>\n",
       "      <td>Golden Gate Meat Company</td>\n",
       "      <td>Canonical</td>\n",
       "    </tr>\n",
       "  </tbody>\n",
       "</table>\n",
       "</div>"
      ],
      "text/plain": [
       "      L0_Category                     L1_Class  \\\n",
       "0  Administrative  Administrative Transactions   \n",
       "1  Administrative  Administrative Transactions   \n",
       "2  Administrative  Administrative Transactions   \n",
       "3  Administrative  Administrative Transactions   \n",
       "4  Administrative  Administrative Transactions   \n",
       "\n",
       "                        L2_Category           L3_Dictionary_SubCategory  \\\n",
       "0  Admin -- Unclassifiable Products   Admin --- Unclassifiable Products   \n",
       "1  Admin -- Unclassifiable Products   Admin --- Unclassifiable Products   \n",
       "2                  Admin -- Charges  Admin --- Shipping & Handling Fees   \n",
       "3                  Admin -- Charges  Admin --- Shipping & Handling Fees   \n",
       "4                  Admin -- Charges      Admin --- Custom Services Fees   \n",
       "\n",
       "               L4_dictionarySubgroup                ProdName ItemCode  \\\n",
       "0  Unclassifiable Items - Holding L4                NEW CODE      115   \n",
       "1  Unclassifiable Items - Holding L4                NEW CODE     3166   \n",
       "2                    Shipping Charge         SHIPPING CHARGE     9666   \n",
       "3                       Delivery Fee  DELIVERY CHARGE - EACH     9667   \n",
       "4                Miscellaneous Items            MISCELANEOUS    99999   \n",
       "\n",
       "                     Vendor   ProdType  \n",
       "0  Golden Gate Meat Company  Canonical  \n",
       "1  Golden Gate Meat Company  Canonical  \n",
       "2  Golden Gate Meat Company  Canonical  \n",
       "3  Golden Gate Meat Company  Canonical  \n",
       "4  Golden Gate Meat Company  Canonical  "
      ]
     },
     "execution_count": 16,
     "metadata": {},
     "output_type": "execute_result"
    }
   ],
   "source": [
    "df = pd.read_csv('../../Datasets/administrative.csv')\n",
    "df.head()"
   ]
  },
  {
   "cell_type": "code",
   "execution_count": 17,
   "metadata": {
    "colab": {
     "base_uri": "https://localhost:8080/"
    },
    "id": "33ERLvljrbro",
    "outputId": "8652051c-4ef2-40bd-f899-d3413e206ed8"
   },
   "outputs": [
    {
     "data": {
      "text/plain": [
       "18"
      ]
     },
     "execution_count": 17,
     "metadata": {},
     "output_type": "execute_result"
    }
   ],
   "source": [
    "# Counting L4 Category classes\n",
    "len(df.L4_dictionarySubgroup.unique())"
   ]
  },
  {
   "cell_type": "code",
   "execution_count": 18,
   "metadata": {
    "colab": {
     "base_uri": "https://localhost:8080/"
    },
    "id": "xOAPg_3Ti1N6",
    "outputId": "b3404125-ee9a-426c-9eba-38e6229d918e"
   },
   "outputs": [
    {
     "name": "stdout",
     "output_type": "stream",
     "text": [
      "L4_dictionarySubgroup\n",
      "Miscellaneous Items                           12\n",
      "Promotional Allowances                        11\n",
      "Handling Fee                                   4\n",
      "Pick Up Charge                                 3\n",
      "Fuel Surcharge                                 3\n",
      "Shipping Charge                                2\n",
      "Crate or Pallet Delivery - Pick Up Charges     2\n",
      "Storage Charge                                 2\n",
      "Custom Design & Printing                       1\n",
      "Plate Charges for Artwork                      1\n",
      "Returns                                        1\n",
      "Name: count, dtype: int64\n"
     ]
    }
   ],
   "source": [
    "value_counts = df.L4_dictionarySubgroup.value_counts()\n",
    "filtered_counts = value_counts[value_counts < 15]\n",
    "print(filtered_counts)"
   ]
  },
  {
   "cell_type": "code",
   "execution_count": 19,
   "metadata": {
    "colab": {
     "base_uri": "https://localhost:8080/",
     "height": 430
    },
    "id": "gVb0Zt-xj3AY",
    "outputId": "04706f70-673d-4c18-fb27-fc80daea9da0"
   },
   "outputs": [],
   "source": [
    "# Check value counts in a plot\n",
    "# Import libraries\n",
    "# import matplotlib.pyplot as plt\n",
    "\n",
    "# # Get the values count\n",
    "# counts = df.L4_dictionarySubgroup.value_counts()\n",
    "\n",
    "\n",
    "# # Change the figure size\n",
    "# # fig = plt.figure(figsize=(10, 15))\n",
    "\n",
    "# for index, value in enumerate(counts.values):\n",
    "#     plt.text(value + 1, index, str(value))\n",
    "\n",
    "# plt.barh(counts.index, counts.values)\n",
    "# plt.show()"
   ]
  },
  {
   "cell_type": "code",
   "execution_count": 20,
   "metadata": {
    "colab": {
     "base_uri": "https://localhost:8080/"
    },
    "id": "iVyiWEefFU7b",
    "outputId": "00a5a5c5-e5ad-4d5a-8b8a-e5de6f8ce061"
   },
   "outputs": [
    {
     "data": {
      "text/plain": [
       "(1327, 9)"
      ]
     },
     "execution_count": 20,
     "metadata": {},
     "output_type": "execute_result"
    }
   ],
   "source": [
    "# Checking the number of data points\n",
    "df.shape"
   ]
  },
  {
   "cell_type": "code",
   "execution_count": 21,
   "metadata": {
    "id": "_DBXzQnLruUV"
   },
   "outputs": [],
   "source": [
    "# making the category\n",
    "df['L4'] = df['L4_dictionarySubgroup'].apply(class_pre)"
   ]
  },
  {
   "cell_type": "code",
   "execution_count": 22,
   "metadata": {
    "id": "XBRPUZdVr62-"
   },
   "outputs": [],
   "source": [
    "# Making the category using labels into format\n",
    "df['category'] = '__label__' + df['L4'].astype(str)"
   ]
  },
  {
   "cell_type": "code",
   "execution_count": 23,
   "metadata": {
    "id": "fcnITqhJr-Su"
   },
   "outputs": [],
   "source": [
    "# Dropping irrelavant columns\n",
    "columns = ['L0_Category', 'L4_dictionarySubgroup', 'ItemCode', 'Vendor', 'ProdType', 'L4']\n",
    "\n",
    "# Dropping\n",
    "df = df.drop(columns, axis=1)"
   ]
  },
  {
   "cell_type": "code",
   "execution_count": 24,
   "metadata": {
    "colab": {
     "base_uri": "https://localhost:8080/",
     "height": 206
    },
    "id": "DOr-P1qfsyhV",
    "outputId": "e16a4209-3351-413a-9ec9-facbdedd17ac"
   },
   "outputs": [
    {
     "data": {
      "text/html": [
       "<div>\n",
       "<style scoped>\n",
       "    .dataframe tbody tr th:only-of-type {\n",
       "        vertical-align: middle;\n",
       "    }\n",
       "\n",
       "    .dataframe tbody tr th {\n",
       "        vertical-align: top;\n",
       "    }\n",
       "\n",
       "    .dataframe thead th {\n",
       "        text-align: right;\n",
       "    }\n",
       "</style>\n",
       "<table border=\"1\" class=\"dataframe\">\n",
       "  <thead>\n",
       "    <tr style=\"text-align: right;\">\n",
       "      <th></th>\n",
       "      <th>L1_Class</th>\n",
       "      <th>L2_Category</th>\n",
       "      <th>L3_Dictionary_SubCategory</th>\n",
       "      <th>ProdName</th>\n",
       "      <th>category</th>\n",
       "    </tr>\n",
       "  </thead>\n",
       "  <tbody>\n",
       "    <tr>\n",
       "      <th>0</th>\n",
       "      <td>Administrative Transactions</td>\n",
       "      <td>Admin -- Unclassifiable Products</td>\n",
       "      <td>Admin --- Unclassifiable Products</td>\n",
       "      <td>NEW CODE</td>\n",
       "      <td>__label__Unclassifiable_Items_Holding_L4</td>\n",
       "    </tr>\n",
       "    <tr>\n",
       "      <th>1</th>\n",
       "      <td>Administrative Transactions</td>\n",
       "      <td>Admin -- Unclassifiable Products</td>\n",
       "      <td>Admin --- Unclassifiable Products</td>\n",
       "      <td>NEW CODE</td>\n",
       "      <td>__label__Unclassifiable_Items_Holding_L4</td>\n",
       "    </tr>\n",
       "    <tr>\n",
       "      <th>2</th>\n",
       "      <td>Administrative Transactions</td>\n",
       "      <td>Admin -- Charges</td>\n",
       "      <td>Admin --- Shipping &amp; Handling Fees</td>\n",
       "      <td>SHIPPING CHARGE</td>\n",
       "      <td>__label__Shipping_Charge</td>\n",
       "    </tr>\n",
       "    <tr>\n",
       "      <th>3</th>\n",
       "      <td>Administrative Transactions</td>\n",
       "      <td>Admin -- Charges</td>\n",
       "      <td>Admin --- Shipping &amp; Handling Fees</td>\n",
       "      <td>DELIVERY CHARGE - EACH</td>\n",
       "      <td>__label__Delivery_Fee</td>\n",
       "    </tr>\n",
       "    <tr>\n",
       "      <th>4</th>\n",
       "      <td>Administrative Transactions</td>\n",
       "      <td>Admin -- Charges</td>\n",
       "      <td>Admin --- Custom Services Fees</td>\n",
       "      <td>MISCELANEOUS</td>\n",
       "      <td>__label__Miscellaneous_Items</td>\n",
       "    </tr>\n",
       "  </tbody>\n",
       "</table>\n",
       "</div>"
      ],
      "text/plain": [
       "                      L1_Class                       L2_Category  \\\n",
       "0  Administrative Transactions  Admin -- Unclassifiable Products   \n",
       "1  Administrative Transactions  Admin -- Unclassifiable Products   \n",
       "2  Administrative Transactions                  Admin -- Charges   \n",
       "3  Administrative Transactions                  Admin -- Charges   \n",
       "4  Administrative Transactions                  Admin -- Charges   \n",
       "\n",
       "            L3_Dictionary_SubCategory                ProdName  \\\n",
       "0   Admin --- Unclassifiable Products                NEW CODE   \n",
       "1   Admin --- Unclassifiable Products                NEW CODE   \n",
       "2  Admin --- Shipping & Handling Fees         SHIPPING CHARGE   \n",
       "3  Admin --- Shipping & Handling Fees  DELIVERY CHARGE - EACH   \n",
       "4      Admin --- Custom Services Fees            MISCELANEOUS   \n",
       "\n",
       "                                   category  \n",
       "0  __label__Unclassifiable_Items_Holding_L4  \n",
       "1  __label__Unclassifiable_Items_Holding_L4  \n",
       "2                  __label__Shipping_Charge  \n",
       "3                     __label__Delivery_Fee  \n",
       "4              __label__Miscellaneous_Items  "
      ]
     },
     "execution_count": 24,
     "metadata": {},
     "output_type": "execute_result"
    }
   ],
   "source": [
    "df.head()"
   ]
  },
  {
   "cell_type": "code",
   "execution_count": 25,
   "metadata": {
    "id": "QoAqWKvQbIjG"
   },
   "outputs": [],
   "source": [
    "# Creating catehory description with producbt name and vendor\n",
    "# df['category_description'] = df['category'] + ' ' + df['L1_Class'] + ' ' + df['L2_Category'] + ' ' + df['L3_Dictionary_SubCategory'] + ' ' + df['ProdName']\n",
    "df['category_description'] = df['category'] + ' ' + df['L3_Dictionary_SubCategory'] + ' ' + df['ProdName']"
   ]
  },
  {
   "cell_type": "code",
   "execution_count": 26,
   "metadata": {
    "id": "gNyeTbvUtWVr"
   },
   "outputs": [],
   "source": [
    "# Drop used columns\n",
    "columns = ['L1_Class', 'L2_Category', 'L3_Dictionary_SubCategory', 'ProdName']\n",
    "\n",
    "df = df.drop(columns, axis=1)"
   ]
  },
  {
   "cell_type": "code",
   "execution_count": 27,
   "metadata": {
    "id": "3X_1xu2ntsZQ"
   },
   "outputs": [],
   "source": [
    "# Apply preprocessing function to 'category_description'\n",
    "\n",
    "df['category_description'] = df['category_description'].apply(preprocess)"
   ]
  },
  {
   "cell_type": "code",
   "execution_count": 28,
   "metadata": {
    "id": "iBUFgNZ3uYuq"
   },
   "outputs": [],
   "source": [
    "# Test Train splitting\n",
    "from sklearn.model_selection import train_test_split\n",
    "\n",
    "train, test = train_test_split(df, test_size=0.1, random_state=42)"
   ]
  },
  {
   "cell_type": "code",
   "execution_count": 29,
   "metadata": {
    "id": "JPDOFhzfuj6A"
   },
   "outputs": [],
   "source": [
    "# Save test and train dataset into two differnet files\n",
    "train.to_csv('admin_train.train',\n",
    "             columns=[\"category_description\"],\n",
    "             index=False,\n",
    "             header=False)\n",
    "\n",
    "test.to_csv('admin_test.train',\n",
    "             columns=[\"category_description\"],\n",
    "             index=False,\n",
    "             header=False)"
   ]
  },
  {
   "cell_type": "code",
   "execution_count": 30,
   "metadata": {
    "colab": {
     "base_uri": "https://localhost:8080/"
    },
    "id": "UkhbpQI5urCU",
    "outputId": "8b063ab7-912e-41ae-9220-d18bdcc2ddd6"
   },
   "outputs": [
    {
     "data": {
      "text/plain": [
       "(133, 0.9849624060150376, 0.9849624060150376)"
      ]
     },
     "execution_count": 30,
     "metadata": {},
     "output_type": "execute_result"
    }
   ],
   "source": [
    "# Fast text model\n",
    "import fasttext\n",
    "\n",
    "model = fasttext.train_supervised(input='admin_train.train',\n",
    "                                  dim=300,\n",
    "                                  loss='hs',\n",
    "                                  wordNgrams=3,\n",
    "                                  lr=0.5,\n",
    "                                  epoch=20,\n",
    "                                  minn=3,\n",
    "                                  maxn=5)\n",
    "\n",
    "model.test('admin_test.train')"
   ]
  },
  {
   "cell_type": "code",
   "execution_count": 31,
   "metadata": {
    "colab": {
     "base_uri": "https://localhost:8080/"
    },
    "id": "xXyi091U4w4k",
    "outputId": "c5ca331a-0d7c-40e2-9b99-98f53c7606ed"
   },
   "outputs": [
    {
     "data": {
      "text/plain": [
       "(('__label__unclassifiable_items_holding_l4', '__label__all_other_charges'),\n",
       " array([1.00000501e+00, 1.06870084e-05]))"
      ]
     },
     "execution_count": 31,
     "metadata": {},
     "output_type": "execute_result"
    }
   ],
   "source": [
    "text = 'Admin --- Unclassifiable Products\tCODE 101 NEW Product'\n",
    "text = preprocess(text)\n",
    "model.predict(text, k=5)\n",
    "# Correct class - Delivery fee"
   ]
  },
  {
   "cell_type": "code",
   "execution_count": 32,
   "metadata": {
    "id": "iHmBbYhK9chT"
   },
   "outputs": [],
   "source": [
    "model.save_model('../../Models/L4/Administrative/tuned_model.bin')"
   ]
  },
  {
   "cell_type": "markdown",
   "metadata": {
    "id": "Q5biYmki1UOy"
   },
   "source": [
    "Selecting datapoints with for prediction"
   ]
  },
  {
   "cell_type": "code",
   "execution_count": 33,
   "metadata": {
    "colab": {
     "base_uri": "https://localhost:8080/",
     "height": 293
    },
    "id": "XeriPVB51a_T",
    "outputId": "46c00a00-64ee-4218-ef70-12acc644c5e4"
   },
   "outputs": [
    {
     "data": {
      "text/html": [
       "<div>\n",
       "<style scoped>\n",
       "    .dataframe tbody tr th:only-of-type {\n",
       "        vertical-align: middle;\n",
       "    }\n",
       "\n",
       "    .dataframe tbody tr th {\n",
       "        vertical-align: top;\n",
       "    }\n",
       "\n",
       "    .dataframe thead th {\n",
       "        text-align: right;\n",
       "    }\n",
       "</style>\n",
       "<table border=\"1\" class=\"dataframe\">\n",
       "  <thead>\n",
       "    <tr style=\"text-align: right;\">\n",
       "      <th></th>\n",
       "      <th>L0_Category</th>\n",
       "      <th>L1_Class</th>\n",
       "      <th>L2_Category</th>\n",
       "      <th>L3_Dictionary_SubCategory</th>\n",
       "      <th>L4_dictionarySubgroup</th>\n",
       "      <th>ProdName</th>\n",
       "      <th>ItemCode</th>\n",
       "      <th>Vendor</th>\n",
       "      <th>ProdType</th>\n",
       "    </tr>\n",
       "  </thead>\n",
       "  <tbody>\n",
       "    <tr>\n",
       "      <th>0</th>\n",
       "      <td>Administrative</td>\n",
       "      <td>Administrative Transactions</td>\n",
       "      <td>Admin -- Unclassifiable Products</td>\n",
       "      <td>Admin --- Unclassifiable Products</td>\n",
       "      <td>Unclassifiable Items - Holding L4</td>\n",
       "      <td>NEW CODE</td>\n",
       "      <td>115</td>\n",
       "      <td>Golden Gate Meat Company</td>\n",
       "      <td>Canonical</td>\n",
       "    </tr>\n",
       "    <tr>\n",
       "      <th>1</th>\n",
       "      <td>Administrative</td>\n",
       "      <td>Administrative Transactions</td>\n",
       "      <td>Admin -- Unclassifiable Products</td>\n",
       "      <td>Admin --- Unclassifiable Products</td>\n",
       "      <td>Unclassifiable Items - Holding L4</td>\n",
       "      <td>NEW CODE</td>\n",
       "      <td>3166</td>\n",
       "      <td>Golden Gate Meat Company</td>\n",
       "      <td>Canonical</td>\n",
       "    </tr>\n",
       "    <tr>\n",
       "      <th>2</th>\n",
       "      <td>Administrative</td>\n",
       "      <td>Administrative Transactions</td>\n",
       "      <td>Admin -- Charges</td>\n",
       "      <td>Admin --- Shipping &amp; Handling Fees</td>\n",
       "      <td>Shipping Charge</td>\n",
       "      <td>SHIPPING CHARGE</td>\n",
       "      <td>9666</td>\n",
       "      <td>Golden Gate Meat Company</td>\n",
       "      <td>Canonical</td>\n",
       "    </tr>\n",
       "    <tr>\n",
       "      <th>3</th>\n",
       "      <td>Administrative</td>\n",
       "      <td>Administrative Transactions</td>\n",
       "      <td>Admin -- Charges</td>\n",
       "      <td>Admin --- Shipping &amp; Handling Fees</td>\n",
       "      <td>Delivery Fee</td>\n",
       "      <td>DELIVERY CHARGE - EACH</td>\n",
       "      <td>9667</td>\n",
       "      <td>Golden Gate Meat Company</td>\n",
       "      <td>Canonical</td>\n",
       "    </tr>\n",
       "    <tr>\n",
       "      <th>4</th>\n",
       "      <td>Administrative</td>\n",
       "      <td>Administrative Transactions</td>\n",
       "      <td>Admin -- Charges</td>\n",
       "      <td>Admin --- Custom Services Fees</td>\n",
       "      <td>Miscellaneous Items</td>\n",
       "      <td>MISCELANEOUS</td>\n",
       "      <td>99999</td>\n",
       "      <td>Golden Gate Meat Company</td>\n",
       "      <td>Canonical</td>\n",
       "    </tr>\n",
       "  </tbody>\n",
       "</table>\n",
       "</div>"
      ],
      "text/plain": [
       "      L0_Category                     L1_Class  \\\n",
       "0  Administrative  Administrative Transactions   \n",
       "1  Administrative  Administrative Transactions   \n",
       "2  Administrative  Administrative Transactions   \n",
       "3  Administrative  Administrative Transactions   \n",
       "4  Administrative  Administrative Transactions   \n",
       "\n",
       "                        L2_Category           L3_Dictionary_SubCategory  \\\n",
       "0  Admin -- Unclassifiable Products   Admin --- Unclassifiable Products   \n",
       "1  Admin -- Unclassifiable Products   Admin --- Unclassifiable Products   \n",
       "2                  Admin -- Charges  Admin --- Shipping & Handling Fees   \n",
       "3                  Admin -- Charges  Admin --- Shipping & Handling Fees   \n",
       "4                  Admin -- Charges      Admin --- Custom Services Fees   \n",
       "\n",
       "               L4_dictionarySubgroup                ProdName ItemCode  \\\n",
       "0  Unclassifiable Items - Holding L4                NEW CODE      115   \n",
       "1  Unclassifiable Items - Holding L4                NEW CODE     3166   \n",
       "2                    Shipping Charge         SHIPPING CHARGE     9666   \n",
       "3                       Delivery Fee  DELIVERY CHARGE - EACH     9667   \n",
       "4                Miscellaneous Items            MISCELANEOUS    99999   \n",
       "\n",
       "                     Vendor   ProdType  \n",
       "0  Golden Gate Meat Company  Canonical  \n",
       "1  Golden Gate Meat Company  Canonical  \n",
       "2  Golden Gate Meat Company  Canonical  \n",
       "3  Golden Gate Meat Company  Canonical  \n",
       "4  Golden Gate Meat Company  Canonical  "
      ]
     },
     "execution_count": 33,
     "metadata": {},
     "output_type": "execute_result"
    }
   ],
   "source": [
    "sample = pd.read_csv('../../Datasets/administrative.csv')\n",
    "sample.head()"
   ]
  },
  {
   "cell_type": "code",
   "execution_count": 34,
   "metadata": {
    "id": "udgrnjWE1pOt"
   },
   "outputs": [],
   "source": [
    "drop_columns = ['L0_Category', 'L1_Class', 'L2_Category', 'ItemCode', 'Vendor', 'ProdType']\n",
    "sample = sample.drop(drop_columns, axis=1)"
   ]
  },
  {
   "cell_type": "code",
   "execution_count": 35,
   "metadata": {
    "colab": {
     "base_uri": "https://localhost:8080/",
     "height": 363
    },
    "id": "oNqKWPce2Adm",
    "outputId": "6551aaeb-9226-4e51-efed-0e72a821e02c"
   },
   "outputs": [
    {
     "data": {
      "text/html": [
       "<div>\n",
       "<style scoped>\n",
       "    .dataframe tbody tr th:only-of-type {\n",
       "        vertical-align: middle;\n",
       "    }\n",
       "\n",
       "    .dataframe tbody tr th {\n",
       "        vertical-align: top;\n",
       "    }\n",
       "\n",
       "    .dataframe thead th {\n",
       "        text-align: right;\n",
       "    }\n",
       "</style>\n",
       "<table border=\"1\" class=\"dataframe\">\n",
       "  <thead>\n",
       "    <tr style=\"text-align: right;\">\n",
       "      <th></th>\n",
       "      <th>L3_Dictionary_SubCategory</th>\n",
       "      <th>L4_dictionarySubgroup</th>\n",
       "      <th>ProdName</th>\n",
       "    </tr>\n",
       "  </thead>\n",
       "  <tbody>\n",
       "    <tr>\n",
       "      <th>0</th>\n",
       "      <td>Admin --- Unclassifiable Products</td>\n",
       "      <td>Unclassifiable Items - Holding L4</td>\n",
       "      <td>NEW CODE</td>\n",
       "    </tr>\n",
       "    <tr>\n",
       "      <th>1</th>\n",
       "      <td>Admin --- Unclassifiable Products</td>\n",
       "      <td>Unclassifiable Items - Holding L4</td>\n",
       "      <td>NEW CODE</td>\n",
       "    </tr>\n",
       "    <tr>\n",
       "      <th>2</th>\n",
       "      <td>Admin --- Shipping &amp; Handling Fees</td>\n",
       "      <td>Shipping Charge</td>\n",
       "      <td>SHIPPING CHARGE</td>\n",
       "    </tr>\n",
       "    <tr>\n",
       "      <th>3</th>\n",
       "      <td>Admin --- Shipping &amp; Handling Fees</td>\n",
       "      <td>Delivery Fee</td>\n",
       "      <td>DELIVERY CHARGE - EACH</td>\n",
       "    </tr>\n",
       "    <tr>\n",
       "      <th>4</th>\n",
       "      <td>Admin --- Custom Services Fees</td>\n",
       "      <td>Miscellaneous Items</td>\n",
       "      <td>MISCELANEOUS</td>\n",
       "    </tr>\n",
       "    <tr>\n",
       "      <th>5</th>\n",
       "      <td>Admin --- Unclassifiable Products</td>\n",
       "      <td>Unclassifiable Items - Holding L4</td>\n",
       "      <td>NEW CODE</td>\n",
       "    </tr>\n",
       "    <tr>\n",
       "      <th>6</th>\n",
       "      <td>Admin --- Unclassifiable Products</td>\n",
       "      <td>Unclassifiable Items - Holding L4</td>\n",
       "      <td>OLD CODE DON`T USE</td>\n",
       "    </tr>\n",
       "    <tr>\n",
       "      <th>7</th>\n",
       "      <td>Admin --- Unclassifiable Products</td>\n",
       "      <td>Unclassifiable Items - Holding L4</td>\n",
       "      <td>NEW CODE</td>\n",
       "    </tr>\n",
       "    <tr>\n",
       "      <th>8</th>\n",
       "      <td>Admin --- Unclassifiable Products</td>\n",
       "      <td>Unclassifiable Items - Holding L4</td>\n",
       "      <td>OLD CODE</td>\n",
       "    </tr>\n",
       "    <tr>\n",
       "      <th>9</th>\n",
       "      <td>Admin --- Unclassifiable Products</td>\n",
       "      <td>Unclassifiable Items - Holding L4</td>\n",
       "      <td>NEW CODE</td>\n",
       "    </tr>\n",
       "  </tbody>\n",
       "</table>\n",
       "</div>"
      ],
      "text/plain": [
       "            L3_Dictionary_SubCategory              L4_dictionarySubgroup  \\\n",
       "0   Admin --- Unclassifiable Products  Unclassifiable Items - Holding L4   \n",
       "1   Admin --- Unclassifiable Products  Unclassifiable Items - Holding L4   \n",
       "2  Admin --- Shipping & Handling Fees                    Shipping Charge   \n",
       "3  Admin --- Shipping & Handling Fees                       Delivery Fee   \n",
       "4      Admin --- Custom Services Fees                Miscellaneous Items   \n",
       "5   Admin --- Unclassifiable Products  Unclassifiable Items - Holding L4   \n",
       "6   Admin --- Unclassifiable Products  Unclassifiable Items - Holding L4   \n",
       "7   Admin --- Unclassifiable Products  Unclassifiable Items - Holding L4   \n",
       "8   Admin --- Unclassifiable Products  Unclassifiable Items - Holding L4   \n",
       "9   Admin --- Unclassifiable Products  Unclassifiable Items - Holding L4   \n",
       "\n",
       "                 ProdName  \n",
       "0                NEW CODE  \n",
       "1                NEW CODE  \n",
       "2         SHIPPING CHARGE  \n",
       "3  DELIVERY CHARGE - EACH  \n",
       "4            MISCELANEOUS  \n",
       "5                NEW CODE  \n",
       "6      OLD CODE DON`T USE  \n",
       "7                NEW CODE  \n",
       "8                OLD CODE  \n",
       "9                NEW CODE  "
      ]
     },
     "execution_count": 35,
     "metadata": {},
     "output_type": "execute_result"
    }
   ],
   "source": [
    "sample.head(10)"
   ]
  },
  {
   "cell_type": "code",
   "execution_count": 36,
   "metadata": {
    "colab": {
     "base_uri": "https://localhost:8080/"
    },
    "id": "MDJTYwcw2AYe",
    "outputId": "ac51243f-3059-4833-a317-f5a47e7283da"
   },
   "outputs": [
    {
     "name": "stdout",
     "output_type": "stream",
     "text": [
      "Unclassifiable Items - Holding L4\n",
      "Shipping Charge\n",
      "Delivery Fee\n",
      "Miscellaneous Items\n",
      "Samples\n",
      "Iced Tea BIBs\n",
      "Pick Up Charge\n",
      "Product Credits\n",
      "Handling Fee\n",
      "All Other Charges\n",
      "Freight Charge\n",
      "Fuel Surcharge\n",
      "Promotional Allowances\n",
      "Custom Design & Printing\n",
      "Crate or Pallet Delivery - Pick Up Charges\n",
      "Storage Charge\n",
      "Plate Charges for Artwork\n",
      "Returns\n"
     ]
    }
   ],
   "source": [
    "uniques = sample.L4_dictionarySubgroup.unique()\n",
    "for unique in uniques:\n",
    "  print(unique)"
   ]
  },
  {
   "cell_type": "code",
   "execution_count": null,
   "metadata": {
    "colab": {
     "base_uri": "https://localhost:8080/",
     "height": 206
    },
    "id": "fAaJyJhy2e56",
    "outputId": "717f71bd-0567-4e28-e09c-d57ce93602d5"
   },
   "outputs": [],
   "source": [
    "# Selecting a product for getting the real class name\n",
    "# In this way, the correct class is known and we can verify the prediction\n",
    "sample_test = sample[sample['L4_dictionarySubgroup']=='Unclassifiable Items - Holding L4']\n",
    "sample_test.head()"
   ]
  },
  {
   "cell_type": "markdown",
   "metadata": {
    "id": "fRQjjn-rOueQ"
   },
   "source": [
    "### **Lable preprocessing Function**"
   ]
  },
  {
   "cell_type": "markdown",
   "metadata": {},
   "source": [
    "This will remove the unwanted parts from the predicted lable and return the lable in much readable manner"
   ]
  },
  {
   "cell_type": "code",
   "execution_count": null,
   "metadata": {
    "colab": {
     "base_uri": "https://localhost:8080/"
    },
    "id": "7BFrwiXNTz6E",
    "outputId": "eebbac0a-e767-4c28-a1f4-7e1bcb1a14a2"
   },
   "outputs": [],
   "source": [
    "prediction = model.predict(text)\n",
    "print(prediction[0][0])"
   ]
  },
  {
   "cell_type": "code",
   "execution_count": null,
   "metadata": {
    "id": "9fOj1dBIOtZR"
   },
   "outputs": [],
   "source": [
    "# This function process the prediction by getting the input\n",
    "def get_lable(text):\n",
    "  # Processing the text\n",
    "  text = preprocess(text)\n",
    "  # Get the prediction\n",
    "  prediction = model.predict(text)\n",
    "  return prediction[0][0]"
   ]
  },
  {
   "cell_type": "code",
   "execution_count": null,
   "metadata": {
    "colab": {
     "base_uri": "https://localhost:8080/"
    },
    "id": "Xz3VIUFUUEc7",
    "outputId": "edf0dff0-0a4a-4e8e-f81f-fc148a034197"
   },
   "outputs": [],
   "source": [
    "from_func = get_lable(text)\n",
    "print(from_func)"
   ]
  },
  {
   "cell_type": "code",
   "execution_count": null,
   "metadata": {
    "id": "LXbat28UZDwy"
   },
   "outputs": [],
   "source": [
    "# Function to preprocess the lable\n",
    "def label_processing(label):\n",
    "  label = re.sub('__label__', '', label)\n",
    "  label = re.sub('_', ' ', label)\n",
    "  label = re.sub(' +', ' ', label)\n",
    "  return label.strip().lower()"
   ]
  },
  {
   "cell_type": "code",
   "execution_count": null,
   "metadata": {
    "colab": {
     "base_uri": "https://localhost:8080/"
    },
    "id": "Uub6Ok-qaQID",
    "outputId": "6b2e0632-e416-41e9-e5a3-2ff45d5d44d9"
   },
   "outputs": [],
   "source": [
    "print(label_processing(from_func))"
   ]
  }
 ],
 "metadata": {
  "colab": {
   "provenance": []
  },
  "kernelspec": {
   "display_name": "Python 3 (ipykernel)",
   "language": "python",
   "name": "python3"
  },
  "language_info": {
   "codemirror_mode": {
    "name": "ipython",
    "version": 3
   },
   "file_extension": ".py",
   "mimetype": "text/x-python",
   "name": "python",
   "nbconvert_exporter": "python",
   "pygments_lexer": "ipython3",
   "version": "3.9.17"
  }
 },
 "nbformat": 4,
 "nbformat_minor": 4
}
