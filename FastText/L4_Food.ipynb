{
  "cells": [
    {
      "cell_type": "code",
      "execution_count": null,
      "metadata": {
        "colab": {
          "base_uri": "https://localhost:8080/"
        },
        "id": "GThvzPu3i7PU",
        "outputId": "2ef91ad0-d3f9-482b-a331-89705a34d14e"
      },
      "outputs": [
        {
          "name": "stdout",
          "output_type": "stream",
          "text": [
            "Collecting fasttext\n",
            "  Downloading fasttext-0.9.2.tar.gz (68 kB)\n",
            "\u001b[2K     \u001b[90m━━━━━━━━━━━━━━━━━━━━━━━━━━━━━━━━━━━━━━━\u001b[0m \u001b[32m68.8/68.8 kB\u001b[0m \u001b[31m444.2 kB/s\u001b[0m eta \u001b[36m0:00:00\u001b[0m\n",
            "\u001b[?25h  Preparing metadata (setup.py) ... \u001b[?25l\u001b[?25hdone\n",
            "Collecting pybind11>=2.2 (from fasttext)\n",
            "  Using cached pybind11-2.11.1-py3-none-any.whl (227 kB)\n",
            "Requirement already satisfied: setuptools>=0.7.0 in /usr/local/lib/python3.10/dist-packages (from fasttext) (67.7.2)\n",
            "Requirement already satisfied: numpy in /usr/local/lib/python3.10/dist-packages (from fasttext) (1.23.5)\n",
            "Building wheels for collected packages: fasttext\n",
            "  Building wheel for fasttext (setup.py) ... \u001b[?25l\u001b[?25hdone\n",
            "  Created wheel for fasttext: filename=fasttext-0.9.2-cp310-cp310-linux_x86_64.whl size=4199771 sha256=9c33d4223947492aa1a9a70d040d8d3914758cdd9061380450cd3c9e2897bfdb\n",
            "  Stored in directory: /root/.cache/pip/wheels/a5/13/75/f811c84a8ab36eedbaef977a6a58a98990e8e0f1967f98f394\n",
            "Successfully built fasttext\n",
            "Installing collected packages: pybind11, fasttext\n",
            "Successfully installed fasttext-0.9.2 pybind11-2.11.1\n"
          ]
        }
      ],
      "source": [
        "!pip install fasttext"
      ]
    },
    {
      "cell_type": "code",
      "execution_count": null,
      "metadata": {
        "colab": {
          "base_uri": "https://localhost:8080/"
        },
        "id": "8nx7uE12t2zA",
        "outputId": "e9b2828e-8e1b-4f40-f4db-5fce94b4c661"
      },
      "outputs": [
        {
          "name": "stdout",
          "output_type": "stream",
          "text": [
            "Requirement already satisfied: nltk in /usr/local/lib/python3.10/dist-packages (3.8.1)\n",
            "Requirement already satisfied: click in /usr/local/lib/python3.10/dist-packages (from nltk) (8.1.7)\n",
            "Requirement already satisfied: joblib in /usr/local/lib/python3.10/dist-packages (from nltk) (1.3.2)\n",
            "Requirement already satisfied: regex>=2021.8.3 in /usr/local/lib/python3.10/dist-packages (from nltk) (2023.6.3)\n",
            "Requirement already satisfied: tqdm in /usr/local/lib/python3.10/dist-packages (from nltk) (4.66.1)\n"
          ]
        }
      ],
      "source": [
        "!pip install nltk"
      ]
    },
    {
      "cell_type": "code",
      "execution_count": null,
      "metadata": {
        "colab": {
          "base_uri": "https://localhost:8080/"
        },
        "id": "IWlQSjc4ouKO",
        "outputId": "4fc0f899-3fc0-46af-9b18-42e8e199bd41"
      },
      "outputs": [
        {
          "name": "stdout",
          "output_type": "stream",
          "text": [
            "Mounted at /content/drive\n"
          ]
        }
      ],
      "source": [
        "# Mounting Drive\n",
        "from google.colab import drive\n",
        "drive.mount('/content/drive')"
      ]
    },
    {
      "cell_type": "code",
      "execution_count": 2,
      "metadata": {
        "id": "Pe_AtB8vd0V-"
      },
      "outputs": [],
      "source": [
        "# Importing libraries\n",
        "import pandas as pd\n",
        "import numpy as np\n",
        "import re"
      ]
    },
    {
      "cell_type": "code",
      "execution_count": null,
      "metadata": {
        "colab": {
          "base_uri": "https://localhost:8080/",
          "height": 293
        },
        "id": "2mjybOOXorNF",
        "outputId": "2bc84f07-6cec-49e8-c593-876865127b52"
      },
      "outputs": [
        {
          "data": {
            "text/html": [
              "\n",
              "  <div id=\"df-d47e1022-976a-42af-b92e-fde2d9ed892d\" class=\"colab-df-container\">\n",
              "    <div>\n",
              "<style scoped>\n",
              "    .dataframe tbody tr th:only-of-type {\n",
              "        vertical-align: middle;\n",
              "    }\n",
              "\n",
              "    .dataframe tbody tr th {\n",
              "        vertical-align: top;\n",
              "    }\n",
              "\n",
              "    .dataframe thead th {\n",
              "        text-align: right;\n",
              "    }\n",
              "</style>\n",
              "<table border=\"1\" class=\"dataframe\">\n",
              "  <thead>\n",
              "    <tr style=\"text-align: right;\">\n",
              "      <th></th>\n",
              "      <th>L0_Category</th>\n",
              "      <th>L1_Class</th>\n",
              "      <th>L2_Category</th>\n",
              "      <th>L3_Dictionary_SubCategory</th>\n",
              "      <th>L4_dictionarySubgroup</th>\n",
              "      <th>ProdName</th>\n",
              "      <th>ItemCode</th>\n",
              "      <th>Vendor</th>\n",
              "      <th>ProdType</th>\n",
              "    </tr>\n",
              "  </thead>\n",
              "  <tbody>\n",
              "    <tr>\n",
              "      <th>0</th>\n",
              "      <td>NaN</td>\n",
              "      <td>NaN</td>\n",
              "      <td>NaN</td>\n",
              "      <td>NaN</td>\n",
              "      <td>NaN</td>\n",
              "      <td>GROUND CHUCK FLAP 50% CHUCK NECK 50%</td>\n",
              "      <td>623</td>\n",
              "      <td>Golden Gate Meat Company</td>\n",
              "      <td>Canonical</td>\n",
              "    </tr>\n",
              "    <tr>\n",
              "      <th>1</th>\n",
              "      <td>Food</td>\n",
              "      <td>Food - Meat &amp; Game</td>\n",
              "      <td>Beef -- Ground &amp; Shapes</td>\n",
              "      <td>Beef (Bulk) - Ground</td>\n",
              "      <td>Beef Ground &gt;10% Fat (NAMP 136)</td>\n",
              "      <td>FINE GRIND BEEF TUBES 81/19 6/10#</td>\n",
              "      <td>624</td>\n",
              "      <td>Golden Gate Meat Company</td>\n",
              "      <td>Canonical</td>\n",
              "    </tr>\n",
              "    <tr>\n",
              "      <th>2</th>\n",
              "      <td>Food</td>\n",
              "      <td>Food - Meat &amp; Game</td>\n",
              "      <td>Beef - Foodservice Whole Cuts</td>\n",
              "      <td>Beef (Bulk) - Plate Cuts</td>\n",
              "      <td>Outside Skirt - Skinned (NAMP # 121E)</td>\n",
              "      <td>AUST OUTSIDE SKIRT PEELED SOLD BY CASE</td>\n",
              "      <td>1717</td>\n",
              "      <td>Golden Gate Meat Company</td>\n",
              "      <td>Canonical</td>\n",
              "    </tr>\n",
              "    <tr>\n",
              "      <th>3</th>\n",
              "      <td>Food</td>\n",
              "      <td>Food - Meat &amp; Game</td>\n",
              "      <td>Beef Deli &amp; Charcuterie</td>\n",
              "      <td>Beef - Deli &amp; Charcuterie</td>\n",
              "      <td>Beef Pastrami (NAMP # 611)</td>\n",
              "      <td>PASTRAMI - NEW YORK STYLE- SABRA</td>\n",
              "      <td>1820</td>\n",
              "      <td>Golden Gate Meat Company</td>\n",
              "      <td>Canonical</td>\n",
              "    </tr>\n",
              "    <tr>\n",
              "      <th>4</th>\n",
              "      <td>Food</td>\n",
              "      <td>Food - Meat &amp; Game</td>\n",
              "      <td>Beef Deli &amp; Charcuterie</td>\n",
              "      <td>Beef - Deli &amp; Charcuterie</td>\n",
              "      <td>Beef Pastrami (NAMP # 611)</td>\n",
              "      <td>PASTRAMI SLICED 5# BAGS (50# CASE)</td>\n",
              "      <td>1821</td>\n",
              "      <td>Golden Gate Meat Company</td>\n",
              "      <td>Canonical</td>\n",
              "    </tr>\n",
              "  </tbody>\n",
              "</table>\n",
              "</div>\n",
              "    <div class=\"colab-df-buttons\">\n",
              "\n",
              "  <div class=\"colab-df-container\">\n",
              "    <button class=\"colab-df-convert\" onclick=\"convertToInteractive('df-d47e1022-976a-42af-b92e-fde2d9ed892d')\"\n",
              "            title=\"Convert this dataframe to an interactive table.\"\n",
              "            style=\"display:none;\">\n",
              "\n",
              "  <svg xmlns=\"http://www.w3.org/2000/svg\" height=\"24px\" viewBox=\"0 -960 960 960\">\n",
              "    <path d=\"M120-120v-720h720v720H120Zm60-500h600v-160H180v160Zm220 220h160v-160H400v160Zm0 220h160v-160H400v160ZM180-400h160v-160H180v160Zm440 0h160v-160H620v160ZM180-180h160v-160H180v160Zm440 0h160v-160H620v160Z\"/>\n",
              "  </svg>\n",
              "    </button>\n",
              "\n",
              "  <style>\n",
              "    .colab-df-container {\n",
              "      display:flex;\n",
              "      gap: 12px;\n",
              "    }\n",
              "\n",
              "    .colab-df-convert {\n",
              "      background-color: #E8F0FE;\n",
              "      border: none;\n",
              "      border-radius: 50%;\n",
              "      cursor: pointer;\n",
              "      display: none;\n",
              "      fill: #1967D2;\n",
              "      height: 32px;\n",
              "      padding: 0 0 0 0;\n",
              "      width: 32px;\n",
              "    }\n",
              "\n",
              "    .colab-df-convert:hover {\n",
              "      background-color: #E2EBFA;\n",
              "      box-shadow: 0px 1px 2px rgba(60, 64, 67, 0.3), 0px 1px 3px 1px rgba(60, 64, 67, 0.15);\n",
              "      fill: #174EA6;\n",
              "    }\n",
              "\n",
              "    .colab-df-buttons div {\n",
              "      margin-bottom: 4px;\n",
              "    }\n",
              "\n",
              "    [theme=dark] .colab-df-convert {\n",
              "      background-color: #3B4455;\n",
              "      fill: #D2E3FC;\n",
              "    }\n",
              "\n",
              "    [theme=dark] .colab-df-convert:hover {\n",
              "      background-color: #434B5C;\n",
              "      box-shadow: 0px 1px 3px 1px rgba(0, 0, 0, 0.15);\n",
              "      filter: drop-shadow(0px 1px 2px rgba(0, 0, 0, 0.3));\n",
              "      fill: #FFFFFF;\n",
              "    }\n",
              "  </style>\n",
              "\n",
              "    <script>\n",
              "      const buttonEl =\n",
              "        document.querySelector('#df-d47e1022-976a-42af-b92e-fde2d9ed892d button.colab-df-convert');\n",
              "      buttonEl.style.display =\n",
              "        google.colab.kernel.accessAllowed ? 'block' : 'none';\n",
              "\n",
              "      async function convertToInteractive(key) {\n",
              "        const element = document.querySelector('#df-d47e1022-976a-42af-b92e-fde2d9ed892d');\n",
              "        const dataTable =\n",
              "          await google.colab.kernel.invokeFunction('convertToInteractive',\n",
              "                                                    [key], {});\n",
              "        if (!dataTable) return;\n",
              "\n",
              "        const docLinkHtml = 'Like what you see? Visit the ' +\n",
              "          '<a target=\"_blank\" href=https://colab.research.google.com/notebooks/data_table.ipynb>data table notebook</a>'\n",
              "          + ' to learn more about interactive tables.';\n",
              "        element.innerHTML = '';\n",
              "        dataTable['output_type'] = 'display_data';\n",
              "        await google.colab.output.renderOutput(dataTable, element);\n",
              "        const docLink = document.createElement('div');\n",
              "        docLink.innerHTML = docLinkHtml;\n",
              "        element.appendChild(docLink);\n",
              "      }\n",
              "    </script>\n",
              "  </div>\n",
              "\n",
              "\n",
              "<div id=\"df-f49efa80-48bd-4911-9c15-c512f3dff8a2\">\n",
              "  <button class=\"colab-df-quickchart\" onclick=\"quickchart('df-f49efa80-48bd-4911-9c15-c512f3dff8a2')\"\n",
              "            title=\"Suggest charts.\"\n",
              "            style=\"display:none;\">\n",
              "\n",
              "<svg xmlns=\"http://www.w3.org/2000/svg\" height=\"24px\"viewBox=\"0 0 24 24\"\n",
              "     width=\"24px\">\n",
              "    <g>\n",
              "        <path d=\"M19 3H5c-1.1 0-2 .9-2 2v14c0 1.1.9 2 2 2h14c1.1 0 2-.9 2-2V5c0-1.1-.9-2-2-2zM9 17H7v-7h2v7zm4 0h-2V7h2v10zm4 0h-2v-4h2v4z\"/>\n",
              "    </g>\n",
              "</svg>\n",
              "  </button>\n",
              "\n",
              "<style>\n",
              "  .colab-df-quickchart {\n",
              "    background-color: #E8F0FE;\n",
              "    border: none;\n",
              "    border-radius: 50%;\n",
              "    cursor: pointer;\n",
              "    display: none;\n",
              "    fill: #1967D2;\n",
              "    height: 32px;\n",
              "    padding: 0 0 0 0;\n",
              "    width: 32px;\n",
              "  }\n",
              "\n",
              "  .colab-df-quickchart:hover {\n",
              "    background-color: #E2EBFA;\n",
              "    box-shadow: 0px 1px 2px rgba(60, 64, 67, 0.3), 0px 1px 3px 1px rgba(60, 64, 67, 0.15);\n",
              "    fill: #174EA6;\n",
              "  }\n",
              "\n",
              "  [theme=dark] .colab-df-quickchart {\n",
              "    background-color: #3B4455;\n",
              "    fill: #D2E3FC;\n",
              "  }\n",
              "\n",
              "  [theme=dark] .colab-df-quickchart:hover {\n",
              "    background-color: #434B5C;\n",
              "    box-shadow: 0px 1px 3px 1px rgba(0, 0, 0, 0.15);\n",
              "    filter: drop-shadow(0px 1px 2px rgba(0, 0, 0, 0.3));\n",
              "    fill: #FFFFFF;\n",
              "  }\n",
              "</style>\n",
              "\n",
              "  <script>\n",
              "    async function quickchart(key) {\n",
              "      const charts = await google.colab.kernel.invokeFunction(\n",
              "          'suggestCharts', [key], {});\n",
              "    }\n",
              "    (() => {\n",
              "      let quickchartButtonEl =\n",
              "        document.querySelector('#df-f49efa80-48bd-4911-9c15-c512f3dff8a2 button');\n",
              "      quickchartButtonEl.style.display =\n",
              "        google.colab.kernel.accessAllowed ? 'block' : 'none';\n",
              "    })();\n",
              "  </script>\n",
              "</div>\n",
              "    </div>\n",
              "  </div>\n"
            ],
            "text/plain": [
              "  L0_Category            L1_Class                    L2_Category  \\\n",
              "0         NaN                 NaN                            NaN   \n",
              "1        Food  Food - Meat & Game        Beef -- Ground & Shapes   \n",
              "2        Food  Food - Meat & Game  Beef - Foodservice Whole Cuts   \n",
              "3        Food  Food - Meat & Game        Beef Deli & Charcuterie   \n",
              "4        Food  Food - Meat & Game        Beef Deli & Charcuterie   \n",
              "\n",
              "   L3_Dictionary_SubCategory                  L4_dictionarySubgroup  \\\n",
              "0                        NaN                                    NaN   \n",
              "1       Beef (Bulk) - Ground        Beef Ground >10% Fat (NAMP 136)   \n",
              "2   Beef (Bulk) - Plate Cuts  Outside Skirt - Skinned (NAMP # 121E)   \n",
              "3  Beef - Deli & Charcuterie             Beef Pastrami (NAMP # 611)   \n",
              "4  Beef - Deli & Charcuterie             Beef Pastrami (NAMP # 611)   \n",
              "\n",
              "                                 ProdName ItemCode                    Vendor  \\\n",
              "0    GROUND CHUCK FLAP 50% CHUCK NECK 50%      623  Golden Gate Meat Company   \n",
              "1       FINE GRIND BEEF TUBES 81/19 6/10#      624  Golden Gate Meat Company   \n",
              "2  AUST OUTSIDE SKIRT PEELED SOLD BY CASE     1717  Golden Gate Meat Company   \n",
              "3        PASTRAMI - NEW YORK STYLE- SABRA     1820  Golden Gate Meat Company   \n",
              "4      PASTRAMI SLICED 5# BAGS (50# CASE)     1821  Golden Gate Meat Company   \n",
              "\n",
              "    ProdType  \n",
              "0  Canonical  \n",
              "1  Canonical  \n",
              "2  Canonical  \n",
              "3  Canonical  \n",
              "4  Canonical  "
            ]
          },
          "execution_count": 5,
          "metadata": {},
          "output_type": "execute_result"
        }
      ],
      "source": [
        "# Load the dataset\n",
        "df = pd.read_csv('/content/drive/MyDrive/Classification/FastText/Datasets/fsa_prod_dump.csv', on_bad_lines='skip')\n",
        "df.head()"
      ]
    },
    {
      "cell_type": "code",
      "execution_count": null,
      "metadata": {
        "id": "xsu9nAgLo9c_"
      },
      "outputs": [],
      "source": [
        "# Separate dataset into 4 dataset based on L0_Category\n",
        "# Preprocessing\n",
        "# Droppig missing values\n",
        "df = df.dropna(axis=0)\n",
        "\n",
        "# Drop duplicates\n",
        "df.drop_duplicates(keep='first', inplace=True)"
      ]
    },
    {
      "cell_type": "code",
      "execution_count": null,
      "metadata": {
        "colab": {
          "base_uri": "https://localhost:8080/"
        },
        "id": "hJfeoKk3p34z",
        "outputId": "37665da8-2238-494f-9e06-4210b8a78b52"
      },
      "outputs": [
        {
          "data": {
            "text/plain": [
              "array(['Food', 'Administrative', 'Operationals', 'Beverage'], dtype=object)"
            ]
          },
          "execution_count": 7,
          "metadata": {},
          "output_type": "execute_result"
        }
      ],
      "source": [
        "df.L0_Category.unique()"
      ]
    },
    {
      "cell_type": "code",
      "execution_count": null,
      "metadata": {
        "id": "EMNNILmhpLm8"
      },
      "outputs": [],
      "source": [
        "# Separate into 4 diffrent categories\n",
        "df_food = df[df['L0_Category']=='Food']\n",
        "df_administrative = df[df['L0_Category']=='Administrative']\n",
        "df_operationals = df[df['L0_Category']=='Operationals']\n",
        "df_beverage = df[df['L0_Category']=='Beverage']"
      ]
    },
    {
      "cell_type": "code",
      "execution_count": null,
      "metadata": {
        "colab": {
          "base_uri": "https://localhost:8080/"
        },
        "id": "Z2rYL5UYpu4T",
        "outputId": "d01f85b0-9369-4028-b7bd-c1b4f18d1cca"
      },
      "outputs": [
        {
          "name": "stdout",
          "output_type": "stream",
          "text": [
            "['Food']\n",
            "['Administrative']\n",
            "['Operationals']\n",
            "['Beverage']\n"
          ]
        }
      ],
      "source": [
        "print(df_food.L0_Category.unique())\n",
        "print(df_administrative.L0_Category.unique())\n",
        "print(df_operationals.L0_Category.unique())\n",
        "print(df_beverage.L0_Category.unique())"
      ]
    },
    {
      "cell_type": "code",
      "execution_count": null,
      "metadata": {
        "id": "0Q7QaP99qkNV"
      },
      "outputs": [],
      "source": [
        "# Save into four different csv\n",
        "df_food.to_csv('/content/drive/MyDrive/Classification/FastText/Datasets/L4/food.csv', header=True, index=False)\n",
        "df_administrative.to_csv('/content/drive/MyDrive/Classification/FastText/Datasets/L4/administrative.csv', header=True, index=False)\n",
        "df_operationals.to_csv('/content/drive/MyDrive/Classification/FastText/Datasets/L4/operationals.csv', header=True, index=False)\n",
        "df_beverage.to_csv('/content/drive/MyDrive/Classification/FastText/Datasets/L4/beverage.csv', header=True, index=False)"
      ]
    },
    {
      "cell_type": "markdown",
      "metadata": {
        "id": "pM0Z0unSrP1e"
      },
      "source": [
        "# **L4 Category**"
      ]
    },
    {
      "cell_type": "code",
      "execution_count": null,
      "metadata": {
        "id": "7Pu9qxyorxKe"
      },
      "outputs": [],
      "source": [
        "# Preprocessing fuction for category\n",
        "def class_pre(text):\n",
        "  new_text = re.sub(r'&', 'and', text)\n",
        "  new_text = re.sub(r'[^\\w\\s]',' ', new_text)\n",
        "  new_text = re.sub(r' +', ' ', new_text)\n",
        "  new_text = re.sub(r'\\s', '_', new_text)\n",
        "  return new_text"
      ]
    },
    {
      "cell_type": "code",
      "execution_count": null,
      "metadata": {
        "id": "ezKihCinuRX-"
      },
      "outputs": [],
      "source": [
        "# Replace all white spaces whith single space\n",
        "# Remove white spaces in begining and end of the text\n",
        "# Turn text into lower case\n",
        "\n",
        "# Preprocessing Function\n",
        "def preprocess(text):\n",
        "    text = re.sub(r'&', 'and', text)\n",
        "    text = re.sub(r'[^\\w\\s]',' ', text)\n",
        "    text = re.sub(' +', ' ', text)\n",
        "    return text.strip().lower()"
      ]
    },
    {
      "cell_type": "code",
      "execution_count": null,
      "metadata": {
        "colab": {
          "base_uri": "https://localhost:8080/"
        },
        "id": "RJwMZxvNtptB",
        "outputId": "b9174319-f55e-4ee4-9d41-b953168e3b26"
      },
      "outputs": [
        {
          "name": "stderr",
          "output_type": "stream",
          "text": [
            "[nltk_data] Downloading package stopwords to /root/nltk_data...\n",
            "[nltk_data]   Unzipping corpora/stopwords.zip.\n"
          ]
        },
        {
          "data": {
            "text/plain": [
              "True"
            ]
          },
          "execution_count": 13,
          "metadata": {},
          "output_type": "execute_result"
        }
      ],
      "source": [
        "# Cleaning function currently using\n",
        "import nltk\n",
        "from nltk.corpus import stopwords\n",
        "\n",
        "# Download stopwords\n",
        "nltk.download(\"stopwords\")"
      ]
    },
    {
      "cell_type": "code",
      "execution_count": null,
      "metadata": {
        "id": "XCLqI45e9Lqv"
      },
      "outputs": [],
      "source": [
        "# Did a slight modification, convert & into and\n",
        "# Then removes extra whitespaces\n",
        "\n",
        "def clean(string):\n",
        "    string = re.sub('&', 'and ', string)\n",
        "    raw_text = re.sub(\"[^a-zA-Z]+\", \" \", string)\n",
        "    raw_text = re.sub(' +', ' ', raw_text)\n",
        "    raw_text = raw_text.strip()\n",
        "    words = raw_text.lower().split()\n",
        "    stops = set(stopwords.words(\"english\"))\n",
        "    meaningful_words = [\n",
        "        word for word in words if ((not word in stops) and (len(word) >= 3))\n",
        "    ]\n",
        "    string = \" \".join(meaningful_words)\n",
        "    return string"
      ]
    },
    {
      "cell_type": "markdown",
      "metadata": {
        "id": "CS5ZCCbjrSbC"
      },
      "source": [
        "## Food"
      ]
    },
    {
      "cell_type": "code",
      "execution_count": 4,
      "metadata": {
        "colab": {
          "base_uri": "https://localhost:8080/",
          "height": 293
        },
        "id": "sxKPlr4IrPHQ",
        "outputId": "1fb92080-d59a-4e53-9d5f-b0d56c7c6b84"
      },
      "outputs": [
        {
          "data": {
            "text/html": [
              "<div>\n",
              "<style scoped>\n",
              "    .dataframe tbody tr th:only-of-type {\n",
              "        vertical-align: middle;\n",
              "    }\n",
              "\n",
              "    .dataframe tbody tr th {\n",
              "        vertical-align: top;\n",
              "    }\n",
              "\n",
              "    .dataframe thead th {\n",
              "        text-align: right;\n",
              "    }\n",
              "</style>\n",
              "<table border=\"1\" class=\"dataframe\">\n",
              "  <thead>\n",
              "    <tr style=\"text-align: right;\">\n",
              "      <th></th>\n",
              "      <th>L0_Category</th>\n",
              "      <th>L1_Class</th>\n",
              "      <th>L2_Category</th>\n",
              "      <th>L3_Dictionary_SubCategory</th>\n",
              "      <th>L4_dictionarySubgroup</th>\n",
              "      <th>ProdName</th>\n",
              "      <th>ItemCode</th>\n",
              "      <th>Vendor</th>\n",
              "      <th>ProdType</th>\n",
              "    </tr>\n",
              "  </thead>\n",
              "  <tbody>\n",
              "    <tr>\n",
              "      <th>0</th>\n",
              "      <td>Food</td>\n",
              "      <td>Food - Meat &amp; Game</td>\n",
              "      <td>Beef -- Ground &amp; Shapes</td>\n",
              "      <td>Beef (Bulk) - Ground</td>\n",
              "      <td>Beef Ground &gt;10% Fat (NAMP 136)</td>\n",
              "      <td>FINE GRIND BEEF TUBES 81/19 6/10#</td>\n",
              "      <td>624</td>\n",
              "      <td>Golden Gate Meat Company</td>\n",
              "      <td>Canonical</td>\n",
              "    </tr>\n",
              "    <tr>\n",
              "      <th>1</th>\n",
              "      <td>Food</td>\n",
              "      <td>Food - Meat &amp; Game</td>\n",
              "      <td>Beef - Foodservice Whole Cuts</td>\n",
              "      <td>Beef (Bulk) - Plate Cuts</td>\n",
              "      <td>Outside Skirt - Skinned (NAMP # 121E)</td>\n",
              "      <td>AUST OUTSIDE SKIRT PEELED SOLD BY CASE</td>\n",
              "      <td>1717</td>\n",
              "      <td>Golden Gate Meat Company</td>\n",
              "      <td>Canonical</td>\n",
              "    </tr>\n",
              "    <tr>\n",
              "      <th>2</th>\n",
              "      <td>Food</td>\n",
              "      <td>Food - Meat &amp; Game</td>\n",
              "      <td>Beef Deli &amp; Charcuterie</td>\n",
              "      <td>Beef - Deli &amp; Charcuterie</td>\n",
              "      <td>Beef Pastrami (NAMP # 611)</td>\n",
              "      <td>PASTRAMI - NEW YORK STYLE- SABRA</td>\n",
              "      <td>1820</td>\n",
              "      <td>Golden Gate Meat Company</td>\n",
              "      <td>Canonical</td>\n",
              "    </tr>\n",
              "    <tr>\n",
              "      <th>3</th>\n",
              "      <td>Food</td>\n",
              "      <td>Food - Meat &amp; Game</td>\n",
              "      <td>Beef Deli &amp; Charcuterie</td>\n",
              "      <td>Beef - Deli &amp; Charcuterie</td>\n",
              "      <td>Beef Pastrami (NAMP # 611)</td>\n",
              "      <td>PASTRAMI SLICED 5# BAGS (50# CASE)</td>\n",
              "      <td>1821</td>\n",
              "      <td>Golden Gate Meat Company</td>\n",
              "      <td>Canonical</td>\n",
              "    </tr>\n",
              "    <tr>\n",
              "      <th>4</th>\n",
              "      <td>Food</td>\n",
              "      <td>Food - Meat &amp; Game</td>\n",
              "      <td>Beef Deli &amp; Charcuterie</td>\n",
              "      <td>Beef - Deli &amp; Charcuterie</td>\n",
              "      <td>Beef Round - Eye of Round - Fully Cooked (NAMP...</td>\n",
              "      <td>ROAST BEEF EYE OF ROUND</td>\n",
              "      <td>1825</td>\n",
              "      <td>Golden Gate Meat Company</td>\n",
              "      <td>Canonical</td>\n",
              "    </tr>\n",
              "  </tbody>\n",
              "</table>\n",
              "</div>"
            ],
            "text/plain": [
              "  L0_Category            L1_Class                    L2_Category  \\\n",
              "0        Food  Food - Meat & Game        Beef -- Ground & Shapes   \n",
              "1        Food  Food - Meat & Game  Beef - Foodservice Whole Cuts   \n",
              "2        Food  Food - Meat & Game        Beef Deli & Charcuterie   \n",
              "3        Food  Food - Meat & Game        Beef Deli & Charcuterie   \n",
              "4        Food  Food - Meat & Game        Beef Deli & Charcuterie   \n",
              "\n",
              "   L3_Dictionary_SubCategory  \\\n",
              "0       Beef (Bulk) - Ground   \n",
              "1   Beef (Bulk) - Plate Cuts   \n",
              "2  Beef - Deli & Charcuterie   \n",
              "3  Beef - Deli & Charcuterie   \n",
              "4  Beef - Deli & Charcuterie   \n",
              "\n",
              "                               L4_dictionarySubgroup  \\\n",
              "0                    Beef Ground >10% Fat (NAMP 136)   \n",
              "1              Outside Skirt - Skinned (NAMP # 121E)   \n",
              "2                         Beef Pastrami (NAMP # 611)   \n",
              "3                         Beef Pastrami (NAMP # 611)   \n",
              "4  Beef Round - Eye of Round - Fully Cooked (NAMP...   \n",
              "\n",
              "                                 ProdName ItemCode                    Vendor  \\\n",
              "0       FINE GRIND BEEF TUBES 81/19 6/10#      624  Golden Gate Meat Company   \n",
              "1  AUST OUTSIDE SKIRT PEELED SOLD BY CASE     1717  Golden Gate Meat Company   \n",
              "2        PASTRAMI - NEW YORK STYLE- SABRA     1820  Golden Gate Meat Company   \n",
              "3      PASTRAMI SLICED 5# BAGS (50# CASE)     1821  Golden Gate Meat Company   \n",
              "4                 ROAST BEEF EYE OF ROUND     1825  Golden Gate Meat Company   \n",
              "\n",
              "    ProdType  \n",
              "0  Canonical  \n",
              "1  Canonical  \n",
              "2  Canonical  \n",
              "3  Canonical  \n",
              "4  Canonical  "
            ]
          },
          "execution_count": 4,
          "metadata": {},
          "output_type": "execute_result"
        }
      ],
      "source": [
        "df = pd.read_csv('../../../Datasets/food.csv')\n",
        "df.head()"
      ]
    },
    {
      "cell_type": "code",
      "execution_count": 5,
      "metadata": {
        "colab": {
          "base_uri": "https://localhost:8080/"
        },
        "id": "33ERLvljrbro",
        "outputId": "8652051c-4ef2-40bd-f899-d3413e206ed8"
      },
      "outputs": [
        {
          "data": {
            "text/plain": [
              "6140"
            ]
          },
          "execution_count": 5,
          "metadata": {},
          "output_type": "execute_result"
        }
      ],
      "source": [
        "# Counting L4 Category classes\n",
        "len(df.L4_dictionarySubgroup.unique())"
      ]
    },
    {
      "cell_type": "code",
      "execution_count": 6,
      "metadata": {
        "colab": {
          "base_uri": "https://localhost:8080/"
        },
        "id": "xOAPg_3Ti1N6",
        "outputId": "b3404125-ee9a-426c-9eba-38e6229d918e"
      },
      "outputs": [
        {
          "name": "stdout",
          "output_type": "stream",
          "text": [
            "L4_dictionarySubgroup\n",
            "Derby                                        14\n",
            "Deli Meats - Mixed                           14\n",
            "Sea Bass - Other and/or Unspecified Whole    14\n",
            "Flour - Pasta                                14\n",
            "Tonkatsu Sauce                               14\n",
            "                                             ..\n",
            "Napoleans                                     1\n",
            "Tomato - Pear - Fresh                         1\n",
            "Salad Kit - Caesar                            1\n",
            "Dried Whole Chili Pepper - Piquillo           1\n",
            "Rice - Cajun                                  1\n",
            "Name: count, Length: 2543, dtype: int64\n"
          ]
        }
      ],
      "source": [
        "value_counts = df.L4_dictionarySubgroup.value_counts()\n",
        "filtered_counts = value_counts[value_counts < 15]\n",
        "print(filtered_counts)"
      ]
    },
    {
      "cell_type": "code",
      "execution_count": null,
      "metadata": {
        "colab": {
          "base_uri": "https://localhost:8080/",
          "height": 430
        },
        "id": "gVb0Zt-xj3AY",
        "outputId": "04706f70-673d-4c18-fb27-fc80daea9da0"
      },
      "outputs": [],
      "source": [
        "# # Check value counts in a plot\n",
        "# # Import libraries\n",
        "# import matplotlib.pyplot as plt\n",
        "\n",
        "# # Get the values count\n",
        "# counts = df.L4_dictionarySubgroup.value_counts()\n",
        "\n",
        "\n",
        "# # Change the figure size\n",
        "# # fig = plt.figure(figsize=(10, 15))\n",
        "\n",
        "# for index, value in enumerate(counts.values):\n",
        "#     plt.text(value + 1, index, str(value))\n",
        "\n",
        "# plt.barh(counts.index, counts.values)\n",
        "# plt.show()"
      ]
    },
    {
      "cell_type": "code",
      "execution_count": null,
      "metadata": {
        "colab": {
          "base_uri": "https://localhost:8080/"
        },
        "id": "iVyiWEefFU7b",
        "outputId": "00a5a5c5-e5ad-4d5a-8b8a-e5de6f8ce061"
      },
      "outputs": [
        {
          "data": {
            "text/plain": [
              "(1328, 9)"
            ]
          },
          "execution_count": 19,
          "metadata": {},
          "output_type": "execute_result"
        }
      ],
      "source": [
        "# Checking the number of data points\n",
        "df.shape"
      ]
    },
    {
      "cell_type": "code",
      "execution_count": null,
      "metadata": {
        "id": "_DBXzQnLruUV"
      },
      "outputs": [],
      "source": [
        "# making the category\n",
        "df['L4'] = df['L4_dictionarySubgroup'].apply(class_pre)"
      ]
    },
    {
      "cell_type": "code",
      "execution_count": null,
      "metadata": {
        "id": "XBRPUZdVr62-"
      },
      "outputs": [],
      "source": [
        "# Making the category using labels into format\n",
        "df['category'] = '__label__' + df['L4'].astype(str)"
      ]
    },
    {
      "cell_type": "code",
      "execution_count": null,
      "metadata": {
        "id": "fcnITqhJr-Su"
      },
      "outputs": [],
      "source": [
        "# Dropping irrelavant columns\n",
        "columns = ['L0_Category', 'L4_dictionarySubgroup', 'ItemCode', 'Vendor', 'ProdType', 'L4']\n",
        "\n",
        "# Dropping\n",
        "df = df.drop(columns, axis=1)"
      ]
    },
    {
      "cell_type": "code",
      "execution_count": null,
      "metadata": {
        "colab": {
          "base_uri": "https://localhost:8080/",
          "height": 206
        },
        "id": "DOr-P1qfsyhV",
        "outputId": "e16a4209-3351-413a-9ec9-facbdedd17ac"
      },
      "outputs": [
        {
          "data": {
            "text/html": [
              "\n",
              "  <div id=\"df-6f5a5992-035a-4182-b257-8b97aa14a3f3\" class=\"colab-df-container\">\n",
              "    <div>\n",
              "<style scoped>\n",
              "    .dataframe tbody tr th:only-of-type {\n",
              "        vertical-align: middle;\n",
              "    }\n",
              "\n",
              "    .dataframe tbody tr th {\n",
              "        vertical-align: top;\n",
              "    }\n",
              "\n",
              "    .dataframe thead th {\n",
              "        text-align: right;\n",
              "    }\n",
              "</style>\n",
              "<table border=\"1\" class=\"dataframe\">\n",
              "  <thead>\n",
              "    <tr style=\"text-align: right;\">\n",
              "      <th></th>\n",
              "      <th>L1_Class</th>\n",
              "      <th>L2_Category</th>\n",
              "      <th>L3_Dictionary_SubCategory</th>\n",
              "      <th>ProdName</th>\n",
              "      <th>category</th>\n",
              "    </tr>\n",
              "  </thead>\n",
              "  <tbody>\n",
              "    <tr>\n",
              "      <th>0</th>\n",
              "      <td>Administrative Transactions</td>\n",
              "      <td>Admin -- Unclassifiable Products</td>\n",
              "      <td>Admin --- Unclassifiable Products</td>\n",
              "      <td>NEW CODE</td>\n",
              "      <td>__label__Unclassifiable_Items_Holding_L4</td>\n",
              "    </tr>\n",
              "    <tr>\n",
              "      <th>1</th>\n",
              "      <td>Administrative Transactions</td>\n",
              "      <td>Admin -- Unclassifiable Products</td>\n",
              "      <td>Admin --- Unclassifiable Products</td>\n",
              "      <td>NEW CODE</td>\n",
              "      <td>__label__Unclassifiable_Items_Holding_L4</td>\n",
              "    </tr>\n",
              "    <tr>\n",
              "      <th>2</th>\n",
              "      <td>Administrative Transactions</td>\n",
              "      <td>Admin -- Charges</td>\n",
              "      <td>Admin --- Shipping &amp; Handling Fees</td>\n",
              "      <td>SHIPPING CHARGE</td>\n",
              "      <td>__label__Shipping_Charge</td>\n",
              "    </tr>\n",
              "    <tr>\n",
              "      <th>3</th>\n",
              "      <td>Administrative Transactions</td>\n",
              "      <td>Admin -- Charges</td>\n",
              "      <td>Admin --- Shipping &amp; Handling Fees</td>\n",
              "      <td>DELIVERY CHARGE - EACH</td>\n",
              "      <td>__label__Delivery_Fee</td>\n",
              "    </tr>\n",
              "    <tr>\n",
              "      <th>4</th>\n",
              "      <td>Administrative Transactions</td>\n",
              "      <td>Admin -- Charges</td>\n",
              "      <td>Admin --- Custom Services Fees</td>\n",
              "      <td>MISCELANEOUS</td>\n",
              "      <td>__label__Miscellaneous_Items</td>\n",
              "    </tr>\n",
              "  </tbody>\n",
              "</table>\n",
              "</div>\n",
              "    <div class=\"colab-df-buttons\">\n",
              "\n",
              "  <div class=\"colab-df-container\">\n",
              "    <button class=\"colab-df-convert\" onclick=\"convertToInteractive('df-6f5a5992-035a-4182-b257-8b97aa14a3f3')\"\n",
              "            title=\"Convert this dataframe to an interactive table.\"\n",
              "            style=\"display:none;\">\n",
              "\n",
              "  <svg xmlns=\"http://www.w3.org/2000/svg\" height=\"24px\" viewBox=\"0 -960 960 960\">\n",
              "    <path d=\"M120-120v-720h720v720H120Zm60-500h600v-160H180v160Zm220 220h160v-160H400v160Zm0 220h160v-160H400v160ZM180-400h160v-160H180v160Zm440 0h160v-160H620v160ZM180-180h160v-160H180v160Zm440 0h160v-160H620v160Z\"/>\n",
              "  </svg>\n",
              "    </button>\n",
              "\n",
              "  <style>\n",
              "    .colab-df-container {\n",
              "      display:flex;\n",
              "      gap: 12px;\n",
              "    }\n",
              "\n",
              "    .colab-df-convert {\n",
              "      background-color: #E8F0FE;\n",
              "      border: none;\n",
              "      border-radius: 50%;\n",
              "      cursor: pointer;\n",
              "      display: none;\n",
              "      fill: #1967D2;\n",
              "      height: 32px;\n",
              "      padding: 0 0 0 0;\n",
              "      width: 32px;\n",
              "    }\n",
              "\n",
              "    .colab-df-convert:hover {\n",
              "      background-color: #E2EBFA;\n",
              "      box-shadow: 0px 1px 2px rgba(60, 64, 67, 0.3), 0px 1px 3px 1px rgba(60, 64, 67, 0.15);\n",
              "      fill: #174EA6;\n",
              "    }\n",
              "\n",
              "    .colab-df-buttons div {\n",
              "      margin-bottom: 4px;\n",
              "    }\n",
              "\n",
              "    [theme=dark] .colab-df-convert {\n",
              "      background-color: #3B4455;\n",
              "      fill: #D2E3FC;\n",
              "    }\n",
              "\n",
              "    [theme=dark] .colab-df-convert:hover {\n",
              "      background-color: #434B5C;\n",
              "      box-shadow: 0px 1px 3px 1px rgba(0, 0, 0, 0.15);\n",
              "      filter: drop-shadow(0px 1px 2px rgba(0, 0, 0, 0.3));\n",
              "      fill: #FFFFFF;\n",
              "    }\n",
              "  </style>\n",
              "\n",
              "    <script>\n",
              "      const buttonEl =\n",
              "        document.querySelector('#df-6f5a5992-035a-4182-b257-8b97aa14a3f3 button.colab-df-convert');\n",
              "      buttonEl.style.display =\n",
              "        google.colab.kernel.accessAllowed ? 'block' : 'none';\n",
              "\n",
              "      async function convertToInteractive(key) {\n",
              "        const element = document.querySelector('#df-6f5a5992-035a-4182-b257-8b97aa14a3f3');\n",
              "        const dataTable =\n",
              "          await google.colab.kernel.invokeFunction('convertToInteractive',\n",
              "                                                    [key], {});\n",
              "        if (!dataTable) return;\n",
              "\n",
              "        const docLinkHtml = 'Like what you see? Visit the ' +\n",
              "          '<a target=\"_blank\" href=https://colab.research.google.com/notebooks/data_table.ipynb>data table notebook</a>'\n",
              "          + ' to learn more about interactive tables.';\n",
              "        element.innerHTML = '';\n",
              "        dataTable['output_type'] = 'display_data';\n",
              "        await google.colab.output.renderOutput(dataTable, element);\n",
              "        const docLink = document.createElement('div');\n",
              "        docLink.innerHTML = docLinkHtml;\n",
              "        element.appendChild(docLink);\n",
              "      }\n",
              "    </script>\n",
              "  </div>\n",
              "\n",
              "\n",
              "<div id=\"df-a30faf69-4df6-4ff5-a122-bd0fba5a384e\">\n",
              "  <button class=\"colab-df-quickchart\" onclick=\"quickchart('df-a30faf69-4df6-4ff5-a122-bd0fba5a384e')\"\n",
              "            title=\"Suggest charts.\"\n",
              "            style=\"display:none;\">\n",
              "\n",
              "<svg xmlns=\"http://www.w3.org/2000/svg\" height=\"24px\"viewBox=\"0 0 24 24\"\n",
              "     width=\"24px\">\n",
              "    <g>\n",
              "        <path d=\"M19 3H5c-1.1 0-2 .9-2 2v14c0 1.1.9 2 2 2h14c1.1 0 2-.9 2-2V5c0-1.1-.9-2-2-2zM9 17H7v-7h2v7zm4 0h-2V7h2v10zm4 0h-2v-4h2v4z\"/>\n",
              "    </g>\n",
              "</svg>\n",
              "  </button>\n",
              "\n",
              "<style>\n",
              "  .colab-df-quickchart {\n",
              "    background-color: #E8F0FE;\n",
              "    border: none;\n",
              "    border-radius: 50%;\n",
              "    cursor: pointer;\n",
              "    display: none;\n",
              "    fill: #1967D2;\n",
              "    height: 32px;\n",
              "    padding: 0 0 0 0;\n",
              "    width: 32px;\n",
              "  }\n",
              "\n",
              "  .colab-df-quickchart:hover {\n",
              "    background-color: #E2EBFA;\n",
              "    box-shadow: 0px 1px 2px rgba(60, 64, 67, 0.3), 0px 1px 3px 1px rgba(60, 64, 67, 0.15);\n",
              "    fill: #174EA6;\n",
              "  }\n",
              "\n",
              "  [theme=dark] .colab-df-quickchart {\n",
              "    background-color: #3B4455;\n",
              "    fill: #D2E3FC;\n",
              "  }\n",
              "\n",
              "  [theme=dark] .colab-df-quickchart:hover {\n",
              "    background-color: #434B5C;\n",
              "    box-shadow: 0px 1px 3px 1px rgba(0, 0, 0, 0.15);\n",
              "    filter: drop-shadow(0px 1px 2px rgba(0, 0, 0, 0.3));\n",
              "    fill: #FFFFFF;\n",
              "  }\n",
              "</style>\n",
              "\n",
              "  <script>\n",
              "    async function quickchart(key) {\n",
              "      const charts = await google.colab.kernel.invokeFunction(\n",
              "          'suggestCharts', [key], {});\n",
              "    }\n",
              "    (() => {\n",
              "      let quickchartButtonEl =\n",
              "        document.querySelector('#df-a30faf69-4df6-4ff5-a122-bd0fba5a384e button');\n",
              "      quickchartButtonEl.style.display =\n",
              "        google.colab.kernel.accessAllowed ? 'block' : 'none';\n",
              "    })();\n",
              "  </script>\n",
              "</div>\n",
              "    </div>\n",
              "  </div>\n"
            ],
            "text/plain": [
              "                      L1_Class                       L2_Category  \\\n",
              "0  Administrative Transactions  Admin -- Unclassifiable Products   \n",
              "1  Administrative Transactions  Admin -- Unclassifiable Products   \n",
              "2  Administrative Transactions                  Admin -- Charges   \n",
              "3  Administrative Transactions                  Admin -- Charges   \n",
              "4  Administrative Transactions                  Admin -- Charges   \n",
              "\n",
              "            L3_Dictionary_SubCategory                ProdName  \\\n",
              "0   Admin --- Unclassifiable Products                NEW CODE   \n",
              "1   Admin --- Unclassifiable Products                NEW CODE   \n",
              "2  Admin --- Shipping & Handling Fees         SHIPPING CHARGE   \n",
              "3  Admin --- Shipping & Handling Fees  DELIVERY CHARGE - EACH   \n",
              "4      Admin --- Custom Services Fees            MISCELANEOUS   \n",
              "\n",
              "                                   category  \n",
              "0  __label__Unclassifiable_Items_Holding_L4  \n",
              "1  __label__Unclassifiable_Items_Holding_L4  \n",
              "2                  __label__Shipping_Charge  \n",
              "3                     __label__Delivery_Fee  \n",
              "4              __label__Miscellaneous_Items  "
            ]
          },
          "execution_count": 23,
          "metadata": {},
          "output_type": "execute_result"
        }
      ],
      "source": [
        "df.head()"
      ]
    },
    {
      "cell_type": "code",
      "execution_count": null,
      "metadata": {
        "id": "QoAqWKvQbIjG"
      },
      "outputs": [],
      "source": [
        "# Creating catehory description with producbt name and vendor\n",
        "# df['category_description'] = df['category'] + ' ' + df['L1_Class'] + ' ' + df['L2_Category'] + ' ' + df['L3_Dictionary_SubCategory'] + ' ' + df['ProdName']\n",
        "df['category_description'] = df['category'] + ' ' + df['L3_Dictionary_SubCategory'] + ' ' + df['ProdName']"
      ]
    },
    {
      "cell_type": "code",
      "execution_count": null,
      "metadata": {
        "id": "gNyeTbvUtWVr"
      },
      "outputs": [],
      "source": [
        "# Drop used columns\n",
        "columns = ['L1_Class', 'L2_Category', 'L3_Dictionary_SubCategory', 'ProdName']\n",
        "\n",
        "df = df.drop(columns, axis=1)"
      ]
    },
    {
      "cell_type": "code",
      "execution_count": null,
      "metadata": {
        "id": "3X_1xu2ntsZQ"
      },
      "outputs": [],
      "source": [
        "# Apply preprocessing function to 'category_description'\n",
        "\n",
        "df['category_description'] = df['category_description'].apply(preprocess)"
      ]
    },
    {
      "cell_type": "code",
      "execution_count": null,
      "metadata": {
        "id": "iBUFgNZ3uYuq"
      },
      "outputs": [],
      "source": [
        "# Test Train splitting\n",
        "from sklearn.model_selection import train_test_split\n",
        "\n",
        "train, test = train_test_split(df, test_size=0.1, random_state=42)"
      ]
    },
    {
      "cell_type": "code",
      "execution_count": null,
      "metadata": {
        "id": "JPDOFhzfuj6A"
      },
      "outputs": [],
      "source": [
        "# Save test and train dataset into two differnet files\n",
        "train.to_csv('/content/drive/MyDrive/Classification/FastText/Datasets/L4/admin_train.train',\n",
        "             columns=[\"category_description\"],\n",
        "             index=False,\n",
        "             header=False)\n",
        "\n",
        "test.to_csv('/content/drive/MyDrive/Classification/FastText/Datasets/L4/admin_test.train',\n",
        "             columns=[\"category_description\"],\n",
        "             index=False,\n",
        "             header=False)"
      ]
    },
    {
      "cell_type": "code",
      "execution_count": null,
      "metadata": {
        "colab": {
          "base_uri": "https://localhost:8080/"
        },
        "id": "UkhbpQI5urCU",
        "outputId": "8b063ab7-912e-41ae-9220-d18bdcc2ddd6"
      },
      "outputs": [
        {
          "data": {
            "text/plain": [
              "(133, 0.9849624060150376, 0.9849624060150376)"
            ]
          },
          "execution_count": 29,
          "metadata": {},
          "output_type": "execute_result"
        }
      ],
      "source": [
        "# Fast text model\n",
        "import fasttext\n",
        "\n",
        "model = fasttext.train_supervised(input='/content/drive/MyDrive/Classification/FastText/Datasets/L4/admin_train.train',\n",
        "                                  dim=300,\n",
        "                                  loss='hs',\n",
        "                                  wordNgrams=3,\n",
        "                                  lr=0.5,\n",
        "                                  epoch=20,\n",
        "                                  minn=3,\n",
        "                                  maxn=5)\n",
        "\n",
        "model.test('/content/drive/MyDrive/Classification/FastText/Datasets/L4/admin_test.train')"
      ]
    },
    {
      "cell_type": "code",
      "execution_count": null,
      "metadata": {
        "colab": {
          "base_uri": "https://localhost:8080/"
        },
        "id": "xXyi091U4w4k",
        "outputId": "c5ca331a-0d7c-40e2-9b99-98f53c7606ed"
      },
      "outputs": [
        {
          "data": {
            "text/plain": [
              "(('__label__unclassifiable_items_holding_l4',), array([1.00000572]))"
            ]
          },
          "execution_count": 30,
          "metadata": {},
          "output_type": "execute_result"
        }
      ],
      "source": [
        "text = 'Admin --- Unclassifiable Products\tCODE 101 NEW Product'\n",
        "text = preprocess(text)\n",
        "model.predict(text, k=5)\n",
        "# Correct class - Delivery fee"
      ]
    },
    {
      "cell_type": "markdown",
      "metadata": {
        "id": "Q5biYmki1UOy"
      },
      "source": [
        "Selecting datapoints with for prediction"
      ]
    },
    {
      "cell_type": "code",
      "execution_count": null,
      "metadata": {
        "colab": {
          "base_uri": "https://localhost:8080/",
          "height": 293
        },
        "id": "XeriPVB51a_T",
        "outputId": "46c00a00-64ee-4218-ef70-12acc644c5e4"
      },
      "outputs": [
        {
          "data": {
            "text/html": [
              "\n",
              "  <div id=\"df-be19ec7f-d2fa-4f9a-ba4c-0585a13c58a4\" class=\"colab-df-container\">\n",
              "    <div>\n",
              "<style scoped>\n",
              "    .dataframe tbody tr th:only-of-type {\n",
              "        vertical-align: middle;\n",
              "    }\n",
              "\n",
              "    .dataframe tbody tr th {\n",
              "        vertical-align: top;\n",
              "    }\n",
              "\n",
              "    .dataframe thead th {\n",
              "        text-align: right;\n",
              "    }\n",
              "</style>\n",
              "<table border=\"1\" class=\"dataframe\">\n",
              "  <thead>\n",
              "    <tr style=\"text-align: right;\">\n",
              "      <th></th>\n",
              "      <th>L0_Category</th>\n",
              "      <th>L1_Class</th>\n",
              "      <th>L2_Category</th>\n",
              "      <th>L3_Dictionary_SubCategory</th>\n",
              "      <th>L4_dictionarySubgroup</th>\n",
              "      <th>ProdName</th>\n",
              "      <th>ItemCode</th>\n",
              "      <th>Vendor</th>\n",
              "      <th>ProdType</th>\n",
              "    </tr>\n",
              "  </thead>\n",
              "  <tbody>\n",
              "    <tr>\n",
              "      <th>0</th>\n",
              "      <td>Administrative</td>\n",
              "      <td>Administrative Transactions</td>\n",
              "      <td>Admin -- Unclassifiable Products</td>\n",
              "      <td>Admin --- Unclassifiable Products</td>\n",
              "      <td>Unclassifiable Items - Holding L4</td>\n",
              "      <td>NEW CODE</td>\n",
              "      <td>115</td>\n",
              "      <td>Golden Gate Meat Company</td>\n",
              "      <td>Canonical</td>\n",
              "    </tr>\n",
              "    <tr>\n",
              "      <th>1</th>\n",
              "      <td>Administrative</td>\n",
              "      <td>Administrative Transactions</td>\n",
              "      <td>Admin -- Unclassifiable Products</td>\n",
              "      <td>Admin --- Unclassifiable Products</td>\n",
              "      <td>Unclassifiable Items - Holding L4</td>\n",
              "      <td>NEW CODE</td>\n",
              "      <td>3166</td>\n",
              "      <td>Golden Gate Meat Company</td>\n",
              "      <td>Canonical</td>\n",
              "    </tr>\n",
              "    <tr>\n",
              "      <th>2</th>\n",
              "      <td>Administrative</td>\n",
              "      <td>Administrative Transactions</td>\n",
              "      <td>Admin -- Charges</td>\n",
              "      <td>Admin --- Shipping &amp; Handling Fees</td>\n",
              "      <td>Shipping Charge</td>\n",
              "      <td>SHIPPING CHARGE</td>\n",
              "      <td>9666</td>\n",
              "      <td>Golden Gate Meat Company</td>\n",
              "      <td>Canonical</td>\n",
              "    </tr>\n",
              "    <tr>\n",
              "      <th>3</th>\n",
              "      <td>Administrative</td>\n",
              "      <td>Administrative Transactions</td>\n",
              "      <td>Admin -- Charges</td>\n",
              "      <td>Admin --- Shipping &amp; Handling Fees</td>\n",
              "      <td>Delivery Fee</td>\n",
              "      <td>DELIVERY CHARGE - EACH</td>\n",
              "      <td>9667</td>\n",
              "      <td>Golden Gate Meat Company</td>\n",
              "      <td>Canonical</td>\n",
              "    </tr>\n",
              "    <tr>\n",
              "      <th>4</th>\n",
              "      <td>Administrative</td>\n",
              "      <td>Administrative Transactions</td>\n",
              "      <td>Admin -- Charges</td>\n",
              "      <td>Admin --- Custom Services Fees</td>\n",
              "      <td>Miscellaneous Items</td>\n",
              "      <td>MISCELANEOUS</td>\n",
              "      <td>99999</td>\n",
              "      <td>Golden Gate Meat Company</td>\n",
              "      <td>Canonical</td>\n",
              "    </tr>\n",
              "  </tbody>\n",
              "</table>\n",
              "</div>\n",
              "    <div class=\"colab-df-buttons\">\n",
              "\n",
              "  <div class=\"colab-df-container\">\n",
              "    <button class=\"colab-df-convert\" onclick=\"convertToInteractive('df-be19ec7f-d2fa-4f9a-ba4c-0585a13c58a4')\"\n",
              "            title=\"Convert this dataframe to an interactive table.\"\n",
              "            style=\"display:none;\">\n",
              "\n",
              "  <svg xmlns=\"http://www.w3.org/2000/svg\" height=\"24px\" viewBox=\"0 -960 960 960\">\n",
              "    <path d=\"M120-120v-720h720v720H120Zm60-500h600v-160H180v160Zm220 220h160v-160H400v160Zm0 220h160v-160H400v160ZM180-400h160v-160H180v160Zm440 0h160v-160H620v160ZM180-180h160v-160H180v160Zm440 0h160v-160H620v160Z\"/>\n",
              "  </svg>\n",
              "    </button>\n",
              "\n",
              "  <style>\n",
              "    .colab-df-container {\n",
              "      display:flex;\n",
              "      gap: 12px;\n",
              "    }\n",
              "\n",
              "    .colab-df-convert {\n",
              "      background-color: #E8F0FE;\n",
              "      border: none;\n",
              "      border-radius: 50%;\n",
              "      cursor: pointer;\n",
              "      display: none;\n",
              "      fill: #1967D2;\n",
              "      height: 32px;\n",
              "      padding: 0 0 0 0;\n",
              "      width: 32px;\n",
              "    }\n",
              "\n",
              "    .colab-df-convert:hover {\n",
              "      background-color: #E2EBFA;\n",
              "      box-shadow: 0px 1px 2px rgba(60, 64, 67, 0.3), 0px 1px 3px 1px rgba(60, 64, 67, 0.15);\n",
              "      fill: #174EA6;\n",
              "    }\n",
              "\n",
              "    .colab-df-buttons div {\n",
              "      margin-bottom: 4px;\n",
              "    }\n",
              "\n",
              "    [theme=dark] .colab-df-convert {\n",
              "      background-color: #3B4455;\n",
              "      fill: #D2E3FC;\n",
              "    }\n",
              "\n",
              "    [theme=dark] .colab-df-convert:hover {\n",
              "      background-color: #434B5C;\n",
              "      box-shadow: 0px 1px 3px 1px rgba(0, 0, 0, 0.15);\n",
              "      filter: drop-shadow(0px 1px 2px rgba(0, 0, 0, 0.3));\n",
              "      fill: #FFFFFF;\n",
              "    }\n",
              "  </style>\n",
              "\n",
              "    <script>\n",
              "      const buttonEl =\n",
              "        document.querySelector('#df-be19ec7f-d2fa-4f9a-ba4c-0585a13c58a4 button.colab-df-convert');\n",
              "      buttonEl.style.display =\n",
              "        google.colab.kernel.accessAllowed ? 'block' : 'none';\n",
              "\n",
              "      async function convertToInteractive(key) {\n",
              "        const element = document.querySelector('#df-be19ec7f-d2fa-4f9a-ba4c-0585a13c58a4');\n",
              "        const dataTable =\n",
              "          await google.colab.kernel.invokeFunction('convertToInteractive',\n",
              "                                                    [key], {});\n",
              "        if (!dataTable) return;\n",
              "\n",
              "        const docLinkHtml = 'Like what you see? Visit the ' +\n",
              "          '<a target=\"_blank\" href=https://colab.research.google.com/notebooks/data_table.ipynb>data table notebook</a>'\n",
              "          + ' to learn more about interactive tables.';\n",
              "        element.innerHTML = '';\n",
              "        dataTable['output_type'] = 'display_data';\n",
              "        await google.colab.output.renderOutput(dataTable, element);\n",
              "        const docLink = document.createElement('div');\n",
              "        docLink.innerHTML = docLinkHtml;\n",
              "        element.appendChild(docLink);\n",
              "      }\n",
              "    </script>\n",
              "  </div>\n",
              "\n",
              "\n",
              "<div id=\"df-a2ca8129-48f7-42c5-bff4-0035d16f734a\">\n",
              "  <button class=\"colab-df-quickchart\" onclick=\"quickchart('df-a2ca8129-48f7-42c5-bff4-0035d16f734a')\"\n",
              "            title=\"Suggest charts.\"\n",
              "            style=\"display:none;\">\n",
              "\n",
              "<svg xmlns=\"http://www.w3.org/2000/svg\" height=\"24px\"viewBox=\"0 0 24 24\"\n",
              "     width=\"24px\">\n",
              "    <g>\n",
              "        <path d=\"M19 3H5c-1.1 0-2 .9-2 2v14c0 1.1.9 2 2 2h14c1.1 0 2-.9 2-2V5c0-1.1-.9-2-2-2zM9 17H7v-7h2v7zm4 0h-2V7h2v10zm4 0h-2v-4h2v4z\"/>\n",
              "    </g>\n",
              "</svg>\n",
              "  </button>\n",
              "\n",
              "<style>\n",
              "  .colab-df-quickchart {\n",
              "    background-color: #E8F0FE;\n",
              "    border: none;\n",
              "    border-radius: 50%;\n",
              "    cursor: pointer;\n",
              "    display: none;\n",
              "    fill: #1967D2;\n",
              "    height: 32px;\n",
              "    padding: 0 0 0 0;\n",
              "    width: 32px;\n",
              "  }\n",
              "\n",
              "  .colab-df-quickchart:hover {\n",
              "    background-color: #E2EBFA;\n",
              "    box-shadow: 0px 1px 2px rgba(60, 64, 67, 0.3), 0px 1px 3px 1px rgba(60, 64, 67, 0.15);\n",
              "    fill: #174EA6;\n",
              "  }\n",
              "\n",
              "  [theme=dark] .colab-df-quickchart {\n",
              "    background-color: #3B4455;\n",
              "    fill: #D2E3FC;\n",
              "  }\n",
              "\n",
              "  [theme=dark] .colab-df-quickchart:hover {\n",
              "    background-color: #434B5C;\n",
              "    box-shadow: 0px 1px 3px 1px rgba(0, 0, 0, 0.15);\n",
              "    filter: drop-shadow(0px 1px 2px rgba(0, 0, 0, 0.3));\n",
              "    fill: #FFFFFF;\n",
              "  }\n",
              "</style>\n",
              "\n",
              "  <script>\n",
              "    async function quickchart(key) {\n",
              "      const charts = await google.colab.kernel.invokeFunction(\n",
              "          'suggestCharts', [key], {});\n",
              "    }\n",
              "    (() => {\n",
              "      let quickchartButtonEl =\n",
              "        document.querySelector('#df-a2ca8129-48f7-42c5-bff4-0035d16f734a button');\n",
              "      quickchartButtonEl.style.display =\n",
              "        google.colab.kernel.accessAllowed ? 'block' : 'none';\n",
              "    })();\n",
              "  </script>\n",
              "</div>\n",
              "    </div>\n",
              "  </div>\n"
            ],
            "text/plain": [
              "      L0_Category                     L1_Class  \\\n",
              "0  Administrative  Administrative Transactions   \n",
              "1  Administrative  Administrative Transactions   \n",
              "2  Administrative  Administrative Transactions   \n",
              "3  Administrative  Administrative Transactions   \n",
              "4  Administrative  Administrative Transactions   \n",
              "\n",
              "                        L2_Category           L3_Dictionary_SubCategory  \\\n",
              "0  Admin -- Unclassifiable Products   Admin --- Unclassifiable Products   \n",
              "1  Admin -- Unclassifiable Products   Admin --- Unclassifiable Products   \n",
              "2                  Admin -- Charges  Admin --- Shipping & Handling Fees   \n",
              "3                  Admin -- Charges  Admin --- Shipping & Handling Fees   \n",
              "4                  Admin -- Charges      Admin --- Custom Services Fees   \n",
              "\n",
              "               L4_dictionarySubgroup                ProdName ItemCode  \\\n",
              "0  Unclassifiable Items - Holding L4                NEW CODE      115   \n",
              "1  Unclassifiable Items - Holding L4                NEW CODE     3166   \n",
              "2                    Shipping Charge         SHIPPING CHARGE     9666   \n",
              "3                       Delivery Fee  DELIVERY CHARGE - EACH     9667   \n",
              "4                Miscellaneous Items            MISCELANEOUS    99999   \n",
              "\n",
              "                     Vendor   ProdType  \n",
              "0  Golden Gate Meat Company  Canonical  \n",
              "1  Golden Gate Meat Company  Canonical  \n",
              "2  Golden Gate Meat Company  Canonical  \n",
              "3  Golden Gate Meat Company  Canonical  \n",
              "4  Golden Gate Meat Company  Canonical  "
            ]
          },
          "execution_count": 32,
          "metadata": {},
          "output_type": "execute_result"
        }
      ],
      "source": [
        "sample = pd.read_csv('/content/drive/MyDrive/Classification/FastText/Datasets/L4/administrative.csv')\n",
        "sample.head()"
      ]
    },
    {
      "cell_type": "code",
      "execution_count": null,
      "metadata": {
        "id": "udgrnjWE1pOt"
      },
      "outputs": [],
      "source": [
        "drop_columns = ['L0_Category', 'L1_Class', 'L2_Category', 'ItemCode', 'Vendor', 'ProdType']\n",
        "sample = sample.drop(drop_columns, axis=1)"
      ]
    },
    {
      "cell_type": "code",
      "execution_count": null,
      "metadata": {
        "colab": {
          "base_uri": "https://localhost:8080/",
          "height": 363
        },
        "id": "oNqKWPce2Adm",
        "outputId": "6551aaeb-9226-4e51-efed-0e72a821e02c"
      },
      "outputs": [
        {
          "data": {
            "text/html": [
              "\n",
              "  <div id=\"df-706e5d10-bc35-4d23-b0e5-40d4d8752da5\" class=\"colab-df-container\">\n",
              "    <div>\n",
              "<style scoped>\n",
              "    .dataframe tbody tr th:only-of-type {\n",
              "        vertical-align: middle;\n",
              "    }\n",
              "\n",
              "    .dataframe tbody tr th {\n",
              "        vertical-align: top;\n",
              "    }\n",
              "\n",
              "    .dataframe thead th {\n",
              "        text-align: right;\n",
              "    }\n",
              "</style>\n",
              "<table border=\"1\" class=\"dataframe\">\n",
              "  <thead>\n",
              "    <tr style=\"text-align: right;\">\n",
              "      <th></th>\n",
              "      <th>L3_Dictionary_SubCategory</th>\n",
              "      <th>L4_dictionarySubgroup</th>\n",
              "      <th>ProdName</th>\n",
              "    </tr>\n",
              "  </thead>\n",
              "  <tbody>\n",
              "    <tr>\n",
              "      <th>0</th>\n",
              "      <td>Admin --- Unclassifiable Products</td>\n",
              "      <td>Unclassifiable Items - Holding L4</td>\n",
              "      <td>NEW CODE</td>\n",
              "    </tr>\n",
              "    <tr>\n",
              "      <th>1</th>\n",
              "      <td>Admin --- Unclassifiable Products</td>\n",
              "      <td>Unclassifiable Items - Holding L4</td>\n",
              "      <td>NEW CODE</td>\n",
              "    </tr>\n",
              "    <tr>\n",
              "      <th>2</th>\n",
              "      <td>Admin --- Shipping &amp; Handling Fees</td>\n",
              "      <td>Shipping Charge</td>\n",
              "      <td>SHIPPING CHARGE</td>\n",
              "    </tr>\n",
              "    <tr>\n",
              "      <th>3</th>\n",
              "      <td>Admin --- Shipping &amp; Handling Fees</td>\n",
              "      <td>Delivery Fee</td>\n",
              "      <td>DELIVERY CHARGE - EACH</td>\n",
              "    </tr>\n",
              "    <tr>\n",
              "      <th>4</th>\n",
              "      <td>Admin --- Custom Services Fees</td>\n",
              "      <td>Miscellaneous Items</td>\n",
              "      <td>MISCELANEOUS</td>\n",
              "    </tr>\n",
              "    <tr>\n",
              "      <th>5</th>\n",
              "      <td>Admin --- Unclassifiable Products</td>\n",
              "      <td>Unclassifiable Items - Holding L4</td>\n",
              "      <td>NEW CODE</td>\n",
              "    </tr>\n",
              "    <tr>\n",
              "      <th>6</th>\n",
              "      <td>Admin --- Unclassifiable Products</td>\n",
              "      <td>Unclassifiable Items - Holding L4</td>\n",
              "      <td>OLD CODE DON`T USE</td>\n",
              "    </tr>\n",
              "    <tr>\n",
              "      <th>7</th>\n",
              "      <td>Admin --- Unclassifiable Products</td>\n",
              "      <td>Unclassifiable Items - Holding L4</td>\n",
              "      <td>NEW CODE</td>\n",
              "    </tr>\n",
              "    <tr>\n",
              "      <th>8</th>\n",
              "      <td>Admin --- Unclassifiable Products</td>\n",
              "      <td>Unclassifiable Items - Holding L4</td>\n",
              "      <td>OLD CODE</td>\n",
              "    </tr>\n",
              "    <tr>\n",
              "      <th>9</th>\n",
              "      <td>Admin --- Unclassifiable Products</td>\n",
              "      <td>Unclassifiable Items - Holding L4</td>\n",
              "      <td>NEW CODE</td>\n",
              "    </tr>\n",
              "  </tbody>\n",
              "</table>\n",
              "</div>\n",
              "    <div class=\"colab-df-buttons\">\n",
              "\n",
              "  <div class=\"colab-df-container\">\n",
              "    <button class=\"colab-df-convert\" onclick=\"convertToInteractive('df-706e5d10-bc35-4d23-b0e5-40d4d8752da5')\"\n",
              "            title=\"Convert this dataframe to an interactive table.\"\n",
              "            style=\"display:none;\">\n",
              "\n",
              "  <svg xmlns=\"http://www.w3.org/2000/svg\" height=\"24px\" viewBox=\"0 -960 960 960\">\n",
              "    <path d=\"M120-120v-720h720v720H120Zm60-500h600v-160H180v160Zm220 220h160v-160H400v160Zm0 220h160v-160H400v160ZM180-400h160v-160H180v160Zm440 0h160v-160H620v160ZM180-180h160v-160H180v160Zm440 0h160v-160H620v160Z\"/>\n",
              "  </svg>\n",
              "    </button>\n",
              "\n",
              "  <style>\n",
              "    .colab-df-container {\n",
              "      display:flex;\n",
              "      gap: 12px;\n",
              "    }\n",
              "\n",
              "    .colab-df-convert {\n",
              "      background-color: #E8F0FE;\n",
              "      border: none;\n",
              "      border-radius: 50%;\n",
              "      cursor: pointer;\n",
              "      display: none;\n",
              "      fill: #1967D2;\n",
              "      height: 32px;\n",
              "      padding: 0 0 0 0;\n",
              "      width: 32px;\n",
              "    }\n",
              "\n",
              "    .colab-df-convert:hover {\n",
              "      background-color: #E2EBFA;\n",
              "      box-shadow: 0px 1px 2px rgba(60, 64, 67, 0.3), 0px 1px 3px 1px rgba(60, 64, 67, 0.15);\n",
              "      fill: #174EA6;\n",
              "    }\n",
              "\n",
              "    .colab-df-buttons div {\n",
              "      margin-bottom: 4px;\n",
              "    }\n",
              "\n",
              "    [theme=dark] .colab-df-convert {\n",
              "      background-color: #3B4455;\n",
              "      fill: #D2E3FC;\n",
              "    }\n",
              "\n",
              "    [theme=dark] .colab-df-convert:hover {\n",
              "      background-color: #434B5C;\n",
              "      box-shadow: 0px 1px 3px 1px rgba(0, 0, 0, 0.15);\n",
              "      filter: drop-shadow(0px 1px 2px rgba(0, 0, 0, 0.3));\n",
              "      fill: #FFFFFF;\n",
              "    }\n",
              "  </style>\n",
              "\n",
              "    <script>\n",
              "      const buttonEl =\n",
              "        document.querySelector('#df-706e5d10-bc35-4d23-b0e5-40d4d8752da5 button.colab-df-convert');\n",
              "      buttonEl.style.display =\n",
              "        google.colab.kernel.accessAllowed ? 'block' : 'none';\n",
              "\n",
              "      async function convertToInteractive(key) {\n",
              "        const element = document.querySelector('#df-706e5d10-bc35-4d23-b0e5-40d4d8752da5');\n",
              "        const dataTable =\n",
              "          await google.colab.kernel.invokeFunction('convertToInteractive',\n",
              "                                                    [key], {});\n",
              "        if (!dataTable) return;\n",
              "\n",
              "        const docLinkHtml = 'Like what you see? Visit the ' +\n",
              "          '<a target=\"_blank\" href=https://colab.research.google.com/notebooks/data_table.ipynb>data table notebook</a>'\n",
              "          + ' to learn more about interactive tables.';\n",
              "        element.innerHTML = '';\n",
              "        dataTable['output_type'] = 'display_data';\n",
              "        await google.colab.output.renderOutput(dataTable, element);\n",
              "        const docLink = document.createElement('div');\n",
              "        docLink.innerHTML = docLinkHtml;\n",
              "        element.appendChild(docLink);\n",
              "      }\n",
              "    </script>\n",
              "  </div>\n",
              "\n",
              "\n",
              "<div id=\"df-b1fdb5e2-58a6-45c6-9525-832385cd86b6\">\n",
              "  <button class=\"colab-df-quickchart\" onclick=\"quickchart('df-b1fdb5e2-58a6-45c6-9525-832385cd86b6')\"\n",
              "            title=\"Suggest charts.\"\n",
              "            style=\"display:none;\">\n",
              "\n",
              "<svg xmlns=\"http://www.w3.org/2000/svg\" height=\"24px\"viewBox=\"0 0 24 24\"\n",
              "     width=\"24px\">\n",
              "    <g>\n",
              "        <path d=\"M19 3H5c-1.1 0-2 .9-2 2v14c0 1.1.9 2 2 2h14c1.1 0 2-.9 2-2V5c0-1.1-.9-2-2-2zM9 17H7v-7h2v7zm4 0h-2V7h2v10zm4 0h-2v-4h2v4z\"/>\n",
              "    </g>\n",
              "</svg>\n",
              "  </button>\n",
              "\n",
              "<style>\n",
              "  .colab-df-quickchart {\n",
              "    background-color: #E8F0FE;\n",
              "    border: none;\n",
              "    border-radius: 50%;\n",
              "    cursor: pointer;\n",
              "    display: none;\n",
              "    fill: #1967D2;\n",
              "    height: 32px;\n",
              "    padding: 0 0 0 0;\n",
              "    width: 32px;\n",
              "  }\n",
              "\n",
              "  .colab-df-quickchart:hover {\n",
              "    background-color: #E2EBFA;\n",
              "    box-shadow: 0px 1px 2px rgba(60, 64, 67, 0.3), 0px 1px 3px 1px rgba(60, 64, 67, 0.15);\n",
              "    fill: #174EA6;\n",
              "  }\n",
              "\n",
              "  [theme=dark] .colab-df-quickchart {\n",
              "    background-color: #3B4455;\n",
              "    fill: #D2E3FC;\n",
              "  }\n",
              "\n",
              "  [theme=dark] .colab-df-quickchart:hover {\n",
              "    background-color: #434B5C;\n",
              "    box-shadow: 0px 1px 3px 1px rgba(0, 0, 0, 0.15);\n",
              "    filter: drop-shadow(0px 1px 2px rgba(0, 0, 0, 0.3));\n",
              "    fill: #FFFFFF;\n",
              "  }\n",
              "</style>\n",
              "\n",
              "  <script>\n",
              "    async function quickchart(key) {\n",
              "      const charts = await google.colab.kernel.invokeFunction(\n",
              "          'suggestCharts', [key], {});\n",
              "    }\n",
              "    (() => {\n",
              "      let quickchartButtonEl =\n",
              "        document.querySelector('#df-b1fdb5e2-58a6-45c6-9525-832385cd86b6 button');\n",
              "      quickchartButtonEl.style.display =\n",
              "        google.colab.kernel.accessAllowed ? 'block' : 'none';\n",
              "    })();\n",
              "  </script>\n",
              "</div>\n",
              "    </div>\n",
              "  </div>\n"
            ],
            "text/plain": [
              "            L3_Dictionary_SubCategory              L4_dictionarySubgroup  \\\n",
              "0   Admin --- Unclassifiable Products  Unclassifiable Items - Holding L4   \n",
              "1   Admin --- Unclassifiable Products  Unclassifiable Items - Holding L4   \n",
              "2  Admin --- Shipping & Handling Fees                    Shipping Charge   \n",
              "3  Admin --- Shipping & Handling Fees                       Delivery Fee   \n",
              "4      Admin --- Custom Services Fees                Miscellaneous Items   \n",
              "5   Admin --- Unclassifiable Products  Unclassifiable Items - Holding L4   \n",
              "6   Admin --- Unclassifiable Products  Unclassifiable Items - Holding L4   \n",
              "7   Admin --- Unclassifiable Products  Unclassifiable Items - Holding L4   \n",
              "8   Admin --- Unclassifiable Products  Unclassifiable Items - Holding L4   \n",
              "9   Admin --- Unclassifiable Products  Unclassifiable Items - Holding L4   \n",
              "\n",
              "                 ProdName  \n",
              "0                NEW CODE  \n",
              "1                NEW CODE  \n",
              "2         SHIPPING CHARGE  \n",
              "3  DELIVERY CHARGE - EACH  \n",
              "4            MISCELANEOUS  \n",
              "5                NEW CODE  \n",
              "6      OLD CODE DON`T USE  \n",
              "7                NEW CODE  \n",
              "8                OLD CODE  \n",
              "9                NEW CODE  "
            ]
          },
          "execution_count": 34,
          "metadata": {},
          "output_type": "execute_result"
        }
      ],
      "source": [
        "sample.head(10)"
      ]
    },
    {
      "cell_type": "code",
      "execution_count": null,
      "metadata": {
        "colab": {
          "base_uri": "https://localhost:8080/"
        },
        "id": "MDJTYwcw2AYe",
        "outputId": "ac51243f-3059-4833-a317-f5a47e7283da"
      },
      "outputs": [
        {
          "name": "stdout",
          "output_type": "stream",
          "text": [
            "Unclassifiable Items - Holding L4\n",
            "Shipping Charge\n",
            "Delivery Fee\n",
            "Miscellaneous Items\n",
            "Samples\n",
            "Iced Tea BIBs\n",
            "Pick Up Charge\n",
            "Product Credits\n",
            "Handling Fee\n",
            "All Other Charges\n",
            "Freight Charge\n",
            "Fuel Surcharge\n",
            "Promotional Allowances\n",
            "Custom Design & Printing\n",
            "Crate or Pallet Delivery - Pick Up Charges\n",
            "Storage Charge\n",
            "Plate Charges for Artwork\n",
            "Returns\n"
          ]
        }
      ],
      "source": [
        "uniques = sample.L4_dictionarySubgroup.unique()\n",
        "for unique in uniques:\n",
        "  print(unique)"
      ]
    },
    {
      "cell_type": "code",
      "execution_count": null,
      "metadata": {
        "colab": {
          "base_uri": "https://localhost:8080/",
          "height": 206
        },
        "id": "fAaJyJhy2e56",
        "outputId": "717f71bd-0567-4e28-e09c-d57ce93602d5"
      },
      "outputs": [
        {
          "data": {
            "text/html": [
              "\n",
              "  <div id=\"df-c28dd904-2b22-4381-a20e-ccc37d3a57ce\" class=\"colab-df-container\">\n",
              "    <div>\n",
              "<style scoped>\n",
              "    .dataframe tbody tr th:only-of-type {\n",
              "        vertical-align: middle;\n",
              "    }\n",
              "\n",
              "    .dataframe tbody tr th {\n",
              "        vertical-align: top;\n",
              "    }\n",
              "\n",
              "    .dataframe thead th {\n",
              "        text-align: right;\n",
              "    }\n",
              "</style>\n",
              "<table border=\"1\" class=\"dataframe\">\n",
              "  <thead>\n",
              "    <tr style=\"text-align: right;\">\n",
              "      <th></th>\n",
              "      <th>L3_Dictionary_SubCategory</th>\n",
              "      <th>L4_dictionarySubgroup</th>\n",
              "      <th>ProdName</th>\n",
              "    </tr>\n",
              "  </thead>\n",
              "  <tbody>\n",
              "    <tr>\n",
              "      <th>0</th>\n",
              "      <td>Admin --- Unclassifiable Products</td>\n",
              "      <td>Unclassifiable Items - Holding L4</td>\n",
              "      <td>NEW CODE</td>\n",
              "    </tr>\n",
              "    <tr>\n",
              "      <th>1</th>\n",
              "      <td>Admin --- Unclassifiable Products</td>\n",
              "      <td>Unclassifiable Items - Holding L4</td>\n",
              "      <td>NEW CODE</td>\n",
              "    </tr>\n",
              "    <tr>\n",
              "      <th>5</th>\n",
              "      <td>Admin --- Unclassifiable Products</td>\n",
              "      <td>Unclassifiable Items - Holding L4</td>\n",
              "      <td>NEW CODE</td>\n",
              "    </tr>\n",
              "    <tr>\n",
              "      <th>6</th>\n",
              "      <td>Admin --- Unclassifiable Products</td>\n",
              "      <td>Unclassifiable Items - Holding L4</td>\n",
              "      <td>OLD CODE DON`T USE</td>\n",
              "    </tr>\n",
              "    <tr>\n",
              "      <th>7</th>\n",
              "      <td>Admin --- Unclassifiable Products</td>\n",
              "      <td>Unclassifiable Items - Holding L4</td>\n",
              "      <td>NEW CODE</td>\n",
              "    </tr>\n",
              "  </tbody>\n",
              "</table>\n",
              "</div>\n",
              "    <div class=\"colab-df-buttons\">\n",
              "\n",
              "  <div class=\"colab-df-container\">\n",
              "    <button class=\"colab-df-convert\" onclick=\"convertToInteractive('df-c28dd904-2b22-4381-a20e-ccc37d3a57ce')\"\n",
              "            title=\"Convert this dataframe to an interactive table.\"\n",
              "            style=\"display:none;\">\n",
              "\n",
              "  <svg xmlns=\"http://www.w3.org/2000/svg\" height=\"24px\" viewBox=\"0 -960 960 960\">\n",
              "    <path d=\"M120-120v-720h720v720H120Zm60-500h600v-160H180v160Zm220 220h160v-160H400v160Zm0 220h160v-160H400v160ZM180-400h160v-160H180v160Zm440 0h160v-160H620v160ZM180-180h160v-160H180v160Zm440 0h160v-160H620v160Z\"/>\n",
              "  </svg>\n",
              "    </button>\n",
              "\n",
              "  <style>\n",
              "    .colab-df-container {\n",
              "      display:flex;\n",
              "      gap: 12px;\n",
              "    }\n",
              "\n",
              "    .colab-df-convert {\n",
              "      background-color: #E8F0FE;\n",
              "      border: none;\n",
              "      border-radius: 50%;\n",
              "      cursor: pointer;\n",
              "      display: none;\n",
              "      fill: #1967D2;\n",
              "      height: 32px;\n",
              "      padding: 0 0 0 0;\n",
              "      width: 32px;\n",
              "    }\n",
              "\n",
              "    .colab-df-convert:hover {\n",
              "      background-color: #E2EBFA;\n",
              "      box-shadow: 0px 1px 2px rgba(60, 64, 67, 0.3), 0px 1px 3px 1px rgba(60, 64, 67, 0.15);\n",
              "      fill: #174EA6;\n",
              "    }\n",
              "\n",
              "    .colab-df-buttons div {\n",
              "      margin-bottom: 4px;\n",
              "    }\n",
              "\n",
              "    [theme=dark] .colab-df-convert {\n",
              "      background-color: #3B4455;\n",
              "      fill: #D2E3FC;\n",
              "    }\n",
              "\n",
              "    [theme=dark] .colab-df-convert:hover {\n",
              "      background-color: #434B5C;\n",
              "      box-shadow: 0px 1px 3px 1px rgba(0, 0, 0, 0.15);\n",
              "      filter: drop-shadow(0px 1px 2px rgba(0, 0, 0, 0.3));\n",
              "      fill: #FFFFFF;\n",
              "    }\n",
              "  </style>\n",
              "\n",
              "    <script>\n",
              "      const buttonEl =\n",
              "        document.querySelector('#df-c28dd904-2b22-4381-a20e-ccc37d3a57ce button.colab-df-convert');\n",
              "      buttonEl.style.display =\n",
              "        google.colab.kernel.accessAllowed ? 'block' : 'none';\n",
              "\n",
              "      async function convertToInteractive(key) {\n",
              "        const element = document.querySelector('#df-c28dd904-2b22-4381-a20e-ccc37d3a57ce');\n",
              "        const dataTable =\n",
              "          await google.colab.kernel.invokeFunction('convertToInteractive',\n",
              "                                                    [key], {});\n",
              "        if (!dataTable) return;\n",
              "\n",
              "        const docLinkHtml = 'Like what you see? Visit the ' +\n",
              "          '<a target=\"_blank\" href=https://colab.research.google.com/notebooks/data_table.ipynb>data table notebook</a>'\n",
              "          + ' to learn more about interactive tables.';\n",
              "        element.innerHTML = '';\n",
              "        dataTable['output_type'] = 'display_data';\n",
              "        await google.colab.output.renderOutput(dataTable, element);\n",
              "        const docLink = document.createElement('div');\n",
              "        docLink.innerHTML = docLinkHtml;\n",
              "        element.appendChild(docLink);\n",
              "      }\n",
              "    </script>\n",
              "  </div>\n",
              "\n",
              "\n",
              "<div id=\"df-5e6441da-78d4-4f0a-838a-52367514438b\">\n",
              "  <button class=\"colab-df-quickchart\" onclick=\"quickchart('df-5e6441da-78d4-4f0a-838a-52367514438b')\"\n",
              "            title=\"Suggest charts.\"\n",
              "            style=\"display:none;\">\n",
              "\n",
              "<svg xmlns=\"http://www.w3.org/2000/svg\" height=\"24px\"viewBox=\"0 0 24 24\"\n",
              "     width=\"24px\">\n",
              "    <g>\n",
              "        <path d=\"M19 3H5c-1.1 0-2 .9-2 2v14c0 1.1.9 2 2 2h14c1.1 0 2-.9 2-2V5c0-1.1-.9-2-2-2zM9 17H7v-7h2v7zm4 0h-2V7h2v10zm4 0h-2v-4h2v4z\"/>\n",
              "    </g>\n",
              "</svg>\n",
              "  </button>\n",
              "\n",
              "<style>\n",
              "  .colab-df-quickchart {\n",
              "    background-color: #E8F0FE;\n",
              "    border: none;\n",
              "    border-radius: 50%;\n",
              "    cursor: pointer;\n",
              "    display: none;\n",
              "    fill: #1967D2;\n",
              "    height: 32px;\n",
              "    padding: 0 0 0 0;\n",
              "    width: 32px;\n",
              "  }\n",
              "\n",
              "  .colab-df-quickchart:hover {\n",
              "    background-color: #E2EBFA;\n",
              "    box-shadow: 0px 1px 2px rgba(60, 64, 67, 0.3), 0px 1px 3px 1px rgba(60, 64, 67, 0.15);\n",
              "    fill: #174EA6;\n",
              "  }\n",
              "\n",
              "  [theme=dark] .colab-df-quickchart {\n",
              "    background-color: #3B4455;\n",
              "    fill: #D2E3FC;\n",
              "  }\n",
              "\n",
              "  [theme=dark] .colab-df-quickchart:hover {\n",
              "    background-color: #434B5C;\n",
              "    box-shadow: 0px 1px 3px 1px rgba(0, 0, 0, 0.15);\n",
              "    filter: drop-shadow(0px 1px 2px rgba(0, 0, 0, 0.3));\n",
              "    fill: #FFFFFF;\n",
              "  }\n",
              "</style>\n",
              "\n",
              "  <script>\n",
              "    async function quickchart(key) {\n",
              "      const charts = await google.colab.kernel.invokeFunction(\n",
              "          'suggestCharts', [key], {});\n",
              "    }\n",
              "    (() => {\n",
              "      let quickchartButtonEl =\n",
              "        document.querySelector('#df-5e6441da-78d4-4f0a-838a-52367514438b button');\n",
              "      quickchartButtonEl.style.display =\n",
              "        google.colab.kernel.accessAllowed ? 'block' : 'none';\n",
              "    })();\n",
              "  </script>\n",
              "</div>\n",
              "    </div>\n",
              "  </div>\n"
            ],
            "text/plain": [
              "           L3_Dictionary_SubCategory              L4_dictionarySubgroup  \\\n",
              "0  Admin --- Unclassifiable Products  Unclassifiable Items - Holding L4   \n",
              "1  Admin --- Unclassifiable Products  Unclassifiable Items - Holding L4   \n",
              "5  Admin --- Unclassifiable Products  Unclassifiable Items - Holding L4   \n",
              "6  Admin --- Unclassifiable Products  Unclassifiable Items - Holding L4   \n",
              "7  Admin --- Unclassifiable Products  Unclassifiable Items - Holding L4   \n",
              "\n",
              "             ProdName  \n",
              "0            NEW CODE  \n",
              "1            NEW CODE  \n",
              "5            NEW CODE  \n",
              "6  OLD CODE DON`T USE  \n",
              "7            NEW CODE  "
            ]
          },
          "execution_count": 36,
          "metadata": {},
          "output_type": "execute_result"
        }
      ],
      "source": [
        "sample_test = sample[sample['L4_dictionarySubgroup']=='Unclassifiable Items - Holding L4']\n",
        "sample_test.head()"
      ]
    },
    {
      "cell_type": "markdown",
      "metadata": {
        "id": "fRQjjn-rOueQ"
      },
      "source": [
        "### **Lable preprocessing Function**"
      ]
    },
    {
      "cell_type": "markdown",
      "metadata": {},
      "source": [
        "This will remove the unwanted parts from the predicted lable and return the lable in much readable manner"
      ]
    },
    {
      "cell_type": "code",
      "execution_count": null,
      "metadata": {
        "colab": {
          "base_uri": "https://localhost:8080/"
        },
        "id": "7BFrwiXNTz6E",
        "outputId": "eebbac0a-e767-4c28-a1f4-7e1bcb1a14a2"
      },
      "outputs": [
        {
          "name": "stdout",
          "output_type": "stream",
          "text": [
            "__label__unclassifiable_items_holding_l4\n"
          ]
        }
      ],
      "source": [
        "prediction = model.predict(text)\n",
        "print(prediction[0][0])"
      ]
    },
    {
      "cell_type": "code",
      "execution_count": null,
      "metadata": {
        "id": "9fOj1dBIOtZR"
      },
      "outputs": [],
      "source": [
        "# This function process the prediction by getting the input\n",
        "def get_lable(text):\n",
        "  # Processing the text\n",
        "  text = preprocess(text)\n",
        "  # Get the prediction\n",
        "  prediction = model.predict(text)\n",
        "  return prediction[0][0]"
      ]
    },
    {
      "cell_type": "code",
      "execution_count": null,
      "metadata": {
        "colab": {
          "base_uri": "https://localhost:8080/"
        },
        "id": "Xz3VIUFUUEc7",
        "outputId": "edf0dff0-0a4a-4e8e-f81f-fc148a034197"
      },
      "outputs": [
        {
          "name": "stdout",
          "output_type": "stream",
          "text": [
            "__label__unclassifiable_items_holding_l4\n"
          ]
        }
      ],
      "source": [
        "from_func = get_lable(text)\n",
        "print(from_func)"
      ]
    },
    {
      "cell_type": "code",
      "execution_count": null,
      "metadata": {
        "id": "LXbat28UZDwy"
      },
      "outputs": [],
      "source": [
        "# Function to preprocess the lable\n",
        "def label_processing(label):\n",
        "  label = re.sub('__label__', '', label)\n",
        "  label = re.sub('_', ' ', label)\n",
        "  label = re.sub(' +', ' ', label)\n",
        "  return label.strip().lower()"
      ]
    },
    {
      "cell_type": "code",
      "execution_count": null,
      "metadata": {
        "colab": {
          "base_uri": "https://localhost:8080/"
        },
        "id": "Uub6Ok-qaQID",
        "outputId": "6b2e0632-e416-41e9-e5a3-2ff45d5d44d9"
      },
      "outputs": [
        {
          "name": "stdout",
          "output_type": "stream",
          "text": [
            "unclassifiable items holding l4\n"
          ]
        }
      ],
      "source": [
        "print(label_processing(from_func))"
      ]
    }
  ],
  "metadata": {
    "colab": {
      "provenance": []
    },
    "kernelspec": {
      "display_name": "Python 3",
      "name": "python3"
    },
    "language_info": {
      "codemirror_mode": {
        "name": "ipython",
        "version": 3
      },
      "file_extension": ".py",
      "mimetype": "text/x-python",
      "name": "python",
      "nbconvert_exporter": "python",
      "pygments_lexer": "ipython3",
      "version": "3.9.17"
    }
  },
  "nbformat": 4,
  "nbformat_minor": 0
}
