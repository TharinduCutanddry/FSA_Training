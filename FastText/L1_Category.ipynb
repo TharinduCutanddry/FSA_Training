{
 "cells": [
  {
   "cell_type": "code",
   "execution_count": 1,
   "metadata": {
    "colab": {
     "base_uri": "https://localhost:8080/"
    },
    "id": "VcE5BvbLQ9GT",
    "outputId": "8be7ba2e-43d7-4958-c119-6cf6a571ff70"
   },
   "outputs": [],
   "source": [
    "!pip install fasttext"
   ]
  },
  {
   "cell_type": "code",
   "execution_count": 2,
   "metadata": {
    "colab": {
     "base_uri": "https://localhost:8080/"
    },
    "id": "4XBsnYB4l4wL",
    "outputId": "2604f076-88c8-4218-f477-9b2540dc5aae"
   },
   "outputs": [],
   "source": [
    "!pip install nltk"
   ]
  },
  {
   "cell_type": "code",
   "execution_count": 3,
   "metadata": {
    "colab": {
     "base_uri": "https://localhost:8080/"
    },
    "id": "TAF9KLhhUK0N",
    "outputId": "e16fd863-2ee5-4311-f241-0daca704dd12"
   },
   "outputs": [],
   "source": [
    "# Mounting Drive\n",
    "from google.colab import drive\n",
    "drive.mount('/content/drive')"
   ]
  },
  {
   "cell_type": "code",
   "execution_count": 4,
   "metadata": {
    "id": "ONfNBtjwUQyJ"
   },
   "outputs": [],
   "source": [
    "# importing libraries\n",
    "import pandas as pd\n",
    "import numpy as np\n",
    "import re"
   ]
  },
  {
   "cell_type": "code",
   "execution_count": 5,
   "metadata": {
    "colab": {
     "base_uri": "https://localhost:8080/",
     "height": 669
    },
    "id": "SxXN90oYUXNz",
    "outputId": "530895e6-a147-4551-e46b-8a3200bdfa6b"
   },
   "outputs": [
    {
     "data": {
      "text/html": [
       "<div>\n",
       "<style scoped>\n",
       "    .dataframe tbody tr th:only-of-type {\n",
       "        vertical-align: middle;\n",
       "    }\n",
       "\n",
       "    .dataframe tbody tr th {\n",
       "        vertical-align: top;\n",
       "    }\n",
       "\n",
       "    .dataframe thead th {\n",
       "        text-align: right;\n",
       "    }\n",
       "</style>\n",
       "<table border=\"1\" class=\"dataframe\">\n",
       "  <thead>\n",
       "    <tr style=\"text-align: right;\">\n",
       "      <th></th>\n",
       "      <th>L0_Category</th>\n",
       "      <th>L1_Class</th>\n",
       "      <th>L2_Category</th>\n",
       "      <th>L3_Dictionary_SubCategory</th>\n",
       "      <th>L4_dictionarySubgroup</th>\n",
       "      <th>ProdName</th>\n",
       "      <th>ItemCode</th>\n",
       "      <th>Vendor</th>\n",
       "      <th>ProdType</th>\n",
       "    </tr>\n",
       "  </thead>\n",
       "  <tbody>\n",
       "    <tr>\n",
       "      <th>0</th>\n",
       "      <td>NaN</td>\n",
       "      <td>NaN</td>\n",
       "      <td>NaN</td>\n",
       "      <td>NaN</td>\n",
       "      <td>NaN</td>\n",
       "      <td>GROUND CHUCK FLAP 50% CHUCK NECK 50%</td>\n",
       "      <td>623</td>\n",
       "      <td>Golden Gate Meat Company</td>\n",
       "      <td>Canonical</td>\n",
       "    </tr>\n",
       "    <tr>\n",
       "      <th>1</th>\n",
       "      <td>Food</td>\n",
       "      <td>Food - Meat &amp; Game</td>\n",
       "      <td>Beef -- Ground &amp; Shapes</td>\n",
       "      <td>Beef (Bulk) - Ground</td>\n",
       "      <td>Beef Ground &gt;10% Fat (NAMP 136)</td>\n",
       "      <td>FINE GRIND BEEF TUBES 81/19 6/10#</td>\n",
       "      <td>624</td>\n",
       "      <td>Golden Gate Meat Company</td>\n",
       "      <td>Canonical</td>\n",
       "    </tr>\n",
       "    <tr>\n",
       "      <th>2</th>\n",
       "      <td>Food</td>\n",
       "      <td>Food - Meat &amp; Game</td>\n",
       "      <td>Beef - Foodservice Whole Cuts</td>\n",
       "      <td>Beef (Bulk) - Plate Cuts</td>\n",
       "      <td>Outside Skirt - Skinned (NAMP # 121E)</td>\n",
       "      <td>AUST OUTSIDE SKIRT PEELED SOLD BY CASE</td>\n",
       "      <td>1717</td>\n",
       "      <td>Golden Gate Meat Company</td>\n",
       "      <td>Canonical</td>\n",
       "    </tr>\n",
       "    <tr>\n",
       "      <th>3</th>\n",
       "      <td>Food</td>\n",
       "      <td>Food - Meat &amp; Game</td>\n",
       "      <td>Beef Deli &amp; Charcuterie</td>\n",
       "      <td>Beef - Deli &amp; Charcuterie</td>\n",
       "      <td>Beef Pastrami (NAMP # 611)</td>\n",
       "      <td>PASTRAMI - NEW YORK STYLE- SABRA</td>\n",
       "      <td>1820</td>\n",
       "      <td>Golden Gate Meat Company</td>\n",
       "      <td>Canonical</td>\n",
       "    </tr>\n",
       "    <tr>\n",
       "      <th>4</th>\n",
       "      <td>Food</td>\n",
       "      <td>Food - Meat &amp; Game</td>\n",
       "      <td>Beef Deli &amp; Charcuterie</td>\n",
       "      <td>Beef - Deli &amp; Charcuterie</td>\n",
       "      <td>Beef Pastrami (NAMP # 611)</td>\n",
       "      <td>PASTRAMI SLICED 5# BAGS (50# CASE)</td>\n",
       "      <td>1821</td>\n",
       "      <td>Golden Gate Meat Company</td>\n",
       "      <td>Canonical</td>\n",
       "    </tr>\n",
       "  </tbody>\n",
       "</table>\n",
       "</div>"
      ],
      "text/plain": [
       "  L0_Category            L1_Class                    L2_Category  \\\n",
       "0         NaN                 NaN                            NaN   \n",
       "1        Food  Food - Meat & Game        Beef -- Ground & Shapes   \n",
       "2        Food  Food - Meat & Game  Beef - Foodservice Whole Cuts   \n",
       "3        Food  Food - Meat & Game        Beef Deli & Charcuterie   \n",
       "4        Food  Food - Meat & Game        Beef Deli & Charcuterie   \n",
       "\n",
       "   L3_Dictionary_SubCategory                  L4_dictionarySubgroup  \\\n",
       "0                        NaN                                    NaN   \n",
       "1       Beef (Bulk) - Ground        Beef Ground >10% Fat (NAMP 136)   \n",
       "2   Beef (Bulk) - Plate Cuts  Outside Skirt - Skinned (NAMP # 121E)   \n",
       "3  Beef - Deli & Charcuterie             Beef Pastrami (NAMP # 611)   \n",
       "4  Beef - Deli & Charcuterie             Beef Pastrami (NAMP # 611)   \n",
       "\n",
       "                                 ProdName ItemCode                    Vendor  \\\n",
       "0    GROUND CHUCK FLAP 50% CHUCK NECK 50%      623  Golden Gate Meat Company   \n",
       "1       FINE GRIND BEEF TUBES 81/19 6/10#      624  Golden Gate Meat Company   \n",
       "2  AUST OUTSIDE SKIRT PEELED SOLD BY CASE     1717  Golden Gate Meat Company   \n",
       "3        PASTRAMI - NEW YORK STYLE- SABRA     1820  Golden Gate Meat Company   \n",
       "4      PASTRAMI SLICED 5# BAGS (50# CASE)     1821  Golden Gate Meat Company   \n",
       "\n",
       "    ProdType  \n",
       "0  Canonical  \n",
       "1  Canonical  \n",
       "2  Canonical  \n",
       "3  Canonical  \n",
       "4  Canonical  "
      ]
     },
     "execution_count": 5,
     "metadata": {},
     "output_type": "execute_result"
    }
   ],
   "source": [
    "# Load the dataset\n",
    "df = pd.read_csv('../Datasets/fsa_prod_dump.csv', on_bad_lines='skip')\n",
    "df.head()"
   ]
  },
  {
   "cell_type": "code",
   "execution_count": 6,
   "metadata": {
    "colab": {
     "base_uri": "https://localhost:8080/"
    },
    "id": "AGOPWwooVmsd",
    "outputId": "4ee53c65-509c-430e-9f87-6f5c3d86256b"
   },
   "outputs": [
    {
     "data": {
      "text/plain": [
       "(1021560, 9)"
      ]
     },
     "execution_count": 6,
     "metadata": {},
     "output_type": "execute_result"
    }
   ],
   "source": [
    "df.shape"
   ]
  },
  {
   "cell_type": "code",
   "execution_count": 7,
   "metadata": {
    "id": "MIqO2z4oVtvK"
   },
   "outputs": [],
   "source": [
    "# Droppig missing values\n",
    "df = df.dropna(axis=0)\n",
    "\n",
    "# Drop duplicates\n",
    "df.drop_duplicates(keep='first', inplace=True)"
   ]
  },
  {
   "cell_type": "markdown",
   "metadata": {
    "id": "mhWu-UNUX6bB"
   },
   "source": [
    "# **L0 Category**"
   ]
  },
  {
   "cell_type": "code",
   "execution_count": 8,
   "metadata": {
    "colab": {
     "base_uri": "https://localhost:8080/",
     "height": 143
    },
    "id": "tFM1vjNkWPvY",
    "outputId": "593d942e-1110-4929-ade2-74e7e842ed17"
   },
   "outputs": [
    {
     "data": {
      "text/html": [
       "<div>\n",
       "<style scoped>\n",
       "    .dataframe tbody tr th:only-of-type {\n",
       "        vertical-align: middle;\n",
       "    }\n",
       "\n",
       "    .dataframe tbody tr th {\n",
       "        vertical-align: top;\n",
       "    }\n",
       "\n",
       "    .dataframe thead th {\n",
       "        text-align: right;\n",
       "    }\n",
       "</style>\n",
       "<table border=\"1\" class=\"dataframe\">\n",
       "  <thead>\n",
       "    <tr style=\"text-align: right;\">\n",
       "      <th></th>\n",
       "      <th>L0_Category</th>\n",
       "      <th>L1_Class</th>\n",
       "      <th>ProdName</th>\n",
       "    </tr>\n",
       "  </thead>\n",
       "  <tbody>\n",
       "    <tr>\n",
       "      <th>1</th>\n",
       "      <td>Food</td>\n",
       "      <td>Food - Meat &amp; Game</td>\n",
       "      <td>FINE GRIND BEEF TUBES 81/19 6/10#</td>\n",
       "    </tr>\n",
       "    <tr>\n",
       "      <th>2</th>\n",
       "      <td>Food</td>\n",
       "      <td>Food - Meat &amp; Game</td>\n",
       "      <td>AUST OUTSIDE SKIRT PEELED SOLD BY CASE</td>\n",
       "    </tr>\n",
       "    <tr>\n",
       "      <th>3</th>\n",
       "      <td>Food</td>\n",
       "      <td>Food - Meat &amp; Game</td>\n",
       "      <td>PASTRAMI - NEW YORK STYLE- SABRA</td>\n",
       "    </tr>\n",
       "  </tbody>\n",
       "</table>\n",
       "</div>"
      ],
      "text/plain": [
       "  L0_Category            L1_Class                                ProdName\n",
       "1        Food  Food - Meat & Game       FINE GRIND BEEF TUBES 81/19 6/10#\n",
       "2        Food  Food - Meat & Game  AUST OUTSIDE SKIRT PEELED SOLD BY CASE\n",
       "3        Food  Food - Meat & Game        PASTRAMI - NEW YORK STYLE- SABRA"
      ]
     },
     "execution_count": 8,
     "metadata": {},
     "output_type": "execute_result"
    }
   ],
   "source": [
    "# Selecting columns for L1 category\n",
    "columns = ['L0_Category', 'L1_Class', 'ProdName']\n",
    "\n",
    "df = df[columns]\n",
    "df.head(3)"
   ]
  },
  {
   "cell_type": "code",
   "execution_count": 9,
   "metadata": {
    "id": "k6K92sGEYgri"
   },
   "outputs": [
    {
     "data": {
      "text/plain": [
       "array(['Food - Meat & Game', 'Prepared - Sub-Recipe Items RTC - RTU',\n",
       "       'Prepared - Snack Items RTC - RTE', 'Food - Poultry & Fowl',\n",
       "       'Food - Dairy Incl Eggs & Cheese', 'Food - Seafood & Amphibians',\n",
       "       'Administrative Transactions',\n",
       "       'Pantry - Oils - Lards - Vinegars - Wines - Pan Releases',\n",
       "       'Prepared - Menu Items RTC - RTE',\n",
       "       'Operationals - Office & Financial',\n",
       "       'Operationals - Production (BOH) Supplies',\n",
       "       'Operationals - Equipment Incl Appliances',\n",
       "       'Operationals - Guest & Staff', 'Operationals - Facility Ops',\n",
       "       'Pantry - Condiments & Marinades',\n",
       "       'Pantry - Pasta - Noodles - Rice - Cereals - Grains',\n",
       "       'Pantry - Spices - Seasonings - Extracts - Flavoring',\n",
       "       'Beverage - Bev-Alc', 'Beverage - NA-Bev',\n",
       "       'Operationals - Service (FOH) Supplies',\n",
       "       'Produce - Fruits - Fresh or Pkg', 'Operationals - Cleaning',\n",
       "       'Pantry - All Other Incl Additives - Pet - Pickled - Wraps',\n",
       "       'Pantry - Olives - Capers - Nuts - Seeds',\n",
       "       'Pantry - Bakery - Flour - Sugar - Yeasts - Etc',\n",
       "       'Pantry - Non-Fountain Syrups - Honey - Molasses',\n",
       "       'Pantry - Jams - Spreads - Fruit & Nut Butters',\n",
       "       'Produce - Vegetables Excl Leafy - Fresh or Pkg',\n",
       "       'Produce - Leafy & Micro - Fresh or Pkg',\n",
       "       'Produce - All Other Incl Bean & Mushroom - Fresh or Pkg',\n",
       "       'Beverage - NA-Bev - Dispensed',\n",
       "       'Operationals - Furniture & Fixtures'], dtype=object)"
      ]
     },
     "execution_count": 9,
     "metadata": {},
     "output_type": "execute_result"
    }
   ],
   "source": [
    "df.L1_Class.unique()"
   ]
  },
  {
   "cell_type": "code",
   "execution_count": 10,
   "metadata": {
    "colab": {
     "base_uri": "https://localhost:8080/"
    },
    "id": "LzsI4jwep37G",
    "outputId": "2d3fe362-6c58-49bd-bd62-2cb81c8cd05a"
   },
   "outputs": [
    {
     "data": {
      "text/plain": [
       "32"
      ]
     },
     "execution_count": 10,
     "metadata": {},
     "output_type": "execute_result"
    }
   ],
   "source": [
    "# Counting L2 Category classes\n",
    "len(df.L1_Class.unique())"
   ]
  },
  {
   "cell_type": "code",
   "execution_count": 11,
   "metadata": {
    "colab": {
     "base_uri": "https://localhost:8080/"
    },
    "id": "xZfLSzkgmFWo",
    "outputId": "57ea966f-d244-4c1d-dd77-06d8ab4b0db7"
   },
   "outputs": [],
   "source": [
    "# Importing Libraries\n",
    "# import nltk\n",
    "# from nltk.corpus import stopwords\n",
    "\n",
    "# # Download stopwords\n",
    "# nltk.download(\"stopwords\")"
   ]
  },
  {
   "cell_type": "code",
   "execution_count": 12,
   "metadata": {
    "id": "KcpYGFA6YpUh"
   },
   "outputs": [],
   "source": [
    "# Preprocessing fuction for category\n",
    "def class_pre(text):\n",
    "  new_text = re.sub(r'&', 'and', text)\n",
    "  new_text = re.sub(r'[^\\w\\s]',' ', new_text)\n",
    "  new_text = re.sub(r' +', ' ', new_text)\n",
    "  new_text = re.sub(r'\\s', '_', new_text)\n",
    "  return new_text"
   ]
  },
  {
   "cell_type": "code",
   "execution_count": 13,
   "metadata": {
    "id": "MPJ03_NlmKhT"
   },
   "outputs": [],
   "source": [
    "# Did a slight modification, convert & into and\n",
    "# Then removes extra whitespaces\n",
    "\n",
    "# def clean(string):\n",
    "#     string = re.sub('&', 'and ', string)\n",
    "#     raw_text = re.sub(\"[^a-zA-Z]+\", \" \", string)\n",
    "#     raw_text = re.sub(' +', ' ', raw_text)\n",
    "#     raw_text = raw_text.strip()\n",
    "#     words = raw_text.lower().split()\n",
    "#     stops = set(stopwords.words(\"english\"))\n",
    "#     meaningful_words = [\n",
    "#         word for word in words if ((not word in stops) and (len(word) >= 3))\n",
    "#     ]\n",
    "#     string = \" \".join(meaningful_words)\n",
    "#     return string"
   ]
  },
  {
   "cell_type": "code",
   "execution_count": 14,
   "metadata": {
    "id": "6qY81ZBTZ2nz"
   },
   "outputs": [],
   "source": [
    "# uniques = df.L2_Category.unique()\n",
    "\n",
    "# for word in uniques:\n",
    "#   pp = class_pre(word)\n",
    "#   print(pp)"
   ]
  },
  {
   "cell_type": "code",
   "execution_count": 15,
   "metadata": {
    "id": "OBSLq0zFaU5P"
   },
   "outputs": [],
   "source": [
    "# making the category\n",
    "df['L1'] = df['L1_Class'].apply(class_pre)"
   ]
  },
  {
   "cell_type": "code",
   "execution_count": 16,
   "metadata": {
    "id": "R6nUkPtLai7q"
   },
   "outputs": [],
   "source": [
    "# Creating label of the class according to the fasttext format\n",
    "df['category'] = '__label__' + df['L1'].astype(str)"
   ]
  },
  {
   "cell_type": "code",
   "execution_count": 17,
   "metadata": {
    "id": "Iq8zJNDWa3ww"
   },
   "outputs": [],
   "source": [
    "# Drop used columns\n",
    "df = df.drop(['L1_Class', 'L1'], axis=1)"
   ]
  },
  {
   "cell_type": "code",
   "execution_count": 19,
   "metadata": {
    "id": "QoAqWKvQbIjG"
   },
   "outputs": [],
   "source": [
    "# Creating catehory description with producbt name and vendor\n",
    "df['category_description'] = df['category'] + ' ' + df['L0_Category'] + ' ' + df['ProdName']\n",
    "# df['category_description'] = df['L0_Category'] + ' ' + df['L1_Class'] + ' ' + df['ProdName']"
   ]
  },
  {
   "cell_type": "code",
   "execution_count": 20,
   "metadata": {
    "id": "EITn7qKcctYy"
   },
   "outputs": [],
   "source": [
    "#  Drop the columns : ProdName, L0_Category, L1_Class\n",
    "df = df.drop(['L0_Category', 'ProdName'], axis=1)"
   ]
  },
  {
   "cell_type": "code",
   "execution_count": 21,
   "metadata": {
    "colab": {
     "base_uri": "https://localhost:8080/",
     "height": 206
    },
    "id": "iXBynlnHgTDN",
    "outputId": "de644662-0849-4e82-a718-6888343297b0"
   },
   "outputs": [
    {
     "data": {
      "text/html": [
       "<div>\n",
       "<style scoped>\n",
       "    .dataframe tbody tr th:only-of-type {\n",
       "        vertical-align: middle;\n",
       "    }\n",
       "\n",
       "    .dataframe tbody tr th {\n",
       "        vertical-align: top;\n",
       "    }\n",
       "\n",
       "    .dataframe thead th {\n",
       "        text-align: right;\n",
       "    }\n",
       "</style>\n",
       "<table border=\"1\" class=\"dataframe\">\n",
       "  <thead>\n",
       "    <tr style=\"text-align: right;\">\n",
       "      <th></th>\n",
       "      <th>category</th>\n",
       "      <th>category_description</th>\n",
       "    </tr>\n",
       "  </thead>\n",
       "  <tbody>\n",
       "    <tr>\n",
       "      <th>1</th>\n",
       "      <td>__label__Food_Meat_and_Game</td>\n",
       "      <td>__label__Food_Meat_and_Game Food FINE GRIND BE...</td>\n",
       "    </tr>\n",
       "    <tr>\n",
       "      <th>2</th>\n",
       "      <td>__label__Food_Meat_and_Game</td>\n",
       "      <td>__label__Food_Meat_and_Game Food AUST OUTSIDE ...</td>\n",
       "    </tr>\n",
       "    <tr>\n",
       "      <th>3</th>\n",
       "      <td>__label__Food_Meat_and_Game</td>\n",
       "      <td>__label__Food_Meat_and_Game Food PASTRAMI - NE...</td>\n",
       "    </tr>\n",
       "    <tr>\n",
       "      <th>4</th>\n",
       "      <td>__label__Food_Meat_and_Game</td>\n",
       "      <td>__label__Food_Meat_and_Game Food PASTRAMI SLIC...</td>\n",
       "    </tr>\n",
       "    <tr>\n",
       "      <th>5</th>\n",
       "      <td>__label__Food_Meat_and_Game</td>\n",
       "      <td>__label__Food_Meat_and_Game Food ROAST BEEF EY...</td>\n",
       "    </tr>\n",
       "  </tbody>\n",
       "</table>\n",
       "</div>"
      ],
      "text/plain": [
       "                      category  \\\n",
       "1  __label__Food_Meat_and_Game   \n",
       "2  __label__Food_Meat_and_Game   \n",
       "3  __label__Food_Meat_and_Game   \n",
       "4  __label__Food_Meat_and_Game   \n",
       "5  __label__Food_Meat_and_Game   \n",
       "\n",
       "                                category_description  \n",
       "1  __label__Food_Meat_and_Game Food FINE GRIND BE...  \n",
       "2  __label__Food_Meat_and_Game Food AUST OUTSIDE ...  \n",
       "3  __label__Food_Meat_and_Game Food PASTRAMI - NE...  \n",
       "4  __label__Food_Meat_and_Game Food PASTRAMI SLIC...  \n",
       "5  __label__Food_Meat_and_Game Food ROAST BEEF EY...  "
      ]
     },
     "execution_count": 21,
     "metadata": {},
     "output_type": "execute_result"
    }
   ],
   "source": [
    "df.head()"
   ]
  },
  {
   "cell_type": "code",
   "execution_count": 23,
   "metadata": {
    "id": "NfcLc-I7hb61"
   },
   "outputs": [],
   "source": [
    "# Replace all white spaces whith single space\n",
    "# Remove white spaces in begining and end of the text\n",
    "# Turn text into lower case\n",
    "\n",
    "# Preprocessing Function\n",
    "def preprocess(text):\n",
    "    text = re.sub(r'&', 'and', text)\n",
    "    text = re.sub(r'[^\\w\\s]',' ', text)\n",
    "    text = re.sub(' +', ' ', text)\n",
    "    return text.strip().lower()"
   ]
  },
  {
   "cell_type": "code",
   "execution_count": 24,
   "metadata": {
    "id": "nCBY39B0hmfh"
   },
   "outputs": [],
   "source": [
    "# Apply preprocessing function to 'category_description'\n",
    "\n",
    "df['category_description'] = df['category_description'].apply(preprocess)\n",
    "# df['category_description'] = df['category'].apply(preprocess) + ' ' + df['category_description'].apply(clean)"
   ]
  },
  {
   "cell_type": "code",
   "execution_count": 26,
   "metadata": {
    "id": "16-rL9WQkRBG"
   },
   "outputs": [],
   "source": [
    "# Test Train splitting\n",
    "from sklearn.model_selection import train_test_split\n",
    "\n",
    "# 98% training | 2% testing\n",
    "train, test = train_test_split(df, test_size=0.02, random_state=42)"
   ]
  },
  {
   "cell_type": "code",
   "execution_count": 27,
   "metadata": {
    "id": "2AcjQGOikj_O"
   },
   "outputs": [],
   "source": [
    "# Save test and train dataset into two differnet files\n",
    "train.to_csv('train_set.train',\n",
    "             columns=[\"category_description\"],\n",
    "             index=False,\n",
    "             header=False)\n",
    "\n",
    "test.to_csv('test_set.train',\n",
    "             columns=[\"category_description\"],\n",
    "             index=False,\n",
    "             header=False)"
   ]
  },
  {
   "cell_type": "code",
   "execution_count": 28,
   "metadata": {
    "colab": {
     "base_uri": "https://localhost:8080/"
    },
    "id": "5Z6ClFQJlBW9",
    "outputId": "f2abd655-4f59-4547-c14d-8d4851bcc429"
   },
   "outputs": [
    {
     "data": {
      "text/plain": [
       "(13917, 0.9573183875835309, 0.9573183875835309)"
      ]
     },
     "execution_count": 28,
     "metadata": {},
     "output_type": "execute_result"
    }
   ],
   "source": [
    "# Fast text model\n",
    "import fasttext\n",
    "\n",
    "model = fasttext.train_supervised(input='train_set.train',\n",
    "                                  dim=600,\n",
    "                                  loss='hs',\n",
    "                                  wordNgrams=3,\n",
    "                                  lr=0.4,\n",
    "                                  minn=3,\n",
    "                                  maxn=5)\n",
    "\n",
    "model.test('test_set.train')"
   ]
  },
  {
   "cell_type": "code",
   "execution_count": 29,
   "metadata": {
    "colab": {
     "base_uri": "https://localhost:8080/"
    },
    "id": "hZd9K33RrjAZ",
    "outputId": "5909db9c-cd30-4e59-c578-e177a988e476"
   },
   "outputs": [],
   "source": [
    "text = 'Bag Paper Kraft wine large'\n",
    "text = preprocess(text)\n",
    "model.predict(text, k=5)\n",
    "# # # True L2 Class = Bags - Service - Disposable"
   ]
  },
  {
   "cell_type": "code",
   "execution_count": 30,
   "metadata": {
    "id": "5bEddQPYPFNU"
   },
   "outputs": [],
   "source": [
    "model.save_model(\"../Models/L1/tuned_model.bin\")"
   ]
  }
 ],
 "metadata": {
  "accelerator": "GPU",
  "colab": {
   "gpuType": "T4",
   "provenance": []
  },
  "kernelspec": {
   "display_name": "Python 3 (ipykernel)",
   "language": "python",
   "name": "python3"
  },
  "language_info": {
   "codemirror_mode": {
    "name": "ipython",
    "version": 3
   },
   "file_extension": ".py",
   "mimetype": "text/x-python",
   "name": "python",
   "nbconvert_exporter": "python",
   "pygments_lexer": "ipython3",
   "version": "3.9.17"
  }
 },
 "nbformat": 4,
 "nbformat_minor": 4
}
