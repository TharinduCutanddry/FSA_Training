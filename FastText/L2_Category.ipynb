{
 "cells": [
  {
   "cell_type": "code",
   "execution_count": 6,
   "metadata": {
    "colab": {
     "base_uri": "https://localhost:8080/"
    },
    "id": "VcE5BvbLQ9GT",
    "outputId": "8be7ba2e-43d7-4958-c119-6cf6a571ff70"
   },
   "outputs": [],
   "source": [
    "!pip install fasttext"
   ]
  },
  {
   "cell_type": "code",
   "execution_count": 7,
   "metadata": {
    "colab": {
     "base_uri": "https://localhost:8080/"
    },
    "id": "4XBsnYB4l4wL",
    "outputId": "2604f076-88c8-4218-f477-9b2540dc5aae"
   },
   "outputs": [],
   "source": [
    "!pip install nltk"
   ]
  },
  {
   "cell_type": "code",
   "execution_count": 8,
   "metadata": {
    "colab": {
     "base_uri": "https://localhost:8080/"
    },
    "id": "TAF9KLhhUK0N",
    "outputId": "e16fd863-2ee5-4311-f241-0daca704dd12"
   },
   "outputs": [],
   "source": [
    "# Mounting Drive\n",
    "from google.colab import drive\n",
    "drive.mount('/content/drive')"
   ]
  },
  {
   "cell_type": "code",
   "execution_count": 9,
   "metadata": {
    "id": "ONfNBtjwUQyJ"
   },
   "outputs": [],
   "source": [
    "# importing libraries\n",
    "import pandas as pd\n",
    "import numpy as np\n",
    "import re"
   ]
  },
  {
   "cell_type": "code",
   "execution_count": 10,
   "metadata": {
    "colab": {
     "base_uri": "https://localhost:8080/",
     "height": 669
    },
    "id": "SxXN90oYUXNz",
    "outputId": "530895e6-a147-4551-e46b-8a3200bdfa6b"
   },
   "outputs": [
    {
     "data": {
      "text/html": [
       "<div>\n",
       "<style scoped>\n",
       "    .dataframe tbody tr th:only-of-type {\n",
       "        vertical-align: middle;\n",
       "    }\n",
       "\n",
       "    .dataframe tbody tr th {\n",
       "        vertical-align: top;\n",
       "    }\n",
       "\n",
       "    .dataframe thead th {\n",
       "        text-align: right;\n",
       "    }\n",
       "</style>\n",
       "<table border=\"1\" class=\"dataframe\">\n",
       "  <thead>\n",
       "    <tr style=\"text-align: right;\">\n",
       "      <th></th>\n",
       "      <th>L0_Category</th>\n",
       "      <th>L1_Class</th>\n",
       "      <th>L2_Category</th>\n",
       "      <th>L3_Dictionary_SubCategory</th>\n",
       "      <th>L4_dictionarySubgroup</th>\n",
       "      <th>ProdName</th>\n",
       "      <th>ItemCode</th>\n",
       "      <th>Vendor</th>\n",
       "      <th>ProdType</th>\n",
       "    </tr>\n",
       "  </thead>\n",
       "  <tbody>\n",
       "    <tr>\n",
       "      <th>0</th>\n",
       "      <td>NaN</td>\n",
       "      <td>NaN</td>\n",
       "      <td>NaN</td>\n",
       "      <td>NaN</td>\n",
       "      <td>NaN</td>\n",
       "      <td>GROUND CHUCK FLAP 50% CHUCK NECK 50%</td>\n",
       "      <td>623</td>\n",
       "      <td>Golden Gate Meat Company</td>\n",
       "      <td>Canonical</td>\n",
       "    </tr>\n",
       "    <tr>\n",
       "      <th>1</th>\n",
       "      <td>Food</td>\n",
       "      <td>Food - Meat &amp; Game</td>\n",
       "      <td>Beef -- Ground &amp; Shapes</td>\n",
       "      <td>Beef (Bulk) - Ground</td>\n",
       "      <td>Beef Ground &gt;10% Fat (NAMP 136)</td>\n",
       "      <td>FINE GRIND BEEF TUBES 81/19 6/10#</td>\n",
       "      <td>624</td>\n",
       "      <td>Golden Gate Meat Company</td>\n",
       "      <td>Canonical</td>\n",
       "    </tr>\n",
       "    <tr>\n",
       "      <th>2</th>\n",
       "      <td>Food</td>\n",
       "      <td>Food - Meat &amp; Game</td>\n",
       "      <td>Beef - Foodservice Whole Cuts</td>\n",
       "      <td>Beef (Bulk) - Plate Cuts</td>\n",
       "      <td>Outside Skirt - Skinned (NAMP # 121E)</td>\n",
       "      <td>AUST OUTSIDE SKIRT PEELED SOLD BY CASE</td>\n",
       "      <td>1717</td>\n",
       "      <td>Golden Gate Meat Company</td>\n",
       "      <td>Canonical</td>\n",
       "    </tr>\n",
       "    <tr>\n",
       "      <th>3</th>\n",
       "      <td>Food</td>\n",
       "      <td>Food - Meat &amp; Game</td>\n",
       "      <td>Beef Deli &amp; Charcuterie</td>\n",
       "      <td>Beef - Deli &amp; Charcuterie</td>\n",
       "      <td>Beef Pastrami (NAMP # 611)</td>\n",
       "      <td>PASTRAMI - NEW YORK STYLE- SABRA</td>\n",
       "      <td>1820</td>\n",
       "      <td>Golden Gate Meat Company</td>\n",
       "      <td>Canonical</td>\n",
       "    </tr>\n",
       "    <tr>\n",
       "      <th>4</th>\n",
       "      <td>Food</td>\n",
       "      <td>Food - Meat &amp; Game</td>\n",
       "      <td>Beef Deli &amp; Charcuterie</td>\n",
       "      <td>Beef - Deli &amp; Charcuterie</td>\n",
       "      <td>Beef Pastrami (NAMP # 611)</td>\n",
       "      <td>PASTRAMI SLICED 5# BAGS (50# CASE)</td>\n",
       "      <td>1821</td>\n",
       "      <td>Golden Gate Meat Company</td>\n",
       "      <td>Canonical</td>\n",
       "    </tr>\n",
       "  </tbody>\n",
       "</table>\n",
       "</div>"
      ],
      "text/plain": [
       "  L0_Category            L1_Class                    L2_Category  \\\n",
       "0         NaN                 NaN                            NaN   \n",
       "1        Food  Food - Meat & Game        Beef -- Ground & Shapes   \n",
       "2        Food  Food - Meat & Game  Beef - Foodservice Whole Cuts   \n",
       "3        Food  Food - Meat & Game        Beef Deli & Charcuterie   \n",
       "4        Food  Food - Meat & Game        Beef Deli & Charcuterie   \n",
       "\n",
       "   L3_Dictionary_SubCategory                  L4_dictionarySubgroup  \\\n",
       "0                        NaN                                    NaN   \n",
       "1       Beef (Bulk) - Ground        Beef Ground >10% Fat (NAMP 136)   \n",
       "2   Beef (Bulk) - Plate Cuts  Outside Skirt - Skinned (NAMP # 121E)   \n",
       "3  Beef - Deli & Charcuterie             Beef Pastrami (NAMP # 611)   \n",
       "4  Beef - Deli & Charcuterie             Beef Pastrami (NAMP # 611)   \n",
       "\n",
       "                                 ProdName ItemCode                    Vendor  \\\n",
       "0    GROUND CHUCK FLAP 50% CHUCK NECK 50%      623  Golden Gate Meat Company   \n",
       "1       FINE GRIND BEEF TUBES 81/19 6/10#      624  Golden Gate Meat Company   \n",
       "2  AUST OUTSIDE SKIRT PEELED SOLD BY CASE     1717  Golden Gate Meat Company   \n",
       "3        PASTRAMI - NEW YORK STYLE- SABRA     1820  Golden Gate Meat Company   \n",
       "4      PASTRAMI SLICED 5# BAGS (50# CASE)     1821  Golden Gate Meat Company   \n",
       "\n",
       "    ProdType  \n",
       "0  Canonical  \n",
       "1  Canonical  \n",
       "2  Canonical  \n",
       "3  Canonical  \n",
       "4  Canonical  "
      ]
     },
     "execution_count": 10,
     "metadata": {},
     "output_type": "execute_result"
    }
   ],
   "source": [
    "# Load the dataset\n",
    "df = pd.read_csv('../Datasets/fsa_prod_dump.csv', on_bad_lines='skip')\n",
    "df.head()"
   ]
  },
  {
   "cell_type": "code",
   "execution_count": 11,
   "metadata": {
    "colab": {
     "base_uri": "https://localhost:8080/"
    },
    "id": "AGOPWwooVmsd",
    "outputId": "4ee53c65-509c-430e-9f87-6f5c3d86256b"
   },
   "outputs": [
    {
     "data": {
      "text/plain": [
       "(1021560, 9)"
      ]
     },
     "execution_count": 11,
     "metadata": {},
     "output_type": "execute_result"
    }
   ],
   "source": [
    "df.shape"
   ]
  },
  {
   "cell_type": "code",
   "execution_count": 12,
   "metadata": {
    "id": "MIqO2z4oVtvK"
   },
   "outputs": [],
   "source": [
    "# Droppig missing values\n",
    "df = df.dropna(axis=0)\n",
    "\n",
    "# Drop duplicates\n",
    "df.drop_duplicates(keep='first', inplace=True)"
   ]
  },
  {
   "cell_type": "markdown",
   "metadata": {
    "id": "mhWu-UNUX6bB"
   },
   "source": [
    "# **L2 Category**"
   ]
  },
  {
   "cell_type": "code",
   "execution_count": 13,
   "metadata": {
    "colab": {
     "base_uri": "https://localhost:8080/",
     "height": 143
    },
    "id": "tFM1vjNkWPvY",
    "outputId": "593d942e-1110-4929-ade2-74e7e842ed17"
   },
   "outputs": [
    {
     "data": {
      "text/html": [
       "<div>\n",
       "<style scoped>\n",
       "    .dataframe tbody tr th:only-of-type {\n",
       "        vertical-align: middle;\n",
       "    }\n",
       "\n",
       "    .dataframe tbody tr th {\n",
       "        vertical-align: top;\n",
       "    }\n",
       "\n",
       "    .dataframe thead th {\n",
       "        text-align: right;\n",
       "    }\n",
       "</style>\n",
       "<table border=\"1\" class=\"dataframe\">\n",
       "  <thead>\n",
       "    <tr style=\"text-align: right;\">\n",
       "      <th></th>\n",
       "      <th>L0_Category</th>\n",
       "      <th>L1_Class</th>\n",
       "      <th>L2_Category</th>\n",
       "      <th>ProdName</th>\n",
       "    </tr>\n",
       "  </thead>\n",
       "  <tbody>\n",
       "    <tr>\n",
       "      <th>1</th>\n",
       "      <td>Food</td>\n",
       "      <td>Food - Meat &amp; Game</td>\n",
       "      <td>Beef -- Ground &amp; Shapes</td>\n",
       "      <td>FINE GRIND BEEF TUBES 81/19 6/10#</td>\n",
       "    </tr>\n",
       "    <tr>\n",
       "      <th>2</th>\n",
       "      <td>Food</td>\n",
       "      <td>Food - Meat &amp; Game</td>\n",
       "      <td>Beef - Foodservice Whole Cuts</td>\n",
       "      <td>AUST OUTSIDE SKIRT PEELED SOLD BY CASE</td>\n",
       "    </tr>\n",
       "    <tr>\n",
       "      <th>3</th>\n",
       "      <td>Food</td>\n",
       "      <td>Food - Meat &amp; Game</td>\n",
       "      <td>Beef Deli &amp; Charcuterie</td>\n",
       "      <td>PASTRAMI - NEW YORK STYLE- SABRA</td>\n",
       "    </tr>\n",
       "  </tbody>\n",
       "</table>\n",
       "</div>"
      ],
      "text/plain": [
       "  L0_Category            L1_Class                    L2_Category  \\\n",
       "1        Food  Food - Meat & Game        Beef -- Ground & Shapes   \n",
       "2        Food  Food - Meat & Game  Beef - Foodservice Whole Cuts   \n",
       "3        Food  Food - Meat & Game        Beef Deli & Charcuterie   \n",
       "\n",
       "                                 ProdName  \n",
       "1       FINE GRIND BEEF TUBES 81/19 6/10#  \n",
       "2  AUST OUTSIDE SKIRT PEELED SOLD BY CASE  \n",
       "3        PASTRAMI - NEW YORK STYLE- SABRA  "
      ]
     },
     "execution_count": 13,
     "metadata": {},
     "output_type": "execute_result"
    }
   ],
   "source": [
    "# Selecting columns for L1 category\n",
    "columns = ['L0_Category', 'L1_Class', 'L2_Category', 'ProdName']\n",
    "\n",
    "df = df[columns]\n",
    "df.head(3)"
   ]
  },
  {
   "cell_type": "code",
   "execution_count": 14,
   "metadata": {
    "id": "k6K92sGEYgri"
   },
   "outputs": [
    {
     "data": {
      "text/plain": [
       "array(['Beef -- Ground & Shapes', 'Beef - Foodservice Whole Cuts',\n",
       "       'Beef Deli & Charcuterie', 'Savory Sauces',\n",
       "       'Pork -- Foodservice Whole Cuts', 'Snack Kits or Combos',\n",
       "       'Pork -- Bones - Offal - Extremities - Fat',\n",
       "       'Lamb - Foodservice Whole Cuts', 'Pork -- Bacon',\n",
       "       'Turkey -- Value Added', 'Chicken -- Value Added',\n",
       "       'Dairy -- Cheese', 'Turkey -- Ground & Sub-Part Pieces',\n",
       "       'Duck -- Foodservice Cuts',\n",
       "       'Duck -- Bones - Offal - Extremities - Fat', 'Fowl - Pheasant Etc',\n",
       "       'Venison', 'Wild Boar', 'Shellfish -- Shrimp & Prawn',\n",
       "       'Shellfish -- Lobster - Crabs - Seashell',\n",
       "       'Shellfish -- All BiValves',\n",
       "       'Beef -- Portioned Incl Steaks & Chops',\n",
       "       'Admin -- Unclassifiable Products',\n",
       "       'Beef Bones - Offal - Extremities - Fat',\n",
       "       'Veal -- Foodservice Whole Cuts',\n",
       "       'Veal -- Foodservice Portion Cuts',\n",
       "       'Veal -- Bones - Offal - Fat - Extremities',\n",
       "       'Pork -- Portioned Incl Steaks & Chops', 'Pork -- Ham',\n",
       "       'Lamb - Bones - Carcass - Offal Etc', 'Goat - All Forms',\n",
       "       'Pork -- Charcuterie Incl Deli - Sausage - Franks',\n",
       "       'Pork -- Value Added (Breaded - Cured - Smoked Etc)',\n",
       "       'Finfish --- Steaks & Pieces - Alphabetical',\n",
       "       'Chicken -- Foodservice Standard Cuts', 'Cornish Hen - All Forms',\n",
       "       'Turkey -- Foodservice Cuts',\n",
       "       'Turkey -- Bones - Offal - Extremities - Fat', 'Goose - All Forms',\n",
       "       'Rabbit - Hare', 'Bison (or Buffalo) -- All Forms',\n",
       "       'Elk - All Forms', 'Finfish --- Whole - Alphabetical',\n",
       "       'Finfish --- Fillets - Alphabetical', 'Fat - Lard - Shortening',\n",
       "       'Pork -- Diced - Sliced - Shapes - Trimmings',\n",
       "       'Menu Items - Potatoes Incl French Fries',\n",
       "       'Jerky & Other Dried Meat Snacks',\n",
       "       \"Prepared Apps - Hors d'oeuvres - Bite-Sized\",\n",
       "       'Chicken -- Bones - Offal - Extremities - Fat',\n",
       "       'Cephalopods --- Squid - Octopus Etc', 'Veal -- Value Added',\n",
       "       'Pork -- Ground Incl Patties', 'Lamb - Ground & Shapes',\n",
       "       'Duck -- Value Added', 'Menu Items - Poultry Centric Dishes',\n",
       "       'Amphibians', 'Chili - Soup - Stew - Stock -- Bases or Mixes',\n",
       "       'Menu Items - Meat Centric Dishes', 'Lamb - All Further Processed',\n",
       "       'Chicken -- Sub-Part Pieces', 'Dairy -- Eggs & Substitutes',\n",
       "       'Meat - Exotic', 'Finfish --- Loins - Alphabetical',\n",
       "       'Cephlapods and Shellfish --- Shelf Stable', 'Salads',\n",
       "       'Meat Alternatives -- Plant-Based Protein',\n",
       "       'Burgers - Hot Dogs - Sausages', 'Broth - Bouillon - Consomme',\n",
       "       'Office Supplies', 'Boards - Liners - Sheets - Disposable',\n",
       "       'Equipment Maintenance', 'Admin -- Charges', 'Staff Apparel',\n",
       "       'Bags - Production - Disposable',\n",
       "       'Trash & Garbage Liners - Bags - Disposable',\n",
       "       'Lamb - Portioned Including Chops', 'Caviars & Roes',\n",
       "       'Pate - Mousse - Tapenade - Rillette', 'Mixed Meats Products',\n",
       "       'Condiments', 'Pasta',\n",
       "       'Pork -- Further Value Added (Breaded - Cooked / Etc)',\n",
       "       'Salt & Pepper', 'Admin -- Samples', 'Soups & Stews',\n",
       "       'Imitation & Alternatives',\n",
       "       'Beverage -- BevAlc - Spirits Incl Aperitifs',\n",
       "       'Beverage -- BevAlc - Wine Incl Sparkling',\n",
       "       'Beverage -- BevAlc - Beers',\n",
       "       'Beverage -- Add-Ins - Fountain Syrups - Cocktail Mixes',\n",
       "       'Service Wares -- Drinkware',\n",
       "       'Beverage -- Carbonated Soft Drinks (CSDs) ', 'Beverage -- Coffee',\n",
       "       'Service Supplies', 'Filters - Disposable', 'Beverage -- Waters',\n",
       "       'Beverage -- BevAlc - Sake & Plum Wines', 'Fruit - All Other',\n",
       "       'Cooking Wines', 'Cleaning Chemicals',\n",
       "       'Pickled Fruits - Flowers - Nuts',\n",
       "       'Pickled - Preserved - Fermented Vegetables',\n",
       "       'Olives & Capers - Shelf Stable', 'Beverage -- Tea',\n",
       "       'Beverage -- Juices & Drinks Excl Sparkling',\n",
       "       'Textiles - Production', 'Beverage -- Energy & Sport',\n",
       "       'Freezing & Refrigeration Appliances',\n",
       "       'Bakery Commodity Ingredients', 'Production Equipment',\n",
       "       'Edible & Cooking Oils by Type',\n",
       "       'Non-Fountain Syrups - Honeys - Molasses', 'Extracts & Flavorings',\n",
       "       'Dairy -- Beverages', 'Service Cups & Lids - Disposable',\n",
       "       'Beverage -- BevAlc - Hard Ciders & Sodas', 'Candy & Chocolate',\n",
       "       'Service Wares -- Flatware', 'Beverage -- All Other',\n",
       "       'Prepared Menu Items - Bakery', 'Prepared Menu Items - Breakfast',\n",
       "       'Seasonings - Spices - Dried Herbs', 'Crackers & Breadsticks',\n",
       "       'Bakery and Dessert - Dough & Dough Shells',\n",
       "       'Energy or Nutrition Snacks',\n",
       "       'Bakery and Dessert - Add-Ins & Edible Decoratives',\n",
       "       'Beverage -- Cocoa', 'Custards - Gelatins - Puddings - Etc',\n",
       "       'Fruit Spreads - Jams - Preserves - Chutneys Etc', 'Wraps & Skins',\n",
       "       'Savory Recipe Components - RTU & Bases & Mixes',\n",
       "       'Bakery and Dessert - Bases & Mixes & Pastes',\n",
       "       'Bakery and Dessert - Cones & Shells RTU', 'Dairy -- Milk & Cream',\n",
       "       'Dairy -- Yogurt & Kefir',\n",
       "       'Ice Cream and All Other Frozen Desserts (ICFYN)',\n",
       "       'Salad Dressings - Prepared or Mix', 'Mayonnaise',\n",
       "       'Dips - Salsa - Spread', 'Fruit - Avocado',\n",
       "       'Menu Items - Pasta Dishes', 'Menu Items - Rice or Noodle Dishes',\n",
       "       'Ethnic Dishes Excl Pasta', 'Sandwiches - All Forms',\n",
       "       'Menu Items - Pizza - Flatbread - Calzone',\n",
       "       'Dessert - Toppings & Sauces Excl Syrups', 'Vegetables - Tomato',\n",
       "       'Fruit - Apples', 'Finfish --- Shelf Stable ', 'Vegetables - Peas',\n",
       "       'Vegetables - Beans (Not Legumes)', 'Vegetables - All Other',\n",
       "       'Vegetables - Beets', 'All Other Salty Snacks', 'Noodles', 'Nuts',\n",
       "       'Leafy Greens - Cabbage', 'Vegetables - Carrot', 'Fruit - Melon',\n",
       "       'Mushrooms & Truffles', 'Vegetables - Celery',\n",
       "       'Vegetables - Fresh or Frozen Herbs', 'Vegetables - Corn',\n",
       "       'Vegetables - Cucumber', 'Vegetables - Radish',\n",
       "       'Vegetables - Eggplant', 'Fruit - Citrus',\n",
       "       'Non-Ingredient Additives & Preservatives', 'Leafy Greens',\n",
       "       'Vegetables - Onion & Shallot', 'Fruit - Pears',\n",
       "       'Vegetables - Peppers', 'Vegetables - Chili Peppers',\n",
       "       'Fruit - Cherries', 'Vegetables - Potato',\n",
       "       'Production Supplies - Kitchen & Bar', 'Beverage -- Dispensed Tea',\n",
       "       'Fruit or Vegetable Packaged Snacks', 'Vegetables - Sweet Potato',\n",
       "       'Fruit - Mixed or Assorted', 'Fruit - Berries',\n",
       "       'Bakery and Dessert - Fillings', 'Vegetables - Squash',\n",
       "       'Fruit - Banana', 'Vegetables - Zucchini', 'Vegetables - Rhubarb',\n",
       "       'Vegetables - Mixed or Assorted', 'Vegetables - Cauliflower',\n",
       "       'Vegetables - Broccoli', 'Vegetables - Pumpkin',\n",
       "       'Menu Items - Bean or Grain Dishes', 'Beans & Legumes',\n",
       "       'Dairy -- Butter & Margarine', 'Fruit Butters', 'Cereals',\n",
       "       'Vinegars by Type', 'Beverage -- Fermented',\n",
       "       'Beverage -- Clinical & Nutritional',\n",
       "       'Snacking Nuts & Trail Mixes Incl Bars',\n",
       "       'Straw - Coaster - Skewer & Related - Disposable',\n",
       "       'Vegetables - Garlic', 'Menu Items - Skewers and Similar',\n",
       "       'Menu Items - Seafood Centric Dishes', 'Tablewares - Disposable',\n",
       "       'Pretzels', 'Seeds - Shelf Stable', 'Whole Grains - All Types ',\n",
       "       'Rice', 'Cephalopods and Shellfish --- Value Added',\n",
       "       'Finfish --- Value Added',\n",
       "       'Frying & Pan Oils and Liquid Butter Alternatives',\n",
       "       'Chips - All Other', 'Popcorn', 'Chips - Potato',\n",
       "       'Chips - Tortilla', 'Water Management', 'Marinades and Brines',\n",
       "       'Vegetables - Artichoke', 'Menu Items - Onions Incl Onion Rings',\n",
       "       'Fruit - Grapes', 'Vegetables - Sprout and Shoot',\n",
       "       'Vegetables - Leek & Scallion', 'Vegetables - Asparagus',\n",
       "       'Micro Greens - Lettuce - Vegetables', 'Vegetables - Turnip',\n",
       "       'Flowers', 'Plants', 'Leafy Greens - Special Edible',\n",
       "       'Vegetables - Yam', 'Trays & Pans - Disposable',\n",
       "       'Containers for Production - Disposable',\n",
       "       'Food Wrap & Sheets - Disposable',\n",
       "       'Production Cups & Lids - Disposable',\n",
       "       'Containers for Service - Disposable',\n",
       "       'Carriers & Trays - Service - Disposable',\n",
       "       'Medical - Health - Wellness', 'Bags - Service - Disposable',\n",
       "       'Cleaning Supplies', 'Cleaning Tools',\n",
       "       'Waste Management Bins & Accessories',\n",
       "       'Cutlery - Service - Disposable', 'Promo & Party - Disposable',\n",
       "       'Textiles - Service', 'Plant Based Proteins',\n",
       "       'Dispensers Of Service Disposables',\n",
       "       'Netting - Cloths - Twine - Disposable',\n",
       "       'Tissues - Towels - Napkins - Disposable', 'Wood & Fuel',\n",
       "       'Production Furnishings & Fixtures', 'Financial & Accounting',\n",
       "       'Facilities HVAC & Lighting', 'Sanitary & Toilet - Disposable',\n",
       "       'Wipes - Disposable', 'Service Wares -- Tableware',\n",
       "       'Personal Amenities', 'Facilities Operations', 'Air Management',\n",
       "       'Warewashing', 'Service Furnishings & Fixtures',\n",
       "       'Facilities Furnishings & Equipment', 'Laundry', 'Pest Control',\n",
       "       'Menu Items - Fruit or Vegetable Dishes',\n",
       "       'Fritters - Felafel - Croquette - Etc',\n",
       "       'Prepared Menu Items - Meal Combos or Kits',\n",
       "       'Prepared Menu Items - Gift', 'Vegetables - Sea',\n",
       "       'Dried or Dehydrated Vegetables', 'Prepared Menu Items - Medical',\n",
       "       'Prepared Menu Items - Ethnic Dishes Excl Pasta',\n",
       "       'Casserole - Gratins - Etc', 'Pet Products Incl Food & Treats',\n",
       "       'Prepared Menu Items - Baby', 'Service Wares -- Lidware', 'Ice',\n",
       "       'Admin -- Chargebacks - Refunds - Credits',\n",
       "       'Lawn & Grounds Management',\n",
       "       'Dairy -- Desserts & Specialties Non-Frozen',\n",
       "       'Finfish --- Alphabetical_OLD'], dtype=object)"
      ]
     },
     "execution_count": 14,
     "metadata": {},
     "output_type": "execute_result"
    }
   ],
   "source": [
    "df.L2_Category.unique()"
   ]
  },
  {
   "cell_type": "code",
   "execution_count": 15,
   "metadata": {
    "colab": {
     "base_uri": "https://localhost:8080/"
    },
    "id": "LzsI4jwep37G",
    "outputId": "2d3fe362-6c58-49bd-bd62-2cb81c8cd05a"
   },
   "outputs": [
    {
     "data": {
      "text/plain": [
       "280"
      ]
     },
     "execution_count": 15,
     "metadata": {},
     "output_type": "execute_result"
    }
   ],
   "source": [
    "# Counting L2 Category classes\n",
    "len(df.L2_Category.unique())"
   ]
  },
  {
   "cell_type": "code",
   "execution_count": 16,
   "metadata": {
    "colab": {
     "base_uri": "https://localhost:8080/"
    },
    "id": "xZfLSzkgmFWo",
    "outputId": "57ea966f-d244-4c1d-dd77-06d8ab4b0db7"
   },
   "outputs": [],
   "source": [
    "# Importing Libraries\n",
    "# import nltk\n",
    "# from nltk.corpus import stopwords\n",
    "\n",
    "# # Download stopwords\n",
    "# nltk.download(\"stopwords\")"
   ]
  },
  {
   "cell_type": "code",
   "execution_count": 17,
   "metadata": {
    "id": "KcpYGFA6YpUh"
   },
   "outputs": [],
   "source": [
    "# Preprocessing fuction for category\n",
    "def class_pre(text):\n",
    "  new_text = re.sub(r'&', 'and', text)\n",
    "  new_text = re.sub(r'[^\\w\\s]',' ', new_text)\n",
    "  new_text = re.sub(r' +', ' ', new_text)\n",
    "  new_text = re.sub(r'\\s', '_', new_text)\n",
    "  return new_text"
   ]
  },
  {
   "cell_type": "code",
   "execution_count": 18,
   "metadata": {
    "id": "MPJ03_NlmKhT"
   },
   "outputs": [],
   "source": [
    "# Did a slight modification, convert & into and\n",
    "# Then removes extra whitespaces\n",
    "\n",
    "# def clean(string):\n",
    "#     string = re.sub('&', 'and ', string)\n",
    "#     raw_text = re.sub(\"[^a-zA-Z]+\", \" \", string)\n",
    "#     raw_text = re.sub(' +', ' ', raw_text)\n",
    "#     raw_text = raw_text.strip()\n",
    "#     words = raw_text.lower().split()\n",
    "#     stops = set(stopwords.words(\"english\"))\n",
    "#     meaningful_words = [\n",
    "#         word for word in words if ((not word in stops) and (len(word) >= 3))\n",
    "#     ]\n",
    "#     string = \" \".join(meaningful_words)\n",
    "#     return string"
   ]
  },
  {
   "cell_type": "code",
   "execution_count": 19,
   "metadata": {
    "id": "6qY81ZBTZ2nz"
   },
   "outputs": [],
   "source": [
    "# uniques = df.L2_Category.unique()\n",
    "\n",
    "# for word in uniques:\n",
    "#   pp = class_pre(word)\n",
    "#   print(pp)"
   ]
  },
  {
   "cell_type": "code",
   "execution_count": 20,
   "metadata": {
    "id": "OBSLq0zFaU5P"
   },
   "outputs": [],
   "source": [
    "# making the category\n",
    "df['L2'] = df['L2_Category'].apply(class_pre)"
   ]
  },
  {
   "cell_type": "code",
   "execution_count": 21,
   "metadata": {
    "id": "R6nUkPtLai7q"
   },
   "outputs": [],
   "source": [
    "# Creating label of the class according to the fasttext format\n",
    "df['category'] = '__label__' + df['L2'].astype(str)"
   ]
  },
  {
   "cell_type": "code",
   "execution_count": 22,
   "metadata": {
    "id": "Iq8zJNDWa3ww"
   },
   "outputs": [],
   "source": [
    "# Drop used columns\n",
    "df = df.drop(['L2_Category', 'L2'], axis=1)"
   ]
  },
  {
   "cell_type": "code",
   "execution_count": 23,
   "metadata": {
    "id": "QoAqWKvQbIjG"
   },
   "outputs": [],
   "source": [
    "# Creating catehory description with producbt name and vendor\n",
    "df['category_description'] = df['category'] + ' ' + df['L1_Class'] + ' ' + df['ProdName']\n",
    "# df['category_description'] = df['L0_Category'] + ' ' + df['L1_Class'] + ' ' + df['ProdName']"
   ]
  },
  {
   "cell_type": "code",
   "execution_count": 24,
   "metadata": {
    "id": "EITn7qKcctYy"
   },
   "outputs": [],
   "source": [
    "#  Drop the columns : ProdName, L0_Category, L1_Class\n",
    "df = df.drop(['ProdName', 'L0_Category', 'L1_Class'], axis=1)"
   ]
  },
  {
   "cell_type": "code",
   "execution_count": 25,
   "metadata": {
    "colab": {
     "base_uri": "https://localhost:8080/",
     "height": 206
    },
    "id": "iXBynlnHgTDN",
    "outputId": "de644662-0849-4e82-a718-6888343297b0"
   },
   "outputs": [
    {
     "data": {
      "text/html": [
       "<div>\n",
       "<style scoped>\n",
       "    .dataframe tbody tr th:only-of-type {\n",
       "        vertical-align: middle;\n",
       "    }\n",
       "\n",
       "    .dataframe tbody tr th {\n",
       "        vertical-align: top;\n",
       "    }\n",
       "\n",
       "    .dataframe thead th {\n",
       "        text-align: right;\n",
       "    }\n",
       "</style>\n",
       "<table border=\"1\" class=\"dataframe\">\n",
       "  <thead>\n",
       "    <tr style=\"text-align: right;\">\n",
       "      <th></th>\n",
       "      <th>category</th>\n",
       "      <th>category_description</th>\n",
       "    </tr>\n",
       "  </thead>\n",
       "  <tbody>\n",
       "    <tr>\n",
       "      <th>1</th>\n",
       "      <td>__label__Beef_Ground_and_Shapes</td>\n",
       "      <td>__label__Beef_Ground_and_Shapes Food - Meat &amp; ...</td>\n",
       "    </tr>\n",
       "    <tr>\n",
       "      <th>2</th>\n",
       "      <td>__label__Beef_Foodservice_Whole_Cuts</td>\n",
       "      <td>__label__Beef_Foodservice_Whole_Cuts Food - Me...</td>\n",
       "    </tr>\n",
       "    <tr>\n",
       "      <th>3</th>\n",
       "      <td>__label__Beef_Deli_and_Charcuterie</td>\n",
       "      <td>__label__Beef_Deli_and_Charcuterie Food - Meat...</td>\n",
       "    </tr>\n",
       "    <tr>\n",
       "      <th>4</th>\n",
       "      <td>__label__Beef_Deli_and_Charcuterie</td>\n",
       "      <td>__label__Beef_Deli_and_Charcuterie Food - Meat...</td>\n",
       "    </tr>\n",
       "    <tr>\n",
       "      <th>5</th>\n",
       "      <td>__label__Beef_Deli_and_Charcuterie</td>\n",
       "      <td>__label__Beef_Deli_and_Charcuterie Food - Meat...</td>\n",
       "    </tr>\n",
       "  </tbody>\n",
       "</table>\n",
       "</div>"
      ],
      "text/plain": [
       "                               category  \\\n",
       "1       __label__Beef_Ground_and_Shapes   \n",
       "2  __label__Beef_Foodservice_Whole_Cuts   \n",
       "3    __label__Beef_Deli_and_Charcuterie   \n",
       "4    __label__Beef_Deli_and_Charcuterie   \n",
       "5    __label__Beef_Deli_and_Charcuterie   \n",
       "\n",
       "                                category_description  \n",
       "1  __label__Beef_Ground_and_Shapes Food - Meat & ...  \n",
       "2  __label__Beef_Foodservice_Whole_Cuts Food - Me...  \n",
       "3  __label__Beef_Deli_and_Charcuterie Food - Meat...  \n",
       "4  __label__Beef_Deli_and_Charcuterie Food - Meat...  \n",
       "5  __label__Beef_Deli_and_Charcuterie Food - Meat...  "
      ]
     },
     "execution_count": 25,
     "metadata": {},
     "output_type": "execute_result"
    }
   ],
   "source": [
    "df.head()"
   ]
  },
  {
   "cell_type": "code",
   "execution_count": 26,
   "metadata": {
    "id": "NfcLc-I7hb61"
   },
   "outputs": [],
   "source": [
    "# Replace all white spaces whith single space\n",
    "# Remove white spaces in begining and end of the text\n",
    "# Turn text into lower case\n",
    "\n",
    "# Preprocessing Function\n",
    "def preprocess(text):\n",
    "    text = re.sub(r'&', 'and', text)\n",
    "    text = re.sub(r'[^\\w\\s]',' ', text)\n",
    "    text = re.sub(' +', ' ', text)\n",
    "    return text.strip().lower()"
   ]
  },
  {
   "cell_type": "code",
   "execution_count": 27,
   "metadata": {
    "id": "nCBY39B0hmfh"
   },
   "outputs": [],
   "source": [
    "# Apply preprocessing function to 'category_description'\n",
    "\n",
    "df['category_description'] = df['category_description'].apply(preprocess)\n",
    "# df['category_description'] = df['category'].apply(preprocess) + ' ' + df['category_description'].apply(clean)"
   ]
  },
  {
   "cell_type": "code",
   "execution_count": 29,
   "metadata": {
    "id": "16-rL9WQkRBG"
   },
   "outputs": [],
   "source": [
    "# Test Train splitting\n",
    "from sklearn.model_selection import train_test_split\n",
    "\n",
    "train, test = train_test_split(df, test_size=0.02, random_state=42)"
   ]
  },
  {
   "cell_type": "code",
   "execution_count": 30,
   "metadata": {
    "id": "2AcjQGOikj_O"
   },
   "outputs": [],
   "source": [
    "# Save test and train dataset into two differnet files\n",
    "train.to_csv('train_set.train',\n",
    "             columns=[\"category_description\"],\n",
    "             index=False,\n",
    "             header=False)\n",
    "\n",
    "test.to_csv('test_set.train',\n",
    "             columns=[\"category_description\"],\n",
    "             index=False,\n",
    "             header=False)"
   ]
  },
  {
   "cell_type": "code",
   "execution_count": 31,
   "metadata": {
    "colab": {
     "base_uri": "https://localhost:8080/"
    },
    "id": "5Z6ClFQJlBW9",
    "outputId": "f2abd655-4f59-4547-c14d-8d4851bcc429"
   },
   "outputs": [
    {
     "data": {
      "text/plain": [
       "(13917, 0.9586836243443271, 0.9586836243443271)"
      ]
     },
     "execution_count": 31,
     "metadata": {},
     "output_type": "execute_result"
    }
   ],
   "source": [
    "# Fast text model\n",
    "import fasttext\n",
    "\n",
    "model = fasttext.train_supervised(input='train_set.train',\n",
    "                                  dim=600,\n",
    "                                  loss='hs',\n",
    "                                  wordNgrams=3,\n",
    "                                  lr=0.35,\n",
    "                                  epoch=15,\n",
    "                                  minn=3,\n",
    "                                  maxn=5)\n",
    "\n",
    "model.test('test_set.train')"
   ]
  },
  {
   "cell_type": "code",
   "execution_count": 32,
   "metadata": {
    "colab": {
     "base_uri": "https://localhost:8080/"
    },
    "id": "hZd9K33RrjAZ",
    "outputId": "5909db9c-cd30-4e59-c578-e177a988e476"
   },
   "outputs": [
    {
     "data": {
      "text/plain": [
       "(('__label__bags_service_disposable',\n",
       "  '__label__containers_for_service_disposable',\n",
       "  '__label__carriers_and_trays_service_disposable',\n",
       "  '__label__service_wares_tableware',\n",
       "  '__label__dairy_milk_and_cream'),\n",
       " array([9.99511898e-01, 3.30449519e-04, 1.77310591e-04, 4.06580621e-05,\n",
       "        2.72543402e-05]))"
      ]
     },
     "execution_count": 32,
     "metadata": {},
     "output_type": "execute_result"
    }
   ],
   "source": [
    "text = 'Operationals - Service (FOH) Supplies Bag Paper Kraft wine large'\n",
    "text = preprocess(text)\n",
    "model.predict(text, k=5)\n",
    "# True L2 Class = Bags - Service - Disposable"
   ]
  },
  {
   "cell_type": "code",
   "execution_count": 33,
   "metadata": {
    "id": "5bEddQPYPFNU"
   },
   "outputs": [],
   "source": [
    "model.save_model(\"../Models/L2/tuned_model.bin\")"
   ]
  }
 ],
 "metadata": {
  "accelerator": "GPU",
  "colab": {
   "gpuType": "T4",
   "provenance": []
  },
  "kernelspec": {
   "display_name": "Python 3 (ipykernel)",
   "language": "python",
   "name": "python3"
  },
  "language_info": {
   "codemirror_mode": {
    "name": "ipython",
    "version": 3
   },
   "file_extension": ".py",
   "mimetype": "text/x-python",
   "name": "python",
   "nbconvert_exporter": "python",
   "pygments_lexer": "ipython3",
   "version": "3.9.17"
  }
 },
 "nbformat": 4,
 "nbformat_minor": 4
}
